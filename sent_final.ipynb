{
  "nbformat": 4,
  "nbformat_minor": 0,
  "metadata": {
    "colab": {
      "name": "sent_final.ipynb",
      "provenance": [],
      "collapsed_sections": []
    },
    "kernelspec": {
      "name": "python380jvsc74a57bd0b25da695a820bab47f0d4ff02f8dae7e8c26f16952d22fb79404a46791e9f7eb",
      "display_name": "Python 3.8.0 64-bit (conda)"
    },
    "language_info": {
      "name": "python",
      "version": "3.8.0"
    },
    "metadata": {
      "interpreter": {
        "hash": "b25da695a820bab47f0d4ff02f8dae7e8c26f16952d22fb79404a46791e9f7eb"
      }
    }
  },
  "cells": [
    {
      "cell_type": "code",
      "metadata": {
        "colab": {
          "base_uri": "https://localhost:8080/"
        },
        "id": "aHlB9gIjngMd",
        "outputId": "87401b39-95de-42f4-c82b-277521047276"
      },
      "source": [
        "from google.colab import drive\n",
        "drive.mount('/content/drive')"
      ],
      "execution_count": 1,
      "outputs": [
        {
          "output_type": "stream",
          "text": [
            "Mounted at /content/drive\n"
          ],
          "name": "stdout"
        }
      ]
    },
    {
      "cell_type": "code",
      "metadata": {
        "id": "LO9dIecWrdXo",
        "colab": {
          "base_uri": "https://localhost:8080/"
        },
        "outputId": "6e1c848e-cc09-4bf2-d4ec-3a65eebf3ab9"
      },
      "source": [
        "# importing necessary libraries\n",
        "import warnings\n",
        "import pandas as pd\n",
        "import numpy as np\n",
        "import matplotlib.pyplot as plt\n",
        "import seaborn as sns\n",
        "import re\n",
        "import string\n",
        "import nltk\n",
        "from wordcloud import WordCloud, STOPWORDS\n",
        "from nltk.corpus import stopwords\n",
        "from nltk.tokenize import word_tokenize \n",
        "from nltk.corpus import stopwords\n",
        "from nltk.stem.porter import PorterStemmer\n",
        "from nltk.stem import WordNetLemmatizer\n",
        "from nltk.stem.porter import *\n",
        "from textblob import TextBlob\n",
        "from tqdm import tqdm_notebook as tqdm\n",
        "from textblob import TextBlob\n",
        "import sys\n",
        "from nltk.tokenize import word_tokenize,sent_tokenize\n",
        "from nltk.tokenize.toktok import ToktokTokenizer\n",
        "from sklearn.feature_extraction.text import TfidfVectorizer\n",
        "from sklearn.model_selection import train_test_split\n",
        "from imblearn.over_sampling import SMOTE\n",
        "from collections import Counter\n",
        "from imblearn.over_sampling import RandomOverSampler\n",
        "from sklearn.linear_model import LogisticRegression\n",
        "from sklearn.metrics import classification_report, confusion_matrix\n",
        "from sklearn.naive_bayes import MultinomialNB\n",
        "from sklearn.metrics import roc_auc_score\n",
        "from sklearn.ensemble import RandomForestClassifier\n",
        "import xgboost as xgb\n",
        "from xgboost import XGBClassifier\n",
        "from sklearn.preprocessing import LabelEncoder\n",
        "from xgboost import plot_importance\n",
        "from sklearn.model_selection import GridSearchCV\n",
        "from sklearn.model_selection import RandomizedSearchCV\n",
        "from sklearn.metrics import make_scorer\n",
        "from sklearn.metrics import recall_score\n",
        "nltk.download('punkt')\n",
        "nltk.download('stopwords')\n",
        "nltk.download('wordnet')\n",
        "from sklearn.preprocessing import MinMaxScaler\n",
        "from numpy import *\n",
        "from sklearn.metrics.pairwise import pairwise_distances\n",
        "import joblib\n",
        "from sklearn.preprocessing import LabelEncoder"
      ],
      "execution_count": 2,
      "outputs": [
        {
          "output_type": "stream",
          "text": [
            "/usr/local/lib/python3.7/dist-packages/sklearn/externals/six.py:31: FutureWarning: The module is deprecated in version 0.21 and will be removed in version 0.23 since we've dropped support for Python 2.7. Please rely on the official version of six (https://pypi.org/project/six/).\n",
            "  \"(https://pypi.org/project/six/).\", FutureWarning)\n",
            "/usr/local/lib/python3.7/dist-packages/sklearn/utils/deprecation.py:144: FutureWarning: The sklearn.neighbors.base module is  deprecated in version 0.22 and will be removed in version 0.24. The corresponding classes / functions should instead be imported from sklearn.neighbors. Anything that cannot be imported from sklearn.neighbors is now part of the private API.\n",
            "  warnings.warn(message, FutureWarning)\n"
          ],
          "name": "stderr"
        },
        {
          "output_type": "stream",
          "text": [
            "[nltk_data] Downloading package punkt to /root/nltk_data...\n",
            "[nltk_data]   Unzipping tokenizers/punkt.zip.\n",
            "[nltk_data] Downloading package stopwords to /root/nltk_data...\n",
            "[nltk_data]   Unzipping corpora/stopwords.zip.\n",
            "[nltk_data] Downloading package wordnet to /root/nltk_data...\n",
            "[nltk_data]   Unzipping corpora/wordnet.zip.\n"
          ],
          "name": "stdout"
        }
      ]
    },
    {
      "cell_type": "code",
      "metadata": {
        "colab": {
          "base_uri": "https://localhost:8080/",
          "height": 484
        },
        "id": "UUsWgss4r17H",
        "outputId": "884879a9-b981-4725-b2c3-5bd27dec8c42"
      },
      "source": [
        "# read data\n",
        "df=pd.read_csv('/content/drive/MyDrive/Colab Notebooks/sample30.csv')\n",
        "df.tail()"
      ],
      "execution_count": 3,
      "outputs": [
        {
          "output_type": "execute_result",
          "data": {
            "text/html": [
              "<div>\n",
              "<style scoped>\n",
              "    .dataframe tbody tr th:only-of-type {\n",
              "        vertical-align: middle;\n",
              "    }\n",
              "\n",
              "    .dataframe tbody tr th {\n",
              "        vertical-align: top;\n",
              "    }\n",
              "\n",
              "    .dataframe thead th {\n",
              "        text-align: right;\n",
              "    }\n",
              "</style>\n",
              "<table border=\"1\" class=\"dataframe\">\n",
              "  <thead>\n",
              "    <tr style=\"text-align: right;\">\n",
              "      <th></th>\n",
              "      <th>id</th>\n",
              "      <th>brand</th>\n",
              "      <th>categories</th>\n",
              "      <th>manufacturer</th>\n",
              "      <th>name</th>\n",
              "      <th>reviews_date</th>\n",
              "      <th>reviews_didPurchase</th>\n",
              "      <th>reviews_doRecommend</th>\n",
              "      <th>reviews_rating</th>\n",
              "      <th>reviews_text</th>\n",
              "      <th>reviews_title</th>\n",
              "      <th>reviews_userCity</th>\n",
              "      <th>reviews_userProvince</th>\n",
              "      <th>reviews_username</th>\n",
              "      <th>user_sentiment</th>\n",
              "    </tr>\n",
              "  </thead>\n",
              "  <tbody>\n",
              "    <tr>\n",
              "      <th>29995</th>\n",
              "      <td>AVpfW8y_LJeJML437ySW</td>\n",
              "      <td>L'oreal Paris</td>\n",
              "      <td>Beauty,Hair Care,Shampoo &amp; Conditioner,Holiday...</td>\n",
              "      <td>L'oreal Paris</td>\n",
              "      <td>L'or233al Paris Elvive Extraordinary Clay Reba...</td>\n",
              "      <td>2017-01-23T00:00:00.000Z</td>\n",
              "      <td>False</td>\n",
              "      <td>True</td>\n",
              "      <td>5</td>\n",
              "      <td>I got this conditioner with Influenster to try...</td>\n",
              "      <td>Softness!!</td>\n",
              "      <td>NaN</td>\n",
              "      <td>NaN</td>\n",
              "      <td>laurasnchz</td>\n",
              "      <td>Positive</td>\n",
              "    </tr>\n",
              "    <tr>\n",
              "      <th>29996</th>\n",
              "      <td>AVpfW8y_LJeJML437ySW</td>\n",
              "      <td>L'oreal Paris</td>\n",
              "      <td>Beauty,Hair Care,Shampoo &amp; Conditioner,Holiday...</td>\n",
              "      <td>L'oreal Paris</td>\n",
              "      <td>L'or233al Paris Elvive Extraordinary Clay Reba...</td>\n",
              "      <td>2017-01-27T00:00:00.000Z</td>\n",
              "      <td>False</td>\n",
              "      <td>True</td>\n",
              "      <td>5</td>\n",
              "      <td>I love it , I received this for review purpose...</td>\n",
              "      <td>I love it</td>\n",
              "      <td>NaN</td>\n",
              "      <td>NaN</td>\n",
              "      <td>scarlepadilla</td>\n",
              "      <td>Positive</td>\n",
              "    </tr>\n",
              "    <tr>\n",
              "      <th>29997</th>\n",
              "      <td>AVpfW8y_LJeJML437ySW</td>\n",
              "      <td>L'oreal Paris</td>\n",
              "      <td>Beauty,Hair Care,Shampoo &amp; Conditioner,Holiday...</td>\n",
              "      <td>L'oreal Paris</td>\n",
              "      <td>L'or233al Paris Elvive Extraordinary Clay Reba...</td>\n",
              "      <td>2017-01-21T00:00:00.000Z</td>\n",
              "      <td>False</td>\n",
              "      <td>True</td>\n",
              "      <td>5</td>\n",
              "      <td>First of all I love the smell of this product....</td>\n",
              "      <td>Hair is so smooth after use</td>\n",
              "      <td>NaN</td>\n",
              "      <td>NaN</td>\n",
              "      <td>liviasuexo</td>\n",
              "      <td>Positive</td>\n",
              "    </tr>\n",
              "    <tr>\n",
              "      <th>29998</th>\n",
              "      <td>AVpfW8y_LJeJML437ySW</td>\n",
              "      <td>L'oreal Paris</td>\n",
              "      <td>Beauty,Hair Care,Shampoo &amp; Conditioner,Holiday...</td>\n",
              "      <td>L'oreal Paris</td>\n",
              "      <td>L'or233al Paris Elvive Extraordinary Clay Reba...</td>\n",
              "      <td>2017-01-11T00:00:00.000Z</td>\n",
              "      <td>False</td>\n",
              "      <td>True</td>\n",
              "      <td>5</td>\n",
              "      <td>I received this through Influenster and will n...</td>\n",
              "      <td>Perfect for my oily hair!</td>\n",
              "      <td>NaN</td>\n",
              "      <td>NaN</td>\n",
              "      <td>ktreed95</td>\n",
              "      <td>Positive</td>\n",
              "    </tr>\n",
              "    <tr>\n",
              "      <th>29999</th>\n",
              "      <td>AVpfW8y_LJeJML437ySW</td>\n",
              "      <td>L'oreal Paris</td>\n",
              "      <td>Beauty,Hair Care,Shampoo &amp; Conditioner,Holiday...</td>\n",
              "      <td>L'oreal Paris</td>\n",
              "      <td>L'or233al Paris Elvive Extraordinary Clay Reba...</td>\n",
              "      <td>2017-01-19T00:00:00.000Z</td>\n",
              "      <td>False</td>\n",
              "      <td>True</td>\n",
              "      <td>5</td>\n",
              "      <td>I received this product complimentary from inf...</td>\n",
              "      <td>Conditioned into healthy</td>\n",
              "      <td>NaN</td>\n",
              "      <td>NaN</td>\n",
              "      <td>kcoopxoxo</td>\n",
              "      <td>Positive</td>\n",
              "    </tr>\n",
              "  </tbody>\n",
              "</table>\n",
              "</div>"
            ],
            "text/plain": [
              "                         id          brand  ... reviews_username user_sentiment\n",
              "29995  AVpfW8y_LJeJML437ySW  L'oreal Paris  ...       laurasnchz       Positive\n",
              "29996  AVpfW8y_LJeJML437ySW  L'oreal Paris  ...    scarlepadilla       Positive\n",
              "29997  AVpfW8y_LJeJML437ySW  L'oreal Paris  ...       liviasuexo       Positive\n",
              "29998  AVpfW8y_LJeJML437ySW  L'oreal Paris  ...         ktreed95       Positive\n",
              "29999  AVpfW8y_LJeJML437ySW  L'oreal Paris  ...        kcoopxoxo       Positive\n",
              "\n",
              "[5 rows x 15 columns]"
            ]
          },
          "metadata": {
            "tags": []
          },
          "execution_count": 3
        }
      ]
    },
    {
      "cell_type": "code",
      "metadata": {
        "colab": {
          "base_uri": "https://localhost:8080/"
        },
        "id": "4xupB6FDr9VH",
        "outputId": "239e7ddd-0bc4-41f3-873e-fe1174a365f3"
      },
      "source": [
        "# number of rows and columns\n",
        "df.shape"
      ],
      "execution_count": 4,
      "outputs": [
        {
          "output_type": "execute_result",
          "data": {
            "text/plain": [
              "(30000, 15)"
            ]
          },
          "metadata": {
            "tags": []
          },
          "execution_count": 4
        }
      ]
    },
    {
      "cell_type": "code",
      "metadata": {
        "colab": {
          "base_uri": "https://localhost:8080/"
        },
        "id": "sk8guHFdvVNX",
        "outputId": "7293ead5-c9f0-4d87-9863-22c402df0003"
      },
      "source": [
        "# number of null values in each column\n",
        "df.isnull().sum()"
      ],
      "execution_count": 5,
      "outputs": [
        {
          "output_type": "execute_result",
          "data": {
            "text/plain": [
              "id                          0\n",
              "brand                       0\n",
              "categories                  0\n",
              "manufacturer              141\n",
              "name                        0\n",
              "reviews_date               46\n",
              "reviews_didPurchase     14068\n",
              "reviews_doRecommend      2570\n",
              "reviews_rating              0\n",
              "reviews_text                0\n",
              "reviews_title             190\n",
              "reviews_userCity        28071\n",
              "reviews_userProvince    29830\n",
              "reviews_username           63\n",
              "user_sentiment              1\n",
              "dtype: int64"
            ]
          },
          "metadata": {
            "tags": []
          },
          "execution_count": 5
        }
      ]
    },
    {
      "cell_type": "code",
      "metadata": {
        "id": "9i845HTvvZZK",
        "colab": {
          "base_uri": "https://localhost:8080/"
        },
        "outputId": "7f0f9a24-dffb-4f9e-c30d-729a2ab22b65"
      },
      "source": [
        "# data type of each column\n",
        "df.dtypes"
      ],
      "execution_count": 6,
      "outputs": [
        {
          "output_type": "execute_result",
          "data": {
            "text/plain": [
              "id                      object\n",
              "brand                   object\n",
              "categories              object\n",
              "manufacturer            object\n",
              "name                    object\n",
              "reviews_date            object\n",
              "reviews_didPurchase     object\n",
              "reviews_doRecommend     object\n",
              "reviews_rating           int64\n",
              "reviews_text            object\n",
              "reviews_title           object\n",
              "reviews_userCity        object\n",
              "reviews_userProvince    object\n",
              "reviews_username        object\n",
              "user_sentiment          object\n",
              "dtype: object"
            ]
          },
          "metadata": {
            "tags": []
          },
          "execution_count": 6
        }
      ]
    },
    {
      "cell_type": "markdown",
      "metadata": {
        "id": "dEdySrdTmo7d"
      },
      "source": [
        "## 2.Exploratory Data Analysis"
      ]
    },
    {
      "cell_type": "code",
      "metadata": {
        "colab": {
          "base_uri": "https://localhost:8080/",
          "height": 465
        },
        "id": "5uMlE9KU4THW",
        "outputId": "c712cbea-f989-4793-cf5c-6c2313801421"
      },
      "source": [
        "# Wordcloud for review text\n",
        "\n",
        "stopwords = set(STOPWORDS)\n",
        "\n",
        "def show_wordcloud(data, title = None):\n",
        "    wordcloud = WordCloud(\n",
        "        background_color='white',\n",
        "        stopwords=stopwords,\n",
        "        max_words=300,\n",
        "        max_font_size=50, \n",
        "        scale=3,\n",
        "        random_state=2\n",
        ").generate(str(data))\n",
        "\n",
        "    fig = plt.figure(1, figsize=(15, 15))\n",
        "    plt.title('Wordcloud for review text')\n",
        "    plt.axis('off')\n",
        "    if title: \n",
        "        fig.suptitle(title, fontsize=20)\n",
        "        fig.subplots_adjust(top=2.3)\n",
        "\n",
        "    plt.imshow(wordcloud)\n",
        "    plt.show()\n",
        "\n",
        "show_wordcloud(df['reviews_text'])\n"
      ],
      "execution_count": 7,
      "outputs": [
        {
          "output_type": "display_data",
          "data": {
            "image/png": "[encoded data removed]",
            "text/plain": [
              "<Figure size 1080x1080 with 1 Axes>"
            ]
          },
          "metadata": {
            "tags": [],
            "needs_background": "light"
          }
        }
      ]
    },
    {
      "cell_type": "code",
      "metadata": {
        "colab": {
          "base_uri": "https://localhost:8080/",
          "height": 465
        },
        "id": "9ZqThALZu9ct",
        "outputId": "302aef96-adc9-4c63-970b-2662e194f80d"
      },
      "source": [
        "# Wordcloud for review title\n",
        "from wordcloud import WordCloud, STOPWORDS\n",
        "stopwords = set(STOPWORDS)\n",
        "\n",
        "def show_wordcloud(data, title = None):\n",
        "    wordcloud = WordCloud(\n",
        "        background_color='white',\n",
        "        stopwords=stopwords,\n",
        "        max_words=300,\n",
        "        max_font_size=50, \n",
        "        scale=3,\n",
        "        random_state=2\n",
        ").generate(str(data))\n",
        "\n",
        "    fig = plt.figure(1, figsize=(15, 15))\n",
        "    plt.title('Wordcloud for review title')\n",
        "    plt.axis('off')\n",
        "    if title: \n",
        "        fig.suptitle(title, fontsize=20)\n",
        "        fig.subplots_adjust(top=2.3)\n",
        "\n",
        "    plt.imshow(wordcloud)\n",
        "    plt.show()\n",
        "\n",
        "show_wordcloud(df['reviews_title'])\n"
      ],
      "execution_count": 8,
      "outputs": [
        {
          "output_type": "display_data",
          "data": {
            "image/png": "[encoded data removed]",
            "text/plain": [
              "<Figure size 1080x1080 with 1 Axes>"
            ]
          },
          "metadata": {
            "tags": [],
            "needs_background": "light"
          }
        }
      ]
    },
    {
      "cell_type": "code",
      "metadata": {
        "colab": {
          "base_uri": "https://localhost:8080/",
          "height": 459
        },
        "id": "IH7P5InB4eaM",
        "outputId": "8c84a226-e32a-4376-e5a7-6d9f0fbdc123"
      },
      "source": [
        "# value counts of ratings\n",
        "plt.figure(figsize=(7,7))\n",
        "plt.title('Value counts for Ratings')\n",
        "sns.countplot(x='reviews_rating',data=df)\n",
        "plt.show()"
      ],
      "execution_count": 9,
      "outputs": [
        {
          "output_type": "display_data",
          "data": {
            "image/png": "[encoded data removed]",
            "text/plain": [
              "<Figure size 504x504 with 1 Axes>"
            ]
          },
          "metadata": {
            "tags": [],
            "needs_background": "light"
          }
        }
      ]
    },
    {
      "cell_type": "code",
      "metadata": {
        "colab": {
          "base_uri": "https://localhost:8080/",
          "height": 459
        },
        "id": "nLTCc7xQyvGt",
        "outputId": "027c28cd-3b5c-4994-bf95-a029cbd3753d"
      },
      "source": [
        "# Number of positive and negative sentiment for each rating\n",
        "plt.figure(figsize=(7,7))\n",
        "plt.title('Number of positive and negative sentiment for each rating')\n",
        "sns.countplot(x='reviews_rating',data=df, hue='user_sentiment')\n",
        "plt.show()"
      ],
      "execution_count": 10,
      "outputs": [
        {
          "output_type": "display_data",
          "data": {
            "image/png": "[encoded data removed]",
            "text/plain": [
              "<Figure size 504x504 with 1 Axes>"
            ]
          },
          "metadata": {
            "tags": [],
            "needs_background": "light"
          }
        }
      ]
    },
    {
      "cell_type": "code",
      "metadata": {
        "colab": {
          "base_uri": "https://localhost:8080/",
          "height": 458
        },
        "id": "q6qFnmf2qBjb",
        "outputId": "7e7f2597-e804-4505-e05e-35bd04ae7064"
      },
      "source": [
        "# value counts of top 5 maufacturers\n",
        "plt.figure(figsize=(7,7))\n",
        "plt.title('Value counts of top 5 Manufacturers')\n",
        "sns.countplot(x='manufacturer',data=df, order=df['manufacturer'].value_counts().iloc[:5].index)\n",
        "plt.show()"
      ],
      "execution_count": 11,
      "outputs": [
        {
          "output_type": "display_data",
          "data": {
            "image/png": "[encoded data removed]",
            "text/plain": [
              "<Figure size 504x504 with 1 Axes>"
            ]
          },
          "metadata": {
            "tags": [],
            "needs_background": "light"
          }
        }
      ]
    },
    {
      "cell_type": "code",
      "metadata": {
        "colab": {
          "base_uri": "https://localhost:8080/",
          "height": 458
        },
        "id": "yC-a4p6WrQhK",
        "outputId": "abb18f21-13a2-46e6-ce9c-6daffa851aaa"
      },
      "source": [
        "# value counts of top 5 brands\n",
        "plt.figure(figsize=(7,7))\n",
        "plt.title('Value counts of top 5 brands')\n",
        "sns.countplot(x='brand',data=df, order=df['brand'].value_counts().iloc[:5].index)\n",
        "plt.show()"
      ],
      "execution_count": 12,
      "outputs": [
        {
          "output_type": "display_data",
          "data": {
            "image/png": "[encoded data removed]",
            "text/plain": [
              "<Figure size 504x504 with 1 Axes>"
            ]
          },
          "metadata": {
            "tags": [],
            "needs_background": "light"
          }
        }
      ]
    },
    {
      "cell_type": "code",
      "metadata": {
        "colab": {
          "base_uri": "https://localhost:8080/",
          "height": 459
        },
        "id": "4ZWc6w-gyAp-",
        "outputId": "e34ae256-affa-4cf3-cc54-50e232d9f2b7"
      },
      "source": [
        "# value counts of top 5 cities\n",
        "plt.figure(figsize=(7,7))\n",
        "plt.title('Value counts of top 5 cities')\n",
        "sns.countplot(x='reviews_userCity',data=df, order=df['reviews_userCity'].value_counts().iloc[:5].index)\n",
        "plt.show()"
      ],
      "execution_count": 13,
      "outputs": [
        {
          "output_type": "display_data",
          "data": {
            "image/png": "[encoded data removed]",
            "text/plain": [
              "<Figure size 504x504 with 1 Axes>"
            ]
          },
          "metadata": {
            "tags": [],
            "needs_background": "light"
          }
        }
      ]
    },
    {
      "cell_type": "code",
      "metadata": {
        "colab": {
          "base_uri": "https://localhost:8080/",
          "height": 459
        },
        "id": "pMeTedfMxCoN",
        "outputId": "53da9909-89d6-4e58-a1ac-23a71154d0ee"
      },
      "source": [
        "# Number of reviewed items were purchased or not\n",
        "plt.figure(figsize=(7,7))\n",
        "plt.title('Number of reviewed items were purchased or not')\n",
        "sns.countplot(x='reviews_didPurchase',data=df)\n",
        "plt.show()"
      ],
      "execution_count": 14,
      "outputs": [
        {
          "output_type": "display_data",
          "data": {
            "image/png": "[encoded data removed]",
            "text/plain": [
              "<Figure size 504x504 with 1 Axes>"
            ]
          },
          "metadata": {
            "tags": [],
            "needs_background": "light"
          }
        }
      ]
    },
    {
      "cell_type": "code",
      "metadata": {
        "colab": {
          "base_uri": "https://localhost:8080/",
          "height": 264
        },
        "id": "TB3Alm3Xnjdc",
        "outputId": "20f45777-e595-4619-88c1-744678ea325d"
      },
      "source": [
        "# Data imbalance\n",
        "x=df['user_sentiment'].value_counts()\n",
        "fig1, ax1 = plt.subplots()\n",
        "plt.title('Data Imbalance')\n",
        "ax1.pie(x,labels=['Positive','Negative'], autopct='%1.1f%%')\n",
        "plt.show()"
      ],
      "execution_count": 15,
      "outputs": [
        {
          "output_type": "display_data",
          "data": {
            "image/png": "[encoded data removed]",
            "text/plain": [
              "<Figure size 432x288 with 1 Axes>"
            ]
          },
          "metadata": {
            "tags": []
          }
        }
      ]
    },
    {
      "cell_type": "markdown",
      "metadata": {
        "id": "DN7vfOv52be0"
      },
      "source": [
        "## 3. Data Cleaning"
      ]
    },
    {
      "cell_type": "code",
      "metadata": {
        "id": "XB87nqXKGts4"
      },
      "source": [
        "#function - removing the stopwords\n",
        "def remove_stopwords(text, is_lower_case=False):\n",
        "  tokenizer=ToktokTokenizer()\n",
        "  stopword_list=set(nltk.corpus.stopwords.words('english'))\n",
        "  tokens = tokenizer.tokenize(text)\n",
        "  tokens = [token.strip() for token in tokens]\n",
        "  if is_lower_case:\n",
        "    filtered_tokens = [token for token in tokens if token not in stopword_list]\n",
        "  else:\n",
        "    filtered_tokens = [token for token in tokens if token.lower() not in stopword_list]\n",
        "  filtered_text = ' '.join(filtered_tokens)    \n",
        "  return filtered_text"
      ],
      "execution_count": 16,
      "outputs": []
    },
    {
      "cell_type": "code",
      "metadata": {
        "id": "D_9yoh3CGxbJ"
      },
      "source": [
        "#function - Stemming the text\n",
        "def simple_stemmer(text):\n",
        "  ps=PorterStemmer()\n",
        "  text= ' '.join([ps.stem(word) for word in text.split()])\n",
        "  return text"
      ],
      "execution_count": 17,
      "outputs": []
    },
    {
      "cell_type": "code",
      "metadata": {
        "id": "AFFEvdw6FFBH"
      },
      "source": [
        "def clean(sent_df, keep_name=False):\n",
        "  if keep_name==True:\n",
        "    sent_df = sent_df[['name','reviews_text','reviews_title','user_sentiment']]\n",
        "    col=['name','reviews_text_title','user_sentiment']\n",
        "  elif keep_name==False:\n",
        "    sent_df = sent_df[['reviews_text','reviews_title','user_sentiment']]\n",
        "    col=['reviews_text_title','user_sentiment']\n",
        "\n",
        "  # Dropping the row which has null in user_sentiment\n",
        "  sent_df = sent_df.dropna(subset=['user_sentiment'])\n",
        "\n",
        "  # concatenate review text and title\n",
        "  sent_df = sent_df.replace(np.nan, '', regex=True)\n",
        "  sent_df['reviews_text_title']= sent_df['reviews_text'].str.cat(sent_df['reviews_title'],sep=\" \")\n",
        "  sent_df=sent_df.reset_index(drop=True)\n",
        "\n",
        "  # drop review text and review title columns\n",
        "  sent_df.drop(['reviews_title','reviews_text'], axis='columns', inplace=True)\n",
        "  sent_df=sent_df.loc[:,col]\n",
        "\n",
        "  ## Lowercase\n",
        "  sent_df['reviews_text_title'] = sent_df['reviews_text_title'].str.lower()\n",
        "  \n",
        "  # remove special characters\n",
        "  sent_df[\"reviews_text_title\"] = sent_df[\"reviews_text_title\"].str.replace('[^\\w\\s]','')\n",
        "\n",
        "  # removing stop words\n",
        "  stopword_list=set(nltk.corpus.stopwords.words('english'))\n",
        "  sent_df['reviews_text_title']=sent_df['reviews_text_title'].apply(remove_stopwords)\n",
        "\n",
        "  #stemming\n",
        "  sent_df['reviews_text_title']=sent_df['reviews_text_title'].apply(simple_stemmer)\n",
        "\n",
        "  return sent_df"
      ],
      "execution_count": 18,
      "outputs": []
    },
    {
      "cell_type": "code",
      "metadata": {
        "id": "B7InzJ2hJvjM"
      },
      "source": [
        "import gzip, pickle,pickletools\n",
        "sent_df=clean(df,keep_name=False)"
      ],
      "execution_count": 25,
      "outputs": []
    },
    {
      "cell_type": "code",
      "metadata": {
        "colab": {
          "base_uri": "https://localhost:8080/",
          "height": 196
        },
        "id": "wltsT9n-NzJP",
        "outputId": "97bbd5c9-222d-4694-c6ea-8e4550d412c7"
      },
      "source": [
        "sent_df.head()"
      ],
      "execution_count": 26,
      "outputs": [
        {
          "output_type": "execute_result",
          "data": {
            "text/html": [
              "<div>\n",
              "<style scoped>\n",
              "    .dataframe tbody tr th:only-of-type {\n",
              "        vertical-align: middle;\n",
              "    }\n",
              "\n",
              "    .dataframe tbody tr th {\n",
              "        vertical-align: top;\n",
              "    }\n",
              "\n",
              "    .dataframe thead th {\n",
              "        text-align: right;\n",
              "    }\n",
              "</style>\n",
              "<table border=\"1\" class=\"dataframe\">\n",
              "  <thead>\n",
              "    <tr style=\"text-align: right;\">\n",
              "      <th></th>\n",
              "      <th>reviews_text_title</th>\n",
              "      <th>user_sentiment</th>\n",
              "    </tr>\n",
              "  </thead>\n",
              "  <tbody>\n",
              "    <tr>\n",
              "      <th>0</th>\n",
              "      <td>love album good hip hop side current pop sound...</td>\n",
              "      <td>Positive</td>\n",
              "    </tr>\n",
              "    <tr>\n",
              "      <th>1</th>\n",
              "      <td>good flavor review collect part promot good</td>\n",
              "      <td>Positive</td>\n",
              "    </tr>\n",
              "    <tr>\n",
              "      <th>2</th>\n",
              "      <td>good flavor good</td>\n",
              "      <td>Positive</td>\n",
              "    </tr>\n",
              "    <tr>\n",
              "      <th>3</th>\n",
              "      <td>read review look buy one coupl lubric ultim di...</td>\n",
              "      <td>Negative</td>\n",
              "    </tr>\n",
              "    <tr>\n",
              "      <th>4</th>\n",
              "      <td>husband bought gel us gel caus irrit felt like...</td>\n",
              "      <td>Negative</td>\n",
              "    </tr>\n",
              "  </tbody>\n",
              "</table>\n",
              "</div>"
            ],
            "text/plain": [
              "                                  reviews_text_title user_sentiment\n",
              "0  love album good hip hop side current pop sound...       Positive\n",
              "1        good flavor review collect part promot good       Positive\n",
              "2                                   good flavor good       Positive\n",
              "3  read review look buy one coupl lubric ultim di...       Negative\n",
              "4  husband bought gel us gel caus irrit felt like...       Negative"
            ]
          },
          "metadata": {
            "tags": []
          },
          "execution_count": 26
        }
      ]
    },
    {
      "cell_type": "markdown",
      "metadata": {
        "id": "UwJ-kgJ_kjO8"
      },
      "source": [
        "## 4. Modelling"
      ]
    },
    {
      "cell_type": "code",
      "metadata": {
        "id": "IYNLBcLuA4EF"
      },
      "source": [
        "# labelling positive as 1 and negative as 0\n",
        "def sentiment_binary(x):\n",
        "  if x.lower() == 'positive':\n",
        "    x=1\n",
        "  elif x.lower() == 'negative':\n",
        "    x=0\n",
        "  return x\n",
        "sent_df['user_sentiment']=sent_df['user_sentiment'].apply(sentiment_binary)"
      ],
      "execution_count": 27,
      "outputs": []
    },
    {
      "cell_type": "code",
      "metadata": {
        "id": "DY6PV9hpN6f1"
      },
      "source": [
        "filepath = \"/content/drive/MyDrive/Colab Notebooks/sent_df.pkl\"\n",
        "with gzip.open(filepath, \"wb\") as f:\n",
        "    pickled = pickle.dumps(sent_df)\n",
        "    optimized_pickle = pickletools.optimize(pickled)\n",
        "    f.write(optimized_pickle)"
      ],
      "execution_count": 28,
      "outputs": []
    },
    {
      "cell_type": "code",
      "metadata": {
        "colab": {
          "base_uri": "https://localhost:8080/",
          "height": 196
        },
        "id": "m-z4Epz-N6lQ",
        "outputId": "49953fe8-b35f-458a-a29b-ccd268d2f0ff"
      },
      "source": [
        "with gzip.open(filepath, 'rb') as f:\n",
        "    p = pickle.Unpickler(f)\n",
        "    sent_df = p.load()\n",
        "sent_df.head()"
      ],
      "execution_count": 29,
      "outputs": [
        {
          "output_type": "execute_result",
          "data": {
            "text/html": [
              "<div>\n",
              "<style scoped>\n",
              "    .dataframe tbody tr th:only-of-type {\n",
              "        vertical-align: middle;\n",
              "    }\n",
              "\n",
              "    .dataframe tbody tr th {\n",
              "        vertical-align: top;\n",
              "    }\n",
              "\n",
              "    .dataframe thead th {\n",
              "        text-align: right;\n",
              "    }\n",
              "</style>\n",
              "<table border=\"1\" class=\"dataframe\">\n",
              "  <thead>\n",
              "    <tr style=\"text-align: right;\">\n",
              "      <th></th>\n",
              "      <th>reviews_text_title</th>\n",
              "      <th>user_sentiment</th>\n",
              "    </tr>\n",
              "  </thead>\n",
              "  <tbody>\n",
              "    <tr>\n",
              "      <th>0</th>\n",
              "      <td>love album good hip hop side current pop sound...</td>\n",
              "      <td>1</td>\n",
              "    </tr>\n",
              "    <tr>\n",
              "      <th>1</th>\n",
              "      <td>good flavor review collect part promot good</td>\n",
              "      <td>1</td>\n",
              "    </tr>\n",
              "    <tr>\n",
              "      <th>2</th>\n",
              "      <td>good flavor good</td>\n",
              "      <td>1</td>\n",
              "    </tr>\n",
              "    <tr>\n",
              "      <th>3</th>\n",
              "      <td>read review look buy one coupl lubric ultim di...</td>\n",
              "      <td>0</td>\n",
              "    </tr>\n",
              "    <tr>\n",
              "      <th>4</th>\n",
              "      <td>husband bought gel us gel caus irrit felt like...</td>\n",
              "      <td>0</td>\n",
              "    </tr>\n",
              "  </tbody>\n",
              "</table>\n",
              "</div>"
            ],
            "text/plain": [
              "                                  reviews_text_title  user_sentiment\n",
              "0  love album good hip hop side current pop sound...               1\n",
              "1        good flavor review collect part promot good               1\n",
              "2                                   good flavor good               1\n",
              "3  read review look buy one coupl lubric ultim di...               0\n",
              "4  husband bought gel us gel caus irrit felt like...               0"
            ]
          },
          "metadata": {
            "tags": []
          },
          "execution_count": 29
        }
      ]
    },
    {
      "cell_type": "code",
      "metadata": {
        "colab": {
          "base_uri": "https://localhost:8080/",
          "height": 196
        },
        "id": "msu0InUxznaz",
        "outputId": "03d90b3c-01e2-47ea-f560-46119621586e"
      },
      "source": [
        "# Putting feature variable to X\n",
        "X = sent_df.drop(['user_sentiment'], axis=1)\n",
        "X.head()"
      ],
      "execution_count": 30,
      "outputs": [
        {
          "output_type": "execute_result",
          "data": {
            "text/html": [
              "<div>\n",
              "<style scoped>\n",
              "    .dataframe tbody tr th:only-of-type {\n",
              "        vertical-align: middle;\n",
              "    }\n",
              "\n",
              "    .dataframe tbody tr th {\n",
              "        vertical-align: top;\n",
              "    }\n",
              "\n",
              "    .dataframe thead th {\n",
              "        text-align: right;\n",
              "    }\n",
              "</style>\n",
              "<table border=\"1\" class=\"dataframe\">\n",
              "  <thead>\n",
              "    <tr style=\"text-align: right;\">\n",
              "      <th></th>\n",
              "      <th>reviews_text_title</th>\n",
              "    </tr>\n",
              "  </thead>\n",
              "  <tbody>\n",
              "    <tr>\n",
              "      <th>0</th>\n",
              "      <td>love album good hip hop side current pop sound...</td>\n",
              "    </tr>\n",
              "    <tr>\n",
              "      <th>1</th>\n",
              "      <td>good flavor review collect part promot good</td>\n",
              "    </tr>\n",
              "    <tr>\n",
              "      <th>2</th>\n",
              "      <td>good flavor good</td>\n",
              "    </tr>\n",
              "    <tr>\n",
              "      <th>3</th>\n",
              "      <td>read review look buy one coupl lubric ultim di...</td>\n",
              "    </tr>\n",
              "    <tr>\n",
              "      <th>4</th>\n",
              "      <td>husband bought gel us gel caus irrit felt like...</td>\n",
              "    </tr>\n",
              "  </tbody>\n",
              "</table>\n",
              "</div>"
            ],
            "text/plain": [
              "                                  reviews_text_title\n",
              "0  love album good hip hop side current pop sound...\n",
              "1        good flavor review collect part promot good\n",
              "2                                   good flavor good\n",
              "3  read review look buy one coupl lubric ultim di...\n",
              "4  husband bought gel us gel caus irrit felt like..."
            ]
          },
          "metadata": {
            "tags": []
          },
          "execution_count": 30
        }
      ]
    },
    {
      "cell_type": "code",
      "metadata": {
        "colab": {
          "base_uri": "https://localhost:8080/"
        },
        "id": "g86OLchGLS6K",
        "outputId": "83aad690-ea81-4f1f-fb72-ab5477c58f66"
      },
      "source": [
        "# Putting sentiment variable to y\n",
        "y = sent_df['user_sentiment']\n",
        "y.head()"
      ],
      "execution_count": 31,
      "outputs": [
        {
          "output_type": "execute_result",
          "data": {
            "text/plain": [
              "0    1\n",
              "1    1\n",
              "2    1\n",
              "3    0\n",
              "4    0\n",
              "Name: user_sentiment, dtype: int64"
            ]
          },
          "metadata": {
            "tags": []
          },
          "execution_count": 31
        }
      ]
    },
    {
      "cell_type": "code",
      "metadata": {
        "colab": {
          "base_uri": "https://localhost:8080/"
        },
        "id": "ktXh1n14LTNf",
        "outputId": "318a5cd7-0139-4485-e15a-a0dd9f460e56"
      },
      "source": [
        "# Splitting the data into train and test\n",
        "X_train, X_test, y_train, y_test = train_test_split(X, y, train_size=0.7, test_size=0.3, random_state=100)\n",
        "print(X_train.shape)\n",
        "print(y_train.shape)\n",
        "print(X_test.shape)\n",
        "print(y_test.shape)"
      ],
      "execution_count": 32,
      "outputs": [
        {
          "output_type": "stream",
          "text": [
            "(20999, 1)\n",
            "(20999,)\n",
            "(9000, 1)\n",
            "(9000,)\n"
          ],
          "name": "stdout"
        }
      ]
    },
    {
      "cell_type": "code",
      "metadata": {
        "id": "ShFHQrLdRlL3"
      },
      "source": [
        "review_train= X_train['reviews_text_title'].to_list()\n",
        "review_test= X_test['reviews_text_title'].to_list()"
      ],
      "execution_count": 33,
      "outputs": []
    },
    {
      "cell_type": "code",
      "metadata": {
        "id": "cpqgXJi8TjnM"
      },
      "source": [
        "sentiment_train= y_train.to_list()\n",
        "sentiment_test= y_test.to_list()"
      ],
      "execution_count": 34,
      "outputs": []
    },
    {
      "cell_type": "code",
      "metadata": {
        "id": "YNAtt-nt9BWU"
      },
      "source": [
        "#Tfidf vectorizer\n",
        "tfidf=TfidfVectorizer(ngram_range=(1,3),min_df=0.001)\n",
        "#transformed train reviews\n",
        "tv_train_reviews=tfidf.fit_transform(review_train)\n",
        "filepath = \"/content/drive/MyDrive/Colab Notebooks/tfidf.pkl\"\n",
        "with gzip.open(filepath, \"wb\") as f:\n",
        "    pickled = pickle.dumps(tfidf)\n",
        "    optimized_pickle = pickletools.optimize(pickled)\n",
        "    f.write(optimized_pickle)"
      ],
      "execution_count": 35,
      "outputs": []
    },
    {
      "cell_type": "code",
      "metadata": {
        "id": "DCr_DRwNOf7d"
      },
      "source": [
        "with gzip.open('/content/drive/MyDrive/Colab Notebooks/tfidf.pkl', 'rb') as f:\n",
        "    p = pickle.Unpickler(f)\n",
        "    tfidf_model  = p.load()"
      ],
      "execution_count": 36,
      "outputs": []
    },
    {
      "cell_type": "code",
      "metadata": {
        "colab": {
          "base_uri": "https://localhost:8080/"
        },
        "id": "hSyEoLmIP_Mp",
        "outputId": "8b0b544b-fd53-4e70-d8c4-18c5b1ae3018"
      },
      "source": [
        "#transformed test reviews\n",
        "tv_test_reviews=tfidf_model.transform(review_test)\n",
        "print('Tfidf_train:',tv_train_reviews.shape)\n",
        "print('Tfidf_test:',tv_test_reviews.shape)"
      ],
      "execution_count": 37,
      "outputs": [
        {
          "output_type": "stream",
          "text": [
            "Tfidf_train: (20999, 3572)\n",
            "Tfidf_test: (9000, 3572)\n"
          ],
          "name": "stdout"
        }
      ]
    },
    {
      "cell_type": "markdown",
      "metadata": {
        "id": "1hcSjM4QTAB7"
      },
      "source": [
        "## SMOTE to handle imblanced data"
      ]
    },
    {
      "cell_type": "code",
      "metadata": {
        "colab": {
          "base_uri": "https://localhost:8080/"
        },
        "id": "XgHSkevCT9V4",
        "outputId": "bb6dd6cd-4654-4bb4-a556-f357137ccd0e"
      },
      "source": [
        "counter = Counter(sentiment_train)\n",
        "print(counter)\n",
        "\n",
        "smt=SMOTE(random_state=20)\n",
        "X_train_sm, y_train_sm = smt.fit_resample(tv_train_reviews,sentiment_train)\n",
        "\n",
        "counter= Counter(y_train_sm)\n",
        "print(counter)"
      ],
      "execution_count": 38,
      "outputs": [
        {
          "output_type": "stream",
          "text": [
            "Counter({1: 18647, 0: 2352})\n"
          ],
          "name": "stdout"
        },
        {
          "output_type": "stream",
          "text": [
            "/usr/local/lib/python3.7/dist-packages/sklearn/utils/deprecation.py:87: FutureWarning: Function safe_indexing is deprecated; safe_indexing is deprecated in version 0.22 and will be removed in version 0.24.\n",
            "  warnings.warn(msg, category=FutureWarning)\n"
          ],
          "name": "stderr"
        },
        {
          "output_type": "stream",
          "text": [
            "Counter({1: 18647, 0: 18647})\n"
          ],
          "name": "stdout"
        }
      ]
    },
    {
      "cell_type": "markdown",
      "metadata": {
        "id": "t4TZ6hnCgXSt"
      },
      "source": [
        "## Random oversampling to handle data imbalance"
      ]
    },
    {
      "cell_type": "code",
      "metadata": {
        "colab": {
          "base_uri": "https://localhost:8080/"
        },
        "id": "WD1dzBQ-d4ws",
        "outputId": "82272368-5050-49e9-88b0-3833ff58bb2b"
      },
      "source": [
        "counter = Counter(sentiment_train)\n",
        "print(counter)\n",
        "\n",
        "rov=RandomOverSampler(sampling_strategy='minority', random_state=20)\n",
        "X_train_rov, y_train_rov = rov.fit_resample(tv_train_reviews,sentiment_train)\n",
        "\n",
        "counter= Counter(y_train_rov)\n",
        "print(counter)"
      ],
      "execution_count": 39,
      "outputs": [
        {
          "output_type": "stream",
          "text": [
            "Counter({1: 18647, 0: 2352})\n",
            "Counter({1: 18647, 0: 18647})\n"
          ],
          "name": "stdout"
        },
        {
          "output_type": "stream",
          "text": [
            "/usr/local/lib/python3.7/dist-packages/sklearn/utils/deprecation.py:87: FutureWarning: Function safe_indexing is deprecated; safe_indexing is deprecated in version 0.22 and will be removed in version 0.24.\n",
            "  warnings.warn(msg, category=FutureWarning)\n"
          ],
          "name": "stderr"
        }
      ]
    },
    {
      "cell_type": "markdown",
      "metadata": {
        "id": "1vPXrse9iRRa"
      },
      "source": [
        "## Logistic Regression"
      ]
    },
    {
      "cell_type": "code",
      "metadata": {
        "colab": {
          "base_uri": "https://localhost:8080/"
        },
        "id": "bipenYHKgwK1",
        "outputId": "31534b8e-051e-4649-a863-ceebe63cf0d4"
      },
      "source": [
        "lr1 = LogisticRegression(random_state=20, max_iter=200)\n",
        "# for tfidf without handling data imblance\n",
        "lr1.fit(tv_train_reviews,sentiment_train)\n",
        "print(lr1)\n",
        "\n",
        "lr2 = LogisticRegression(random_state=20, max_iter=200)\n",
        "# tfidf with SMOTE\n",
        "lr2.fit(X_train_sm,y_train_sm)\n",
        "print('\\n',lr2)\n",
        "\n",
        "lr3 = LogisticRegression(random_state=20,max_iter=200)\n",
        "#t  tfidf with random oversampling\n",
        "lr3.fit(X_train_rov,y_train_rov)\n",
        "print('\\n',lr3)"
      ],
      "execution_count": 40,
      "outputs": [
        {
          "output_type": "stream",
          "text": [
            "LogisticRegression(C=1.0, class_weight=None, dual=False, fit_intercept=True,\n",
            "                   intercept_scaling=1, l1_ratio=None, max_iter=200,\n",
            "                   multi_class='auto', n_jobs=None, penalty='l2',\n",
            "                   random_state=20, solver='lbfgs', tol=0.0001, verbose=0,\n",
            "                   warm_start=False)\n",
            "\n",
            " LogisticRegression(C=1.0, class_weight=None, dual=False, fit_intercept=True,\n",
            "                   intercept_scaling=1, l1_ratio=None, max_iter=200,\n",
            "                   multi_class='auto', n_jobs=None, penalty='l2',\n",
            "                   random_state=20, solver='lbfgs', tol=0.0001, verbose=0,\n",
            "                   warm_start=False)\n",
            "\n",
            " LogisticRegression(C=1.0, class_weight=None, dual=False, fit_intercept=True,\n",
            "                   intercept_scaling=1, l1_ratio=None, max_iter=200,\n",
            "                   multi_class='auto', n_jobs=None, penalty='l2',\n",
            "                   random_state=20, solver='lbfgs', tol=0.0001, verbose=0,\n",
            "                   warm_start=False)\n"
          ],
          "name": "stdout"
        }
      ]
    },
    {
      "cell_type": "code",
      "metadata": {
        "colab": {
          "base_uri": "https://localhost:8080/"
        },
        "id": "j7jtvlFFht_J",
        "outputId": "adb50dfe-37f2-4f3d-8e3e-6a61eeae1992"
      },
      "source": [
        "# predicting for tfidf wihout handling data imbalance\n",
        "lr_normal_predict=lr1.predict(tv_test_reviews)\n",
        "print(lr_normal_predict)\n",
        "\n",
        "# predicting for tfidf with smote\n",
        "lr_smote_predict=lr2.predict(tv_test_reviews)\n",
        "print(lr_smote_predict)\n",
        "\n",
        "# predicting for tfidf with random oversampling\n",
        "lr_rov_predict=lr3.predict(tv_test_reviews)\n",
        "print(lr_rov_predict)"
      ],
      "execution_count": 41,
      "outputs": [
        {
          "output_type": "stream",
          "text": [
            "[1 1 1 ... 1 1 1]\n",
            "[0 1 0 ... 1 1 1]\n",
            "[0 1 0 ... 1 1 1]\n"
          ],
          "name": "stdout"
        }
      ]
    },
    {
      "cell_type": "code",
      "metadata": {
        "colab": {
          "base_uri": "https://localhost:8080/"
        },
        "id": "9JwYb5YSPUCx",
        "outputId": "c6e5aa8c-025d-46c0-f53e-87d3011041f0"
      },
      "source": [
        "#confusion matrix for normal\n",
        "cm_normal=confusion_matrix(y_test,lr_normal_predict)\n",
        "print(cm_normal)\n",
        "#confusion matrix for tfidf with smote\n",
        "cm_smote=confusion_matrix(y_test,lr_smote_predict)\n",
        "print(cm_smote)\n",
        "#confusion matrix for tfidf with random oversmapling\n",
        "cm_rov=confusion_matrix(y_test,lr_rov_predict)\n",
        "print(cm_rov)"
      ],
      "execution_count": 42,
      "outputs": [
        {
          "output_type": "stream",
          "text": [
            "[[ 226  789]\n",
            " [  47 7938]]\n",
            "[[ 803  212]\n",
            " [ 919 7066]]\n",
            "[[ 827  188]\n",
            " [1004 6981]]\n"
          ],
          "name": "stdout"
        }
      ]
    },
    {
      "cell_type": "code",
      "metadata": {
        "id": "-tBtWAwmhuEj"
      },
      "source": [
        "TP = cm_normal[1,1] # true positive \n",
        "TN = cm_normal[0,0] # true negatives\n",
        "FP = cm_normal[0,1] # false positives\n",
        "FN = cm_normal[1,0] # false negatives\n",
        "sensitivity_lr_normal=TP / float(TP+FN)\n",
        "specificity_lr_normal=TN / float(TN+FP)\n",
        "accuray_lr_normal= (TP+TN)/(TP+TN+FP+FN)\n",
        "roc_lr_normal=roc_auc_score(y_test, lr1.predict_proba(tv_test_reviews)[:,1])"
      ],
      "execution_count": 43,
      "outputs": []
    },
    {
      "cell_type": "code",
      "metadata": {
        "id": "4q2c8rmXhuGV"
      },
      "source": [
        "summary_df = pd.DataFrame(columns=['model', 'sensitivity', 'specificity' , 'accuracy', 'auc_roc_score'])\n",
        "temp_summary = pd.DataFrame({'model':['Logistic Regression'], 'sensitivity': [sensitivity_lr_normal],'specificity': [specificity_lr_normal], 'accuracy': [accuray_lr_normal],\n",
        "                            'auc_roc_score':[roc_lr_normal] })\n",
        "summary_df = pd.concat([summary_df, temp_summary])\n",
        "summary_df = summary_df[['model', 'sensitivity', 'specificity' , 'accuracy', 'auc_roc_score']]"
      ],
      "execution_count": 44,
      "outputs": []
    },
    {
      "cell_type": "code",
      "metadata": {
        "id": "YAIYpjMGDZs-"
      },
      "source": [
        "TP = cm_smote[1,1] # true positive \n",
        "TN = cm_smote[0,0] # true negatives\n",
        "FP = cm_smote[0,1] # false positives\n",
        "FN = cm_smote[1,0] # false negatives\n",
        "sensitivity_lr_smote=TP / float(TP+FN)\n",
        "specificity_lr_smote=TN / float(TN+FP)\n",
        "accuray_lr_smote= (TP+TN)/(TP+TN+FP+FN)\n",
        "roc_lr_smote=roc_auc_score(y_test, lr2.predict_proba(tv_test_reviews)[:,1])"
      ],
      "execution_count": 45,
      "outputs": []
    },
    {
      "cell_type": "code",
      "metadata": {
        "id": "cHa9IO3vDZvS"
      },
      "source": [
        "temp_summary = pd.DataFrame({'model':['Logistic Regression (smote)'], 'sensitivity': [sensitivity_lr_smote],'specificity': [specificity_lr_smote], 'accuracy': [accuray_lr_smote],\n",
        "                            'auc_roc_score':[roc_lr_smote] })\n",
        "summary_df = pd.concat([summary_df, temp_summary])\n",
        "summary_df = summary_df[['model', 'sensitivity', 'specificity' , 'accuracy', 'auc_roc_score']]"
      ],
      "execution_count": 46,
      "outputs": []
    },
    {
      "cell_type": "code",
      "metadata": {
        "colab": {
          "base_uri": "https://localhost:8080/",
          "height": 107
        },
        "id": "5xm5uJyyDZyY",
        "outputId": "66d031c8-2735-4d75-b43d-6a28a6bda763"
      },
      "source": [
        "summary_df"
      ],
      "execution_count": 47,
      "outputs": [
        {
          "output_type": "execute_result",
          "data": {
            "text/html": [
              "<div>\n",
              "<style scoped>\n",
              "    .dataframe tbody tr th:only-of-type {\n",
              "        vertical-align: middle;\n",
              "    }\n",
              "\n",
              "    .dataframe tbody tr th {\n",
              "        vertical-align: top;\n",
              "    }\n",
              "\n",
              "    .dataframe thead th {\n",
              "        text-align: right;\n",
              "    }\n",
              "</style>\n",
              "<table border=\"1\" class=\"dataframe\">\n",
              "  <thead>\n",
              "    <tr style=\"text-align: right;\">\n",
              "      <th></th>\n",
              "      <th>model</th>\n",
              "      <th>sensitivity</th>\n",
              "      <th>specificity</th>\n",
              "      <th>accuracy</th>\n",
              "      <th>auc_roc_score</th>\n",
              "    </tr>\n",
              "  </thead>\n",
              "  <tbody>\n",
              "    <tr>\n",
              "      <th>0</th>\n",
              "      <td>Logistic Regression</td>\n",
              "      <td>0.994114</td>\n",
              "      <td>0.222660</td>\n",
              "      <td>0.907111</td>\n",
              "      <td>0.915283</td>\n",
              "    </tr>\n",
              "    <tr>\n",
              "      <th>0</th>\n",
              "      <td>Logistic Regression (smote)</td>\n",
              "      <td>0.884909</td>\n",
              "      <td>0.791133</td>\n",
              "      <td>0.874333</td>\n",
              "      <td>0.920912</td>\n",
              "    </tr>\n",
              "  </tbody>\n",
              "</table>\n",
              "</div>"
            ],
            "text/plain": [
              "                         model  sensitivity  ...  accuracy  auc_roc_score\n",
              "0          Logistic Regression     0.994114  ...  0.907111       0.915283\n",
              "0  Logistic Regression (smote)     0.884909  ...  0.874333       0.920912\n",
              "\n",
              "[2 rows x 5 columns]"
            ]
          },
          "metadata": {
            "tags": []
          },
          "execution_count": 47
        }
      ]
    },
    {
      "cell_type": "code",
      "metadata": {
        "id": "gBYnGu7qDZ2C"
      },
      "source": [
        "TP = cm_rov[1,1] # true positive \n",
        "TN = cm_rov[0,0] # true negatives\n",
        "FP = cm_rov[0,1] # false positives\n",
        "FN = cm_rov[1,0] # false negatives\n",
        "sensitivity_lr_rov=TP / float(TP+FN)\n",
        "specificity_lr_rov=TN / float(TN+FP)\n",
        "accuray_lr_rov= (TP+TN)/(TP+TN+FP+FN)\n",
        "roc_lr_rov=roc_auc_score(y_test, lr3.predict_proba(tv_test_reviews)[:,1])"
      ],
      "execution_count": 48,
      "outputs": []
    },
    {
      "cell_type": "code",
      "metadata": {
        "id": "HwjYQJj3DZ5A"
      },
      "source": [
        "temp_summary = pd.DataFrame({'model':['Logistic Regression (rov)'], 'sensitivity': [sensitivity_lr_rov],'specificity': [specificity_lr_rov], 'accuracy': [accuray_lr_rov],\n",
        "                            'auc_roc_score':[roc_lr_rov] })\n",
        "summary_df = pd.concat([summary_df, temp_summary])\n",
        "summary_df = summary_df[['model', 'sensitivity', 'specificity' , 'accuracy', 'auc_roc_score']]"
      ],
      "execution_count": 49,
      "outputs": []
    },
    {
      "cell_type": "code",
      "metadata": {
        "colab": {
          "base_uri": "https://localhost:8080/",
          "height": 137
        },
        "id": "WoofdbRJDZ6z",
        "outputId": "4249c404-403f-4e7b-e089-6be88f257b8b"
      },
      "source": [
        "summary_df"
      ],
      "execution_count": 50,
      "outputs": [
        {
          "output_type": "execute_result",
          "data": {
            "text/html": [
              "<div>\n",
              "<style scoped>\n",
              "    .dataframe tbody tr th:only-of-type {\n",
              "        vertical-align: middle;\n",
              "    }\n",
              "\n",
              "    .dataframe tbody tr th {\n",
              "        vertical-align: top;\n",
              "    }\n",
              "\n",
              "    .dataframe thead th {\n",
              "        text-align: right;\n",
              "    }\n",
              "</style>\n",
              "<table border=\"1\" class=\"dataframe\">\n",
              "  <thead>\n",
              "    <tr style=\"text-align: right;\">\n",
              "      <th></th>\n",
              "      <th>model</th>\n",
              "      <th>sensitivity</th>\n",
              "      <th>specificity</th>\n",
              "      <th>accuracy</th>\n",
              "      <th>auc_roc_score</th>\n",
              "    </tr>\n",
              "  </thead>\n",
              "  <tbody>\n",
              "    <tr>\n",
              "      <th>0</th>\n",
              "      <td>Logistic Regression</td>\n",
              "      <td>0.994114</td>\n",
              "      <td>0.222660</td>\n",
              "      <td>0.907111</td>\n",
              "      <td>0.915283</td>\n",
              "    </tr>\n",
              "    <tr>\n",
              "      <th>0</th>\n",
              "      <td>Logistic Regression (smote)</td>\n",
              "      <td>0.884909</td>\n",
              "      <td>0.791133</td>\n",
              "      <td>0.874333</td>\n",
              "      <td>0.920912</td>\n",
              "    </tr>\n",
              "    <tr>\n",
              "      <th>0</th>\n",
              "      <td>Logistic Regression (rov)</td>\n",
              "      <td>0.874264</td>\n",
              "      <td>0.814778</td>\n",
              "      <td>0.867556</td>\n",
              "      <td>0.920642</td>\n",
              "    </tr>\n",
              "  </tbody>\n",
              "</table>\n",
              "</div>"
            ],
            "text/plain": [
              "                         model  sensitivity  ...  accuracy  auc_roc_score\n",
              "0          Logistic Regression     0.994114  ...  0.907111       0.915283\n",
              "0  Logistic Regression (smote)     0.884909  ...  0.874333       0.920912\n",
              "0    Logistic Regression (rov)     0.874264  ...  0.867556       0.920642\n",
              "\n",
              "[3 rows x 5 columns]"
            ]
          },
          "metadata": {
            "tags": []
          },
          "execution_count": 50
        }
      ]
    },
    {
      "cell_type": "markdown",
      "metadata": {
        "id": "uvB36BaLb6hR"
      },
      "source": [
        "## Naive Bayes"
      ]
    },
    {
      "cell_type": "code",
      "metadata": {
        "colab": {
          "base_uri": "https://localhost:8080/"
        },
        "id": "lPYz4tSD__Vq",
        "outputId": "d7300fab-892d-45fe-f559-15167c303202"
      },
      "source": [
        "mnb1 = MultinomialNB()\n",
        "# for tfidf without handling data imblance\n",
        "mnb1.fit(tv_train_reviews,sentiment_train)\n",
        "print(mnb1)\n",
        "\n",
        "mnb2 = MultinomialNB()\n",
        "# tfidf with SMOTE\n",
        "mnb2.fit(X_train_sm,y_train_sm)\n",
        "print('\\n',mnb2)\n",
        "\n",
        "mnb3 = MultinomialNB()\n",
        "# tfidf with random oversampling\n",
        "mnb3.fit(X_train_rov,y_train_rov)\n",
        "print('\\n',mnb3)"
      ],
      "execution_count": 51,
      "outputs": [
        {
          "output_type": "stream",
          "text": [
            "MultinomialNB(alpha=1.0, class_prior=None, fit_prior=True)\n",
            "\n",
            " MultinomialNB(alpha=1.0, class_prior=None, fit_prior=True)\n",
            "\n",
            " MultinomialNB(alpha=1.0, class_prior=None, fit_prior=True)\n"
          ],
          "name": "stdout"
        }
      ]
    },
    {
      "cell_type": "code",
      "metadata": {
        "colab": {
          "base_uri": "https://localhost:8080/"
        },
        "id": "jx6J-sgphS1K",
        "outputId": "102d6fe6-1df6-45c7-b6de-65dd60e80227"
      },
      "source": [
        "# predicting for tfidf wihout handling data imbalance\n",
        "mnb_normal_predict=mnb1.predict(tv_test_reviews)\n",
        "print(mnb_normal_predict)\n",
        "\n",
        "# predicting for tfidf with smote\n",
        "mnb_smote_predict=mnb2.predict(tv_test_reviews)\n",
        "print(mnb_smote_predict)\n",
        "\n",
        "# predicting for tfidf with random oversampling\n",
        "mnb_rov_predict=mnb3.predict(tv_test_reviews)\n",
        "print(mnb_rov_predict)"
      ],
      "execution_count": 52,
      "outputs": [
        {
          "output_type": "stream",
          "text": [
            "[1 1 0 ... 1 1 1]\n",
            "[1 0 0 ... 1 1 1]\n",
            "[0 1 0 ... 1 1 1]\n"
          ],
          "name": "stdout"
        }
      ]
    },
    {
      "cell_type": "code",
      "metadata": {
        "colab": {
          "base_uri": "https://localhost:8080/"
        },
        "id": "9mT4vn_At_tZ",
        "outputId": "95c04dc2-4123-4a44-e914-3e5305c5f962"
      },
      "source": [
        "#confusion matrix for normal\n",
        "cm_normal=confusion_matrix(y_test,mnb_normal_predict)\n",
        "print(cm_normal)\n",
        "#confusion matrix for tfidf with smote\n",
        "cm_smote=confusion_matrix(y_test,mnb_smote_predict)\n",
        "print(cm_smote)\n",
        "#confusion matrix for tfidf with random oversmapling\n",
        "cm_rov=confusion_matrix(y_test,mnb_rov_predict)\n",
        "print(cm_rov)"
      ],
      "execution_count": 53,
      "outputs": [
        {
          "output_type": "stream",
          "text": [
            "[[ 126  889]\n",
            " [ 137 7848]]\n",
            "[[ 696  319]\n",
            " [1301 6684]]\n",
            "[[ 705  310]\n",
            " [1439 6546]]\n"
          ],
          "name": "stdout"
        }
      ]
    },
    {
      "cell_type": "code",
      "metadata": {
        "id": "73dxUeSrLFXd"
      },
      "source": [
        "TP = cm_normal[1,1] # true positive \n",
        "TN = cm_normal[0,0] # true negatives\n",
        "FP = cm_normal[0,1] # false positives\n",
        "FN = cm_normal[1,0] # false negatives\n",
        "sensitivity_mnb_normal=TP / float(TP+FN)\n",
        "specificity_mnb_normal=TN / float(TN+FP)\n",
        "accuray_mnb_normal= (TP+TN)/(TP+TN+FP+FN)\n",
        "roc_mnb_normal=roc_auc_score(y_test, mnb1.predict_proba(tv_test_reviews)[:,1])"
      ],
      "execution_count": 54,
      "outputs": []
    },
    {
      "cell_type": "code",
      "metadata": {
        "colab": {
          "base_uri": "https://localhost:8080/",
          "height": 166
        },
        "id": "07ch8s3mLFXh",
        "outputId": "22fdb66a-0c66-406e-8623-a94e4d4a8492"
      },
      "source": [
        "temp_summary = pd.DataFrame({'model':['Multinomial Naive Bayes'], 'sensitivity': [sensitivity_mnb_normal],'specificity': [specificity_mnb_normal], 'accuracy': [accuray_mnb_normal],\n",
        "                            'auc_roc_score':[roc_mnb_normal] })\n",
        "summary_df = pd.concat([summary_df, temp_summary])\n",
        "summary_df = summary_df[['model', 'sensitivity', 'specificity' , 'accuracy', 'auc_roc_score']]\n",
        "summary_df"
      ],
      "execution_count": 55,
      "outputs": [
        {
          "output_type": "execute_result",
          "data": {
            "text/html": [
              "<div>\n",
              "<style scoped>\n",
              "    .dataframe tbody tr th:only-of-type {\n",
              "        vertical-align: middle;\n",
              "    }\n",
              "\n",
              "    .dataframe tbody tr th {\n",
              "        vertical-align: top;\n",
              "    }\n",
              "\n",
              "    .dataframe thead th {\n",
              "        text-align: right;\n",
              "    }\n",
              "</style>\n",
              "<table border=\"1\" class=\"dataframe\">\n",
              "  <thead>\n",
              "    <tr style=\"text-align: right;\">\n",
              "      <th></th>\n",
              "      <th>model</th>\n",
              "      <th>sensitivity</th>\n",
              "      <th>specificity</th>\n",
              "      <th>accuracy</th>\n",
              "      <th>auc_roc_score</th>\n",
              "    </tr>\n",
              "  </thead>\n",
              "  <tbody>\n",
              "    <tr>\n",
              "      <th>0</th>\n",
              "      <td>Logistic Regression</td>\n",
              "      <td>0.994114</td>\n",
              "      <td>0.222660</td>\n",
              "      <td>0.907111</td>\n",
              "      <td>0.915283</td>\n",
              "    </tr>\n",
              "    <tr>\n",
              "      <th>0</th>\n",
              "      <td>Logistic Regression (smote)</td>\n",
              "      <td>0.884909</td>\n",
              "      <td>0.791133</td>\n",
              "      <td>0.874333</td>\n",
              "      <td>0.920912</td>\n",
              "    </tr>\n",
              "    <tr>\n",
              "      <th>0</th>\n",
              "      <td>Logistic Regression (rov)</td>\n",
              "      <td>0.874264</td>\n",
              "      <td>0.814778</td>\n",
              "      <td>0.867556</td>\n",
              "      <td>0.920642</td>\n",
              "    </tr>\n",
              "    <tr>\n",
              "      <th>0</th>\n",
              "      <td>Multinomial Naive Bayes</td>\n",
              "      <td>0.982843</td>\n",
              "      <td>0.124138</td>\n",
              "      <td>0.886000</td>\n",
              "      <td>0.828940</td>\n",
              "    </tr>\n",
              "  </tbody>\n",
              "</table>\n",
              "</div>"
            ],
            "text/plain": [
              "                         model  sensitivity  ...  accuracy  auc_roc_score\n",
              "0          Logistic Regression     0.994114  ...  0.907111       0.915283\n",
              "0  Logistic Regression (smote)     0.884909  ...  0.874333       0.920912\n",
              "0    Logistic Regression (rov)     0.874264  ...  0.867556       0.920642\n",
              "0      Multinomial Naive Bayes     0.982843  ...  0.886000       0.828940\n",
              "\n",
              "[4 rows x 5 columns]"
            ]
          },
          "metadata": {
            "tags": []
          },
          "execution_count": 55
        }
      ]
    },
    {
      "cell_type": "code",
      "metadata": {
        "id": "K27gTzD5LFXi"
      },
      "source": [
        "TP = cm_smote[1,1] # true positive \n",
        "TN = cm_smote[0,0] # true negatives\n",
        "FP = cm_smote[0,1] # false positives\n",
        "FN = cm_smote[1,0] # false negatives\n",
        "sensitivity_mnb_smote=TP / float(TP+FN)\n",
        "specificity_mnb_smote=TN / float(TN+FP)\n",
        "accuray_mnb_smote= (TP+TN)/(TP+TN+FP+FN)\n",
        "roc_mnb_smote=roc_auc_score(y_test, mnb2.predict_proba(tv_test_reviews)[:,1])"
      ],
      "execution_count": 56,
      "outputs": []
    },
    {
      "cell_type": "code",
      "metadata": {
        "id": "0AkDS5HJLFXl"
      },
      "source": [
        "temp_summary = pd.DataFrame({'model':['Multinomial Naive Bayes (smote)'], 'sensitivity': [sensitivity_mnb_smote],'specificity': [specificity_mnb_smote], 'accuracy': [accuray_mnb_smote],\n",
        "                            'auc_roc_score':[roc_mnb_smote] })\n",
        "summary_df = pd.concat([summary_df, temp_summary])\n",
        "summary_df = summary_df[['model', 'sensitivity', 'specificity' , 'accuracy', 'auc_roc_score']]"
      ],
      "execution_count": 57,
      "outputs": []
    },
    {
      "cell_type": "code",
      "metadata": {
        "colab": {
          "base_uri": "https://localhost:8080/",
          "height": 196
        },
        "id": "AMpHA2uFLFXo",
        "outputId": "e8f5062a-6a46-4d59-d33a-810b4fb31b08"
      },
      "source": [
        "summary_df"
      ],
      "execution_count": 58,
      "outputs": [
        {
          "output_type": "execute_result",
          "data": {
            "text/html": [
              "<div>\n",
              "<style scoped>\n",
              "    .dataframe tbody tr th:only-of-type {\n",
              "        vertical-align: middle;\n",
              "    }\n",
              "\n",
              "    .dataframe tbody tr th {\n",
              "        vertical-align: top;\n",
              "    }\n",
              "\n",
              "    .dataframe thead th {\n",
              "        text-align: right;\n",
              "    }\n",
              "</style>\n",
              "<table border=\"1\" class=\"dataframe\">\n",
              "  <thead>\n",
              "    <tr style=\"text-align: right;\">\n",
              "      <th></th>\n",
              "      <th>model</th>\n",
              "      <th>sensitivity</th>\n",
              "      <th>specificity</th>\n",
              "      <th>accuracy</th>\n",
              "      <th>auc_roc_score</th>\n",
              "    </tr>\n",
              "  </thead>\n",
              "  <tbody>\n",
              "    <tr>\n",
              "      <th>0</th>\n",
              "      <td>Logistic Regression</td>\n",
              "      <td>0.994114</td>\n",
              "      <td>0.222660</td>\n",
              "      <td>0.907111</td>\n",
              "      <td>0.915283</td>\n",
              "    </tr>\n",
              "    <tr>\n",
              "      <th>0</th>\n",
              "      <td>Logistic Regression (smote)</td>\n",
              "      <td>0.884909</td>\n",
              "      <td>0.791133</td>\n",
              "      <td>0.874333</td>\n",
              "      <td>0.920912</td>\n",
              "    </tr>\n",
              "    <tr>\n",
              "      <th>0</th>\n",
              "      <td>Logistic Regression (rov)</td>\n",
              "      <td>0.874264</td>\n",
              "      <td>0.814778</td>\n",
              "      <td>0.867556</td>\n",
              "      <td>0.920642</td>\n",
              "    </tr>\n",
              "    <tr>\n",
              "      <th>0</th>\n",
              "      <td>Multinomial Naive Bayes</td>\n",
              "      <td>0.982843</td>\n",
              "      <td>0.124138</td>\n",
              "      <td>0.886000</td>\n",
              "      <td>0.828940</td>\n",
              "    </tr>\n",
              "    <tr>\n",
              "      <th>0</th>\n",
              "      <td>Multinomial Naive Bayes (smote)</td>\n",
              "      <td>0.837070</td>\n",
              "      <td>0.685714</td>\n",
              "      <td>0.820000</td>\n",
              "      <td>0.841720</td>\n",
              "    </tr>\n",
              "  </tbody>\n",
              "</table>\n",
              "</div>"
            ],
            "text/plain": [
              "                             model  sensitivity  ...  accuracy  auc_roc_score\n",
              "0              Logistic Regression     0.994114  ...  0.907111       0.915283\n",
              "0      Logistic Regression (smote)     0.884909  ...  0.874333       0.920912\n",
              "0        Logistic Regression (rov)     0.874264  ...  0.867556       0.920642\n",
              "0          Multinomial Naive Bayes     0.982843  ...  0.886000       0.828940\n",
              "0  Multinomial Naive Bayes (smote)     0.837070  ...  0.820000       0.841720\n",
              "\n",
              "[5 rows x 5 columns]"
            ]
          },
          "metadata": {
            "tags": []
          },
          "execution_count": 58
        }
      ]
    },
    {
      "cell_type": "code",
      "metadata": {
        "id": "QHmcYAtdLFXs"
      },
      "source": [
        "TP = cm_rov[1,1] # true positive \n",
        "TN = cm_rov[0,0] # true negatives\n",
        "FP = cm_rov[0,1] # false positives\n",
        "FN = cm_rov[1,0] # false negatives\n",
        "sensitivity_mnb_rov=TP / float(TP+FN)\n",
        "specificity_mnb_rov=TN / float(TN+FP)\n",
        "accuray_mnb_rov= (TP+TN)/(TP+TN+FP+FN)\n",
        "roc_mnb_rov=roc_auc_score(y_test, mnb3.predict_proba(tv_test_reviews)[:,1])"
      ],
      "execution_count": 59,
      "outputs": []
    },
    {
      "cell_type": "code",
      "metadata": {
        "id": "2Z0x8z6dLFXv"
      },
      "source": [
        "temp_summary = pd.DataFrame({'model':['Multinomial Naive Bayes (rov)'], 'sensitivity': [sensitivity_mnb_rov],'specificity': [specificity_mnb_rov], 'accuracy': [accuray_mnb_rov],\n",
        "                            'auc_roc_score':[roc_mnb_rov] })\n",
        "summary_df = pd.concat([summary_df, temp_summary])\n",
        "summary_df = summary_df[['model', 'sensitivity', 'specificity' , 'accuracy', 'auc_roc_score']]"
      ],
      "execution_count": 60,
      "outputs": []
    },
    {
      "cell_type": "code",
      "metadata": {
        "colab": {
          "base_uri": "https://localhost:8080/",
          "height": 226
        },
        "id": "DvvWWn-nLFXy",
        "outputId": "d9c61150-a075-44dc-fc1f-2a3fb3407e4f"
      },
      "source": [
        "summary_df"
      ],
      "execution_count": 61,
      "outputs": [
        {
          "output_type": "execute_result",
          "data": {
            "text/html": [
              "<div>\n",
              "<style scoped>\n",
              "    .dataframe tbody tr th:only-of-type {\n",
              "        vertical-align: middle;\n",
              "    }\n",
              "\n",
              "    .dataframe tbody tr th {\n",
              "        vertical-align: top;\n",
              "    }\n",
              "\n",
              "    .dataframe thead th {\n",
              "        text-align: right;\n",
              "    }\n",
              "</style>\n",
              "<table border=\"1\" class=\"dataframe\">\n",
              "  <thead>\n",
              "    <tr style=\"text-align: right;\">\n",
              "      <th></th>\n",
              "      <th>model</th>\n",
              "      <th>sensitivity</th>\n",
              "      <th>specificity</th>\n",
              "      <th>accuracy</th>\n",
              "      <th>auc_roc_score</th>\n",
              "    </tr>\n",
              "  </thead>\n",
              "  <tbody>\n",
              "    <tr>\n",
              "      <th>0</th>\n",
              "      <td>Logistic Regression</td>\n",
              "      <td>0.994114</td>\n",
              "      <td>0.222660</td>\n",
              "      <td>0.907111</td>\n",
              "      <td>0.915283</td>\n",
              "    </tr>\n",
              "    <tr>\n",
              "      <th>0</th>\n",
              "      <td>Logistic Regression (smote)</td>\n",
              "      <td>0.884909</td>\n",
              "      <td>0.791133</td>\n",
              "      <td>0.874333</td>\n",
              "      <td>0.920912</td>\n",
              "    </tr>\n",
              "    <tr>\n",
              "      <th>0</th>\n",
              "      <td>Logistic Regression (rov)</td>\n",
              "      <td>0.874264</td>\n",
              "      <td>0.814778</td>\n",
              "      <td>0.867556</td>\n",
              "      <td>0.920642</td>\n",
              "    </tr>\n",
              "    <tr>\n",
              "      <th>0</th>\n",
              "      <td>Multinomial Naive Bayes</td>\n",
              "      <td>0.982843</td>\n",
              "      <td>0.124138</td>\n",
              "      <td>0.886000</td>\n",
              "      <td>0.828940</td>\n",
              "    </tr>\n",
              "    <tr>\n",
              "      <th>0</th>\n",
              "      <td>Multinomial Naive Bayes (smote)</td>\n",
              "      <td>0.837070</td>\n",
              "      <td>0.685714</td>\n",
              "      <td>0.820000</td>\n",
              "      <td>0.841720</td>\n",
              "    </tr>\n",
              "    <tr>\n",
              "      <th>0</th>\n",
              "      <td>Multinomial Naive Bayes (rov)</td>\n",
              "      <td>0.819787</td>\n",
              "      <td>0.694581</td>\n",
              "      <td>0.805667</td>\n",
              "      <td>0.840723</td>\n",
              "    </tr>\n",
              "  </tbody>\n",
              "</table>\n",
              "</div>"
            ],
            "text/plain": [
              "                             model  sensitivity  ...  accuracy  auc_roc_score\n",
              "0              Logistic Regression     0.994114  ...  0.907111       0.915283\n",
              "0      Logistic Regression (smote)     0.884909  ...  0.874333       0.920912\n",
              "0        Logistic Regression (rov)     0.874264  ...  0.867556       0.920642\n",
              "0          Multinomial Naive Bayes     0.982843  ...  0.886000       0.828940\n",
              "0  Multinomial Naive Bayes (smote)     0.837070  ...  0.820000       0.841720\n",
              "0    Multinomial Naive Bayes (rov)     0.819787  ...  0.805667       0.840723\n",
              "\n",
              "[6 rows x 5 columns]"
            ]
          },
          "metadata": {
            "tags": []
          },
          "execution_count": 61
        }
      ]
    },
    {
      "cell_type": "markdown",
      "metadata": {
        "id": "paasIHT57Kcs"
      },
      "source": [
        "## Random Forest"
      ]
    },
    {
      "cell_type": "code",
      "metadata": {
        "colab": {
          "base_uri": "https://localhost:8080/"
        },
        "id": "Qpp-MPpAvlgv",
        "outputId": "16e752d4-5b5b-4c3a-a4cd-9a97259fef2d"
      },
      "source": [
        "rf1 = RandomForestClassifier(n_estimators=100, max_depth=5, random_state=20)\n",
        "# for tfidf without handling data imblance\n",
        "rf1.fit(tv_train_reviews,sentiment_train)\n",
        "print(rf1)\n",
        "\n",
        "rf2 = RandomForestClassifier(n_estimators=100, max_depth=5, random_state=20)\n",
        "# tfidf with SMOTE\n",
        "rf2.fit(X_train_sm,y_train_sm)\n",
        "print('\\n',rf2)\n",
        "\n",
        "rf3 = RandomForestClassifier(n_estimators=100, max_depth=5, random_state=20)\n",
        "# tfidf with random oversampling\n",
        "rf3.fit(X_train_rov,y_train_rov)\n",
        "print('\\n',rf3)"
      ],
      "execution_count": 62,
      "outputs": [
        {
          "output_type": "stream",
          "text": [
            "RandomForestClassifier(bootstrap=True, ccp_alpha=0.0, class_weight=None,\n",
            "                       criterion='gini', max_depth=5, max_features='auto',\n",
            "                       max_leaf_nodes=None, max_samples=None,\n",
            "                       min_impurity_decrease=0.0, min_impurity_split=None,\n",
            "                       min_samples_leaf=1, min_samples_split=2,\n",
            "                       min_weight_fraction_leaf=0.0, n_estimators=100,\n",
            "                       n_jobs=None, oob_score=False, random_state=20, verbose=0,\n",
            "                       warm_start=False)\n",
            "\n",
            " RandomForestClassifier(bootstrap=True, ccp_alpha=0.0, class_weight=None,\n",
            "                       criterion='gini', max_depth=5, max_features='auto',\n",
            "                       max_leaf_nodes=None, max_samples=None,\n",
            "                       min_impurity_decrease=0.0, min_impurity_split=None,\n",
            "                       min_samples_leaf=1, min_samples_split=2,\n",
            "                       min_weight_fraction_leaf=0.0, n_estimators=100,\n",
            "                       n_jobs=None, oob_score=False, random_state=20, verbose=0,\n",
            "                       warm_start=False)\n",
            "\n",
            " RandomForestClassifier(bootstrap=True, ccp_alpha=0.0, class_weight=None,\n",
            "                       criterion='gini', max_depth=5, max_features='auto',\n",
            "                       max_leaf_nodes=None, max_samples=None,\n",
            "                       min_impurity_decrease=0.0, min_impurity_split=None,\n",
            "                       min_samples_leaf=1, min_samples_split=2,\n",
            "                       min_weight_fraction_leaf=0.0, n_estimators=100,\n",
            "                       n_jobs=None, oob_score=False, random_state=20, verbose=0,\n",
            "                       warm_start=False)\n"
          ],
          "name": "stdout"
        }
      ]
    },
    {
      "cell_type": "code",
      "metadata": {
        "colab": {
          "base_uri": "https://localhost:8080/"
        },
        "id": "gQl0MJU6Bdpa",
        "outputId": "0bd1709b-1c3b-4a24-c45d-b399850827c2"
      },
      "source": [
        "# predicting for tfidf wihout handling data imbalance\n",
        "rf_normal_predict=rf1.predict(tv_test_reviews)\n",
        "print(rf_normal_predict)\n",
        "\n",
        "# predicting for tfidf with smote\n",
        "rf_smote_predict=rf2.predict(tv_test_reviews)\n",
        "print(rf_smote_predict)\n",
        "\n",
        "# predicting for tfidf with random oversampling\n",
        "rf_rov_predict=rf3.predict(tv_test_reviews)\n",
        "print(rf_rov_predict)"
      ],
      "execution_count": 63,
      "outputs": [
        {
          "output_type": "stream",
          "text": [
            "[1 1 1 ... 1 1 1]\n",
            "[1 1 0 ... 1 1 1]\n",
            "[1 1 0 ... 1 1 1]\n"
          ],
          "name": "stdout"
        }
      ]
    },
    {
      "cell_type": "code",
      "metadata": {
        "colab": {
          "base_uri": "https://localhost:8080/"
        },
        "id": "X2l6rN4YBdpb",
        "outputId": "ab3f26a8-b9ed-448c-b4f4-27e51b8b8626"
      },
      "source": [
        "#confusion matrix for normal\n",
        "cm_normal=confusion_matrix(y_test,rf_normal_predict)\n",
        "print(cm_normal)\n",
        "#confusion matrix for tfidf with smote\n",
        "cm_smote=confusion_matrix(y_test,rf_smote_predict)\n",
        "print(cm_smote)\n",
        "#confusion matrix for tfidf with random oversmapling\n",
        "cm_rov=confusion_matrix(y_test,rf_rov_predict)\n",
        "print(cm_rov)"
      ],
      "execution_count": 64,
      "outputs": [
        {
          "output_type": "stream",
          "text": [
            "[[   0 1015]\n",
            " [   0 7985]]\n",
            "[[ 632  383]\n",
            " [1118 6867]]\n",
            "[[ 788  227]\n",
            " [1946 6039]]\n"
          ],
          "name": "stdout"
        }
      ]
    },
    {
      "cell_type": "code",
      "metadata": {
        "id": "zSFgSYV5Bdpb"
      },
      "source": [
        "TP = cm_normal[1,1] # true positive \n",
        "TN = cm_normal[0,0] # true negatives\n",
        "FP = cm_normal[0,1] # false positives\n",
        "FN = cm_normal[1,0] # false negatives\n",
        "sensitivity_rf_normal=TP / float(TP+FN)\n",
        "specificity_rf_normal=TN / float(TN+FP)\n",
        "accuray_rf_normal= (TP+TN)/(TP+TN+FP+FN)\n",
        "roc_rf_normal=roc_auc_score(y_test, rf1.predict_proba(tv_test_reviews)[:,1])"
      ],
      "execution_count": 65,
      "outputs": []
    },
    {
      "cell_type": "code",
      "metadata": {
        "colab": {
          "base_uri": "https://localhost:8080/",
          "height": 256
        },
        "id": "kSb3zOXxBdpb",
        "outputId": "74c88c45-da48-41b2-835a-e808a203735a"
      },
      "source": [
        "temp_summary = pd.DataFrame({'model':['Random Forest'], 'sensitivity': [sensitivity_rf_normal],'specificity': [specificity_rf_normal], 'accuracy': [accuray_rf_normal],\n",
        "                            'auc_roc_score':[roc_rf_normal] })\n",
        "summary_df = pd.concat([summary_df, temp_summary])\n",
        "summary_df = summary_df[['model', 'sensitivity', 'specificity' , 'accuracy', 'auc_roc_score']]\n",
        "summary_df"
      ],
      "execution_count": 66,
      "outputs": [
        {
          "output_type": "execute_result",
          "data": {
            "text/html": [
              "<div>\n",
              "<style scoped>\n",
              "    .dataframe tbody tr th:only-of-type {\n",
              "        vertical-align: middle;\n",
              "    }\n",
              "\n",
              "    .dataframe tbody tr th {\n",
              "        vertical-align: top;\n",
              "    }\n",
              "\n",
              "    .dataframe thead th {\n",
              "        text-align: right;\n",
              "    }\n",
              "</style>\n",
              "<table border=\"1\" class=\"dataframe\">\n",
              "  <thead>\n",
              "    <tr style=\"text-align: right;\">\n",
              "      <th></th>\n",
              "      <th>model</th>\n",
              "      <th>sensitivity</th>\n",
              "      <th>specificity</th>\n",
              "      <th>accuracy</th>\n",
              "      <th>auc_roc_score</th>\n",
              "    </tr>\n",
              "  </thead>\n",
              "  <tbody>\n",
              "    <tr>\n",
              "      <th>0</th>\n",
              "      <td>Logistic Regression</td>\n",
              "      <td>0.994114</td>\n",
              "      <td>0.222660</td>\n",
              "      <td>0.907111</td>\n",
              "      <td>0.915283</td>\n",
              "    </tr>\n",
              "    <tr>\n",
              "      <th>0</th>\n",
              "      <td>Logistic Regression (smote)</td>\n",
              "      <td>0.884909</td>\n",
              "      <td>0.791133</td>\n",
              "      <td>0.874333</td>\n",
              "      <td>0.920912</td>\n",
              "    </tr>\n",
              "    <tr>\n",
              "      <th>0</th>\n",
              "      <td>Logistic Regression (rov)</td>\n",
              "      <td>0.874264</td>\n",
              "      <td>0.814778</td>\n",
              "      <td>0.867556</td>\n",
              "      <td>0.920642</td>\n",
              "    </tr>\n",
              "    <tr>\n",
              "      <th>0</th>\n",
              "      <td>Multinomial Naive Bayes</td>\n",
              "      <td>0.982843</td>\n",
              "      <td>0.124138</td>\n",
              "      <td>0.886000</td>\n",
              "      <td>0.828940</td>\n",
              "    </tr>\n",
              "    <tr>\n",
              "      <th>0</th>\n",
              "      <td>Multinomial Naive Bayes (smote)</td>\n",
              "      <td>0.837070</td>\n",
              "      <td>0.685714</td>\n",
              "      <td>0.820000</td>\n",
              "      <td>0.841720</td>\n",
              "    </tr>\n",
              "    <tr>\n",
              "      <th>0</th>\n",
              "      <td>Multinomial Naive Bayes (rov)</td>\n",
              "      <td>0.819787</td>\n",
              "      <td>0.694581</td>\n",
              "      <td>0.805667</td>\n",
              "      <td>0.840723</td>\n",
              "    </tr>\n",
              "    <tr>\n",
              "      <th>0</th>\n",
              "      <td>Random Forest</td>\n",
              "      <td>1.000000</td>\n",
              "      <td>0.000000</td>\n",
              "      <td>0.887222</td>\n",
              "      <td>0.826942</td>\n",
              "    </tr>\n",
              "  </tbody>\n",
              "</table>\n",
              "</div>"
            ],
            "text/plain": [
              "                             model  sensitivity  ...  accuracy  auc_roc_score\n",
              "0              Logistic Regression     0.994114  ...  0.907111       0.915283\n",
              "0      Logistic Regression (smote)     0.884909  ...  0.874333       0.920912\n",
              "0        Logistic Regression (rov)     0.874264  ...  0.867556       0.920642\n",
              "0          Multinomial Naive Bayes     0.982843  ...  0.886000       0.828940\n",
              "0  Multinomial Naive Bayes (smote)     0.837070  ...  0.820000       0.841720\n",
              "0    Multinomial Naive Bayes (rov)     0.819787  ...  0.805667       0.840723\n",
              "0                    Random Forest     1.000000  ...  0.887222       0.826942\n",
              "\n",
              "[7 rows x 5 columns]"
            ]
          },
          "metadata": {
            "tags": []
          },
          "execution_count": 66
        }
      ]
    },
    {
      "cell_type": "code",
      "metadata": {
        "id": "O-eSk5eCBdpc"
      },
      "source": [
        "TP = cm_smote[1,1] # true positive \n",
        "TN = cm_smote[0,0] # true negatives\n",
        "FP = cm_smote[0,1] # false positives\n",
        "FN = cm_smote[1,0] # false negatives\n",
        "sensitivity_rf_smote=TP / float(TP+FN)\n",
        "specificity_rf_smote=TN / float(TN+FP)\n",
        "accuray_rf_smote= (TP+TN)/(TP+TN+FP+FN)\n",
        "roc_rf_smote=roc_auc_score(y_test, rf2.predict_proba(tv_test_reviews)[:,1])"
      ],
      "execution_count": 67,
      "outputs": []
    },
    {
      "cell_type": "code",
      "metadata": {
        "id": "6NtozXnBBdpc"
      },
      "source": [
        "temp_summary = pd.DataFrame({'model':['Random Forest (smote)'], 'sensitivity': [sensitivity_rf_smote],'specificity': [specificity_rf_smote], 'accuracy': [accuray_rf_smote],\n",
        "                            'auc_roc_score':[roc_rf_smote] })\n",
        "summary_df = pd.concat([summary_df, temp_summary])\n",
        "summary_df = summary_df[['model', 'sensitivity', 'specificity' , 'accuracy', 'auc_roc_score']]"
      ],
      "execution_count": 68,
      "outputs": []
    },
    {
      "cell_type": "code",
      "metadata": {
        "colab": {
          "base_uri": "https://localhost:8080/",
          "height": 286
        },
        "id": "QCNpPw4DBdpd",
        "outputId": "f3e57d10-29e2-42c6-e394-86b8732ee4f1"
      },
      "source": [
        "summary_df"
      ],
      "execution_count": 69,
      "outputs": [
        {
          "output_type": "execute_result",
          "data": {
            "text/html": [
              "<div>\n",
              "<style scoped>\n",
              "    .dataframe tbody tr th:only-of-type {\n",
              "        vertical-align: middle;\n",
              "    }\n",
              "\n",
              "    .dataframe tbody tr th {\n",
              "        vertical-align: top;\n",
              "    }\n",
              "\n",
              "    .dataframe thead th {\n",
              "        text-align: right;\n",
              "    }\n",
              "</style>\n",
              "<table border=\"1\" class=\"dataframe\">\n",
              "  <thead>\n",
              "    <tr style=\"text-align: right;\">\n",
              "      <th></th>\n",
              "      <th>model</th>\n",
              "      <th>sensitivity</th>\n",
              "      <th>specificity</th>\n",
              "      <th>accuracy</th>\n",
              "      <th>auc_roc_score</th>\n",
              "    </tr>\n",
              "  </thead>\n",
              "  <tbody>\n",
              "    <tr>\n",
              "      <th>0</th>\n",
              "      <td>Logistic Regression</td>\n",
              "      <td>0.994114</td>\n",
              "      <td>0.222660</td>\n",
              "      <td>0.907111</td>\n",
              "      <td>0.915283</td>\n",
              "    </tr>\n",
              "    <tr>\n",
              "      <th>0</th>\n",
              "      <td>Logistic Regression (smote)</td>\n",
              "      <td>0.884909</td>\n",
              "      <td>0.791133</td>\n",
              "      <td>0.874333</td>\n",
              "      <td>0.920912</td>\n",
              "    </tr>\n",
              "    <tr>\n",
              "      <th>0</th>\n",
              "      <td>Logistic Regression (rov)</td>\n",
              "      <td>0.874264</td>\n",
              "      <td>0.814778</td>\n",
              "      <td>0.867556</td>\n",
              "      <td>0.920642</td>\n",
              "    </tr>\n",
              "    <tr>\n",
              "      <th>0</th>\n",
              "      <td>Multinomial Naive Bayes</td>\n",
              "      <td>0.982843</td>\n",
              "      <td>0.124138</td>\n",
              "      <td>0.886000</td>\n",
              "      <td>0.828940</td>\n",
              "    </tr>\n",
              "    <tr>\n",
              "      <th>0</th>\n",
              "      <td>Multinomial Naive Bayes (smote)</td>\n",
              "      <td>0.837070</td>\n",
              "      <td>0.685714</td>\n",
              "      <td>0.820000</td>\n",
              "      <td>0.841720</td>\n",
              "    </tr>\n",
              "    <tr>\n",
              "      <th>0</th>\n",
              "      <td>Multinomial Naive Bayes (rov)</td>\n",
              "      <td>0.819787</td>\n",
              "      <td>0.694581</td>\n",
              "      <td>0.805667</td>\n",
              "      <td>0.840723</td>\n",
              "    </tr>\n",
              "    <tr>\n",
              "      <th>0</th>\n",
              "      <td>Random Forest</td>\n",
              "      <td>1.000000</td>\n",
              "      <td>0.000000</td>\n",
              "      <td>0.887222</td>\n",
              "      <td>0.826942</td>\n",
              "    </tr>\n",
              "    <tr>\n",
              "      <th>0</th>\n",
              "      <td>Random Forest (smote)</td>\n",
              "      <td>0.859987</td>\n",
              "      <td>0.622660</td>\n",
              "      <td>0.833222</td>\n",
              "      <td>0.827177</td>\n",
              "    </tr>\n",
              "  </tbody>\n",
              "</table>\n",
              "</div>"
            ],
            "text/plain": [
              "                             model  sensitivity  ...  accuracy  auc_roc_score\n",
              "0              Logistic Regression     0.994114  ...  0.907111       0.915283\n",
              "0      Logistic Regression (smote)     0.884909  ...  0.874333       0.920912\n",
              "0        Logistic Regression (rov)     0.874264  ...  0.867556       0.920642\n",
              "0          Multinomial Naive Bayes     0.982843  ...  0.886000       0.828940\n",
              "0  Multinomial Naive Bayes (smote)     0.837070  ...  0.820000       0.841720\n",
              "0    Multinomial Naive Bayes (rov)     0.819787  ...  0.805667       0.840723\n",
              "0                    Random Forest     1.000000  ...  0.887222       0.826942\n",
              "0            Random Forest (smote)     0.859987  ...  0.833222       0.827177\n",
              "\n",
              "[8 rows x 5 columns]"
            ]
          },
          "metadata": {
            "tags": []
          },
          "execution_count": 69
        }
      ]
    },
    {
      "cell_type": "code",
      "metadata": {
        "id": "HJxh7b8ABdpd"
      },
      "source": [
        "TP = cm_rov[1,1] # true positive \n",
        "TN = cm_rov[0,0] # true negatives\n",
        "FP = cm_rov[0,1] # false positives\n",
        "FN = cm_rov[1,0] # false negatives\n",
        "sensitivity_rf_rov=TP / float(TP+FN)\n",
        "specificity_rf_rov=TN / float(TN+FP)\n",
        "accuray_rf_rov= (TP+TN)/(TP+TN+FP+FN)\n",
        "roc_rf_rov=roc_auc_score(y_test, rf3.predict_proba(tv_test_reviews)[:,1])"
      ],
      "execution_count": 70,
      "outputs": []
    },
    {
      "cell_type": "code",
      "metadata": {
        "id": "FYdg--eVBdpd"
      },
      "source": [
        "temp_summary = pd.DataFrame({'model':['Random Forest (rov)'], 'sensitivity': [sensitivity_rf_rov],'specificity': [specificity_rf_rov], 'accuracy': [accuray_rf_rov],\n",
        "                            'auc_roc_score':[roc_rf_rov] })\n",
        "summary_df = pd.concat([summary_df, temp_summary])\n",
        "summary_df = summary_df[['model', 'sensitivity', 'specificity' , 'accuracy', 'auc_roc_score']]"
      ],
      "execution_count": 71,
      "outputs": []
    },
    {
      "cell_type": "code",
      "metadata": {
        "colab": {
          "base_uri": "https://localhost:8080/",
          "height": 316
        },
        "id": "7opyDqYFBdpe",
        "outputId": "d096b353-749b-4d3b-efaa-08c99311729c"
      },
      "source": [
        "summary_df"
      ],
      "execution_count": 72,
      "outputs": [
        {
          "output_type": "execute_result",
          "data": {
            "text/html": [
              "<div>\n",
              "<style scoped>\n",
              "    .dataframe tbody tr th:only-of-type {\n",
              "        vertical-align: middle;\n",
              "    }\n",
              "\n",
              "    .dataframe tbody tr th {\n",
              "        vertical-align: top;\n",
              "    }\n",
              "\n",
              "    .dataframe thead th {\n",
              "        text-align: right;\n",
              "    }\n",
              "</style>\n",
              "<table border=\"1\" class=\"dataframe\">\n",
              "  <thead>\n",
              "    <tr style=\"text-align: right;\">\n",
              "      <th></th>\n",
              "      <th>model</th>\n",
              "      <th>sensitivity</th>\n",
              "      <th>specificity</th>\n",
              "      <th>accuracy</th>\n",
              "      <th>auc_roc_score</th>\n",
              "    </tr>\n",
              "  </thead>\n",
              "  <tbody>\n",
              "    <tr>\n",
              "      <th>0</th>\n",
              "      <td>Logistic Regression</td>\n",
              "      <td>0.994114</td>\n",
              "      <td>0.222660</td>\n",
              "      <td>0.907111</td>\n",
              "      <td>0.915283</td>\n",
              "    </tr>\n",
              "    <tr>\n",
              "      <th>0</th>\n",
              "      <td>Logistic Regression (smote)</td>\n",
              "      <td>0.884909</td>\n",
              "      <td>0.791133</td>\n",
              "      <td>0.874333</td>\n",
              "      <td>0.920912</td>\n",
              "    </tr>\n",
              "    <tr>\n",
              "      <th>0</th>\n",
              "      <td>Logistic Regression (rov)</td>\n",
              "      <td>0.874264</td>\n",
              "      <td>0.814778</td>\n",
              "      <td>0.867556</td>\n",
              "      <td>0.920642</td>\n",
              "    </tr>\n",
              "    <tr>\n",
              "      <th>0</th>\n",
              "      <td>Multinomial Naive Bayes</td>\n",
              "      <td>0.982843</td>\n",
              "      <td>0.124138</td>\n",
              "      <td>0.886000</td>\n",
              "      <td>0.828940</td>\n",
              "    </tr>\n",
              "    <tr>\n",
              "      <th>0</th>\n",
              "      <td>Multinomial Naive Bayes (smote)</td>\n",
              "      <td>0.837070</td>\n",
              "      <td>0.685714</td>\n",
              "      <td>0.820000</td>\n",
              "      <td>0.841720</td>\n",
              "    </tr>\n",
              "    <tr>\n",
              "      <th>0</th>\n",
              "      <td>Multinomial Naive Bayes (rov)</td>\n",
              "      <td>0.819787</td>\n",
              "      <td>0.694581</td>\n",
              "      <td>0.805667</td>\n",
              "      <td>0.840723</td>\n",
              "    </tr>\n",
              "    <tr>\n",
              "      <th>0</th>\n",
              "      <td>Random Forest</td>\n",
              "      <td>1.000000</td>\n",
              "      <td>0.000000</td>\n",
              "      <td>0.887222</td>\n",
              "      <td>0.826942</td>\n",
              "    </tr>\n",
              "    <tr>\n",
              "      <th>0</th>\n",
              "      <td>Random Forest (smote)</td>\n",
              "      <td>0.859987</td>\n",
              "      <td>0.622660</td>\n",
              "      <td>0.833222</td>\n",
              "      <td>0.827177</td>\n",
              "    </tr>\n",
              "    <tr>\n",
              "      <th>0</th>\n",
              "      <td>Random Forest (rov)</td>\n",
              "      <td>0.756293</td>\n",
              "      <td>0.776355</td>\n",
              "      <td>0.758556</td>\n",
              "      <td>0.858364</td>\n",
              "    </tr>\n",
              "  </tbody>\n",
              "</table>\n",
              "</div>"
            ],
            "text/plain": [
              "                             model  sensitivity  ...  accuracy  auc_roc_score\n",
              "0              Logistic Regression     0.994114  ...  0.907111       0.915283\n",
              "0      Logistic Regression (smote)     0.884909  ...  0.874333       0.920912\n",
              "0        Logistic Regression (rov)     0.874264  ...  0.867556       0.920642\n",
              "0          Multinomial Naive Bayes     0.982843  ...  0.886000       0.828940\n",
              "0  Multinomial Naive Bayes (smote)     0.837070  ...  0.820000       0.841720\n",
              "0    Multinomial Naive Bayes (rov)     0.819787  ...  0.805667       0.840723\n",
              "0                    Random Forest     1.000000  ...  0.887222       0.826942\n",
              "0            Random Forest (smote)     0.859987  ...  0.833222       0.827177\n",
              "0              Random Forest (rov)     0.756293  ...  0.758556       0.858364\n",
              "\n",
              "[9 rows x 5 columns]"
            ]
          },
          "metadata": {
            "tags": []
          },
          "execution_count": 72
        }
      ]
    },
    {
      "cell_type": "markdown",
      "metadata": {
        "id": "pqtr1NdOBdpe"
      },
      "source": [
        "## XGBoost"
      ]
    },
    {
      "cell_type": "code",
      "metadata": {
        "colab": {
          "base_uri": "https://localhost:8080/"
        },
        "id": "Vcd5oJDEMCv1",
        "outputId": "2226fd83-d450-4cb8-ad6d-ae05f1d3ca88"
      },
      "source": [
        "xg1 = xgb.XGBClassifier(random_state=20)\n",
        "# for tfidf without handling data imblance\n",
        "xg1.fit(tv_train_reviews,sentiment_train)\n",
        "print(xg1)\n",
        "\n",
        "xg2 = xgb.XGBClassifier(random_state=20)\n",
        "# tfidf with SMOTE\n",
        "xg2.fit(X_train_sm,y_train_sm)\n",
        "print('\\n',xg2)\n",
        "\n",
        "xg3 = xgb.XGBClassifier(random_state=20)\n",
        "# tfidf with random oversampling\n",
        "xg3.fit(X_train_rov,y_train_rov)\n",
        "print('\\n',xg3)"
      ],
      "execution_count": 73,
      "outputs": [
        {
          "output_type": "stream",
          "text": [
            "XGBClassifier(base_score=0.5, booster='gbtree', colsample_bylevel=1,\n",
            "              colsample_bynode=1, colsample_bytree=1, gamma=0,\n",
            "              learning_rate=0.1, max_delta_step=0, max_depth=3,\n",
            "              min_child_weight=1, missing=None, n_estimators=100, n_jobs=1,\n",
            "              nthread=None, objective='binary:logistic', random_state=20,\n",
            "              reg_alpha=0, reg_lambda=1, scale_pos_weight=1, seed=None,\n",
            "              silent=None, subsample=1, verbosity=1)\n",
            "\n",
            " XGBClassifier(base_score=0.5, booster='gbtree', colsample_bylevel=1,\n",
            "              colsample_bynode=1, colsample_bytree=1, gamma=0,\n",
            "              learning_rate=0.1, max_delta_step=0, max_depth=3,\n",
            "              min_child_weight=1, missing=None, n_estimators=100, n_jobs=1,\n",
            "              nthread=None, objective='binary:logistic', random_state=20,\n",
            "              reg_alpha=0, reg_lambda=1, scale_pos_weight=1, seed=None,\n",
            "              silent=None, subsample=1, verbosity=1)\n",
            "\n",
            " XGBClassifier(base_score=0.5, booster='gbtree', colsample_bylevel=1,\n",
            "              colsample_bynode=1, colsample_bytree=1, gamma=0,\n",
            "              learning_rate=0.1, max_delta_step=0, max_depth=3,\n",
            "              min_child_weight=1, missing=None, n_estimators=100, n_jobs=1,\n",
            "              nthread=None, objective='binary:logistic', random_state=20,\n",
            "              reg_alpha=0, reg_lambda=1, scale_pos_weight=1, seed=None,\n",
            "              silent=None, subsample=1, verbosity=1)\n"
          ],
          "name": "stdout"
        }
      ]
    },
    {
      "cell_type": "code",
      "metadata": {
        "colab": {
          "base_uri": "https://localhost:8080/"
        },
        "id": "IOpeNR2BMCv5",
        "outputId": "8d893dbb-4899-4614-8a6f-ac1a256b61c3"
      },
      "source": [
        "# predicting for tfidf wihout handling data imbalance\n",
        "xg1._le = LabelEncoder().fit(y_test)\n",
        "xg_normal_predict=xg1.predict(tv_test_reviews)\n",
        "print(xg_normal_predict)\n",
        "\n",
        "# predicting for tfidf with smote\n",
        "xg2._le = LabelEncoder().fit(y_test)\n",
        "xg_smote_predict=xg2.predict(tv_test_reviews)\n",
        "print(rf_smote_predict)\n",
        "\n",
        "# predicting for tfidf with random oversampling\n",
        "xg3._le = LabelEncoder().fit(y_test)\n",
        "xg_rov_predict=xg3.predict(tv_test_reviews)\n",
        "print(rf_rov_predict)"
      ],
      "execution_count": 74,
      "outputs": [
        {
          "output_type": "stream",
          "text": [
            "[1 1 1 ... 1 1 1]\n",
            "[1 1 0 ... 1 1 1]\n",
            "[1 1 0 ... 1 1 1]\n"
          ],
          "name": "stdout"
        }
      ]
    },
    {
      "cell_type": "code",
      "metadata": {
        "colab": {
          "base_uri": "https://localhost:8080/"
        },
        "id": "hnsImUXLMCv6",
        "outputId": "9d9404bf-9e6c-4cb7-94da-0c4136d6f1ef"
      },
      "source": [
        "#confusion matrix for normal\n",
        "cm_normal=confusion_matrix(y_test,xg_normal_predict)\n",
        "print(cm_normal)\n",
        "#confusion matrix for tfidf with smote\n",
        "cm_smote=confusion_matrix(y_test,xg_smote_predict)\n",
        "print(cm_smote)\n",
        "#confusion matrix for tfidf with random oversmapling\n",
        "cm_rov=confusion_matrix(y_test,xg_rov_predict)\n",
        "print(cm_rov)"
      ],
      "execution_count": 75,
      "outputs": [
        {
          "output_type": "stream",
          "text": [
            "[[  96  919]\n",
            " [  22 7963]]\n",
            "[[ 643  372]\n",
            " [1136 6849]]\n",
            "[[ 851  164]\n",
            " [1726 6259]]\n"
          ],
          "name": "stdout"
        }
      ]
    },
    {
      "cell_type": "code",
      "metadata": {
        "id": "1gtKRtRPMCv7"
      },
      "source": [
        "TP = cm_normal[1,1] # true positive \n",
        "TN = cm_normal[0,0] # true negatives\n",
        "FP = cm_normal[0,1] # false positives\n",
        "FN = cm_normal[1,0] # false negatives\n",
        "sensitivity_xg_normal=TP / float(TP+FN)\n",
        "specificity_xg_normal=TN / float(TN+FP)\n",
        "accuray_xg_normal= (TP+TN)/(TP+TN+FP+FN)\n",
        "roc_xg_normal=roc_auc_score(y_test, xg1.predict_proba(tv_test_reviews)[:,1])"
      ],
      "execution_count": 76,
      "outputs": []
    },
    {
      "cell_type": "code",
      "metadata": {
        "colab": {
          "base_uri": "https://localhost:8080/",
          "height": 345
        },
        "id": "TGL9Hd7rMCv8",
        "outputId": "6a9d2991-9293-48e3-9ba2-97bb0ca0a1da"
      },
      "source": [
        "temp_summary = pd.DataFrame({'model':['XGBoost'], 'sensitivity': [sensitivity_xg_normal],'specificity': [specificity_xg_normal], 'accuracy': [accuray_xg_normal],\n",
        "                            'auc_roc_score':[roc_xg_normal] })\n",
        "summary_df = pd.concat([summary_df, temp_summary])\n",
        "summary_df = summary_df[['model', 'sensitivity', 'specificity' , 'accuracy', 'auc_roc_score']]\n",
        "summary_df"
      ],
      "execution_count": 77,
      "outputs": [
        {
          "output_type": "execute_result",
          "data": {
            "text/html": [
              "<div>\n",
              "<style scoped>\n",
              "    .dataframe tbody tr th:only-of-type {\n",
              "        vertical-align: middle;\n",
              "    }\n",
              "\n",
              "    .dataframe tbody tr th {\n",
              "        vertical-align: top;\n",
              "    }\n",
              "\n",
              "    .dataframe thead th {\n",
              "        text-align: right;\n",
              "    }\n",
              "</style>\n",
              "<table border=\"1\" class=\"dataframe\">\n",
              "  <thead>\n",
              "    <tr style=\"text-align: right;\">\n",
              "      <th></th>\n",
              "      <th>model</th>\n",
              "      <th>sensitivity</th>\n",
              "      <th>specificity</th>\n",
              "      <th>accuracy</th>\n",
              "      <th>auc_roc_score</th>\n",
              "    </tr>\n",
              "  </thead>\n",
              "  <tbody>\n",
              "    <tr>\n",
              "      <th>0</th>\n",
              "      <td>Logistic Regression</td>\n",
              "      <td>0.994114</td>\n",
              "      <td>0.222660</td>\n",
              "      <td>0.907111</td>\n",
              "      <td>0.915283</td>\n",
              "    </tr>\n",
              "    <tr>\n",
              "      <th>0</th>\n",
              "      <td>Logistic Regression (smote)</td>\n",
              "      <td>0.884909</td>\n",
              "      <td>0.791133</td>\n",
              "      <td>0.874333</td>\n",
              "      <td>0.920912</td>\n",
              "    </tr>\n",
              "    <tr>\n",
              "      <th>0</th>\n",
              "      <td>Logistic Regression (rov)</td>\n",
              "      <td>0.874264</td>\n",
              "      <td>0.814778</td>\n",
              "      <td>0.867556</td>\n",
              "      <td>0.920642</td>\n",
              "    </tr>\n",
              "    <tr>\n",
              "      <th>0</th>\n",
              "      <td>Multinomial Naive Bayes</td>\n",
              "      <td>0.982843</td>\n",
              "      <td>0.124138</td>\n",
              "      <td>0.886000</td>\n",
              "      <td>0.828940</td>\n",
              "    </tr>\n",
              "    <tr>\n",
              "      <th>0</th>\n",
              "      <td>Multinomial Naive Bayes (smote)</td>\n",
              "      <td>0.837070</td>\n",
              "      <td>0.685714</td>\n",
              "      <td>0.820000</td>\n",
              "      <td>0.841720</td>\n",
              "    </tr>\n",
              "    <tr>\n",
              "      <th>0</th>\n",
              "      <td>Multinomial Naive Bayes (rov)</td>\n",
              "      <td>0.819787</td>\n",
              "      <td>0.694581</td>\n",
              "      <td>0.805667</td>\n",
              "      <td>0.840723</td>\n",
              "    </tr>\n",
              "    <tr>\n",
              "      <th>0</th>\n",
              "      <td>Random Forest</td>\n",
              "      <td>1.000000</td>\n",
              "      <td>0.000000</td>\n",
              "      <td>0.887222</td>\n",
              "      <td>0.826942</td>\n",
              "    </tr>\n",
              "    <tr>\n",
              "      <th>0</th>\n",
              "      <td>Random Forest (smote)</td>\n",
              "      <td>0.859987</td>\n",
              "      <td>0.622660</td>\n",
              "      <td>0.833222</td>\n",
              "      <td>0.827177</td>\n",
              "    </tr>\n",
              "    <tr>\n",
              "      <th>0</th>\n",
              "      <td>Random Forest (rov)</td>\n",
              "      <td>0.756293</td>\n",
              "      <td>0.776355</td>\n",
              "      <td>0.758556</td>\n",
              "      <td>0.858364</td>\n",
              "    </tr>\n",
              "    <tr>\n",
              "      <th>0</th>\n",
              "      <td>XGBoost</td>\n",
              "      <td>0.997245</td>\n",
              "      <td>0.094581</td>\n",
              "      <td>0.895444</td>\n",
              "      <td>0.882077</td>\n",
              "    </tr>\n",
              "  </tbody>\n",
              "</table>\n",
              "</div>"
            ],
            "text/plain": [
              "                             model  sensitivity  ...  accuracy  auc_roc_score\n",
              "0              Logistic Regression     0.994114  ...  0.907111       0.915283\n",
              "0      Logistic Regression (smote)     0.884909  ...  0.874333       0.920912\n",
              "0        Logistic Regression (rov)     0.874264  ...  0.867556       0.920642\n",
              "0          Multinomial Naive Bayes     0.982843  ...  0.886000       0.828940\n",
              "0  Multinomial Naive Bayes (smote)     0.837070  ...  0.820000       0.841720\n",
              "0    Multinomial Naive Bayes (rov)     0.819787  ...  0.805667       0.840723\n",
              "0                    Random Forest     1.000000  ...  0.887222       0.826942\n",
              "0            Random Forest (smote)     0.859987  ...  0.833222       0.827177\n",
              "0              Random Forest (rov)     0.756293  ...  0.758556       0.858364\n",
              "0                          XGBoost     0.997245  ...  0.895444       0.882077\n",
              "\n",
              "[10 rows x 5 columns]"
            ]
          },
          "metadata": {
            "tags": []
          },
          "execution_count": 77
        }
      ]
    },
    {
      "cell_type": "code",
      "metadata": {
        "id": "58iYUracMCv9"
      },
      "source": [
        "TP = cm_smote[1,1] # true positive \n",
        "TN = cm_smote[0,0] # true negatives\n",
        "FP = cm_smote[0,1] # false positives\n",
        "FN = cm_smote[1,0] # false negatives\n",
        "sensitivity_xg_smote=TP / float(TP+FN)\n",
        "specificity_xg_smote=TN / float(TN+FP)\n",
        "accuray_xg_smote= (TP+TN)/(TP+TN+FP+FN)\n",
        "roc_xg_smote=roc_auc_score(y_test, xg2.predict_proba(tv_test_reviews)[:,1])"
      ],
      "execution_count": 78,
      "outputs": []
    },
    {
      "cell_type": "code",
      "metadata": {
        "id": "nfc1PknIMCv-"
      },
      "source": [
        "temp_summary = pd.DataFrame({'model':['XGBoost (smote)'], 'sensitivity': [sensitivity_xg_smote],'specificity': [specificity_xg_smote], 'accuracy': [accuray_xg_smote],\n",
        "                            'auc_roc_score':[roc_xg_smote] })\n",
        "summary_df = pd.concat([summary_df, temp_summary])\n",
        "summary_df = summary_df[['model', 'sensitivity', 'specificity' , 'accuracy', 'auc_roc_score']]"
      ],
      "execution_count": 79,
      "outputs": []
    },
    {
      "cell_type": "code",
      "metadata": {
        "colab": {
          "base_uri": "https://localhost:8080/",
          "height": 375
        },
        "id": "K9qEj9axMCv_",
        "outputId": "63ef4052-440c-413e-ba40-9d265d94e520"
      },
      "source": [
        "summary_df"
      ],
      "execution_count": 80,
      "outputs": [
        {
          "output_type": "execute_result",
          "data": {
            "text/html": [
              "<div>\n",
              "<style scoped>\n",
              "    .dataframe tbody tr th:only-of-type {\n",
              "        vertical-align: middle;\n",
              "    }\n",
              "\n",
              "    .dataframe tbody tr th {\n",
              "        vertical-align: top;\n",
              "    }\n",
              "\n",
              "    .dataframe thead th {\n",
              "        text-align: right;\n",
              "    }\n",
              "</style>\n",
              "<table border=\"1\" class=\"dataframe\">\n",
              "  <thead>\n",
              "    <tr style=\"text-align: right;\">\n",
              "      <th></th>\n",
              "      <th>model</th>\n",
              "      <th>sensitivity</th>\n",
              "      <th>specificity</th>\n",
              "      <th>accuracy</th>\n",
              "      <th>auc_roc_score</th>\n",
              "    </tr>\n",
              "  </thead>\n",
              "  <tbody>\n",
              "    <tr>\n",
              "      <th>0</th>\n",
              "      <td>Logistic Regression</td>\n",
              "      <td>0.994114</td>\n",
              "      <td>0.222660</td>\n",
              "      <td>0.907111</td>\n",
              "      <td>0.915283</td>\n",
              "    </tr>\n",
              "    <tr>\n",
              "      <th>0</th>\n",
              "      <td>Logistic Regression (smote)</td>\n",
              "      <td>0.884909</td>\n",
              "      <td>0.791133</td>\n",
              "      <td>0.874333</td>\n",
              "      <td>0.920912</td>\n",
              "    </tr>\n",
              "    <tr>\n",
              "      <th>0</th>\n",
              "      <td>Logistic Regression (rov)</td>\n",
              "      <td>0.874264</td>\n",
              "      <td>0.814778</td>\n",
              "      <td>0.867556</td>\n",
              "      <td>0.920642</td>\n",
              "    </tr>\n",
              "    <tr>\n",
              "      <th>0</th>\n",
              "      <td>Multinomial Naive Bayes</td>\n",
              "      <td>0.982843</td>\n",
              "      <td>0.124138</td>\n",
              "      <td>0.886000</td>\n",
              "      <td>0.828940</td>\n",
              "    </tr>\n",
              "    <tr>\n",
              "      <th>0</th>\n",
              "      <td>Multinomial Naive Bayes (smote)</td>\n",
              "      <td>0.837070</td>\n",
              "      <td>0.685714</td>\n",
              "      <td>0.820000</td>\n",
              "      <td>0.841720</td>\n",
              "    </tr>\n",
              "    <tr>\n",
              "      <th>0</th>\n",
              "      <td>Multinomial Naive Bayes (rov)</td>\n",
              "      <td>0.819787</td>\n",
              "      <td>0.694581</td>\n",
              "      <td>0.805667</td>\n",
              "      <td>0.840723</td>\n",
              "    </tr>\n",
              "    <tr>\n",
              "      <th>0</th>\n",
              "      <td>Random Forest</td>\n",
              "      <td>1.000000</td>\n",
              "      <td>0.000000</td>\n",
              "      <td>0.887222</td>\n",
              "      <td>0.826942</td>\n",
              "    </tr>\n",
              "    <tr>\n",
              "      <th>0</th>\n",
              "      <td>Random Forest (smote)</td>\n",
              "      <td>0.859987</td>\n",
              "      <td>0.622660</td>\n",
              "      <td>0.833222</td>\n",
              "      <td>0.827177</td>\n",
              "    </tr>\n",
              "    <tr>\n",
              "      <th>0</th>\n",
              "      <td>Random Forest (rov)</td>\n",
              "      <td>0.756293</td>\n",
              "      <td>0.776355</td>\n",
              "      <td>0.758556</td>\n",
              "      <td>0.858364</td>\n",
              "    </tr>\n",
              "    <tr>\n",
              "      <th>0</th>\n",
              "      <td>XGBoost</td>\n",
              "      <td>0.997245</td>\n",
              "      <td>0.094581</td>\n",
              "      <td>0.895444</td>\n",
              "      <td>0.882077</td>\n",
              "    </tr>\n",
              "    <tr>\n",
              "      <th>0</th>\n",
              "      <td>XGBoost (smote)</td>\n",
              "      <td>0.857733</td>\n",
              "      <td>0.633498</td>\n",
              "      <td>0.832444</td>\n",
              "      <td>0.851104</td>\n",
              "    </tr>\n",
              "  </tbody>\n",
              "</table>\n",
              "</div>"
            ],
            "text/plain": [
              "                             model  sensitivity  ...  accuracy  auc_roc_score\n",
              "0              Logistic Regression     0.994114  ...  0.907111       0.915283\n",
              "0      Logistic Regression (smote)     0.884909  ...  0.874333       0.920912\n",
              "0        Logistic Regression (rov)     0.874264  ...  0.867556       0.920642\n",
              "0          Multinomial Naive Bayes     0.982843  ...  0.886000       0.828940\n",
              "0  Multinomial Naive Bayes (smote)     0.837070  ...  0.820000       0.841720\n",
              "0    Multinomial Naive Bayes (rov)     0.819787  ...  0.805667       0.840723\n",
              "0                    Random Forest     1.000000  ...  0.887222       0.826942\n",
              "0            Random Forest (smote)     0.859987  ...  0.833222       0.827177\n",
              "0              Random Forest (rov)     0.756293  ...  0.758556       0.858364\n",
              "0                          XGBoost     0.997245  ...  0.895444       0.882077\n",
              "0                  XGBoost (smote)     0.857733  ...  0.832444       0.851104\n",
              "\n",
              "[11 rows x 5 columns]"
            ]
          },
          "metadata": {
            "tags": []
          },
          "execution_count": 80
        }
      ]
    },
    {
      "cell_type": "code",
      "metadata": {
        "id": "KSLBeNeQMCwA"
      },
      "source": [
        "TP = cm_rov[1,1] # true positive \n",
        "TN = cm_rov[0,0] # true negatives\n",
        "FP = cm_rov[0,1] # false positives\n",
        "FN = cm_rov[1,0] # false negatives\n",
        "sensitivity_xg_rov=TP / float(TP+FN)\n",
        "specificity_xg_rov=TN / float(TN+FP)\n",
        "accuray_xg_rov= (TP+TN)/(TP+TN+FP+FN)\n",
        "roc_xg_rov=roc_auc_score(y_test, xg3.predict_proba(tv_test_reviews)[:,1])"
      ],
      "execution_count": 81,
      "outputs": []
    },
    {
      "cell_type": "code",
      "metadata": {
        "id": "OLHog1zwMCwB"
      },
      "source": [
        "temp_summary = pd.DataFrame({'model':['XGBoost (rov)'], 'sensitivity': [sensitivity_xg_rov],'specificity': [specificity_xg_rov], 'accuracy': [accuray_xg_rov],\n",
        "                            'auc_roc_score':[roc_xg_rov] })\n",
        "summary_df = pd.concat([summary_df, temp_summary])\n",
        "summary_df = summary_df[['model', 'sensitivity', 'specificity' , 'accuracy', 'auc_roc_score']]"
      ],
      "execution_count": 82,
      "outputs": []
    },
    {
      "cell_type": "code",
      "metadata": {
        "colab": {
          "base_uri": "https://localhost:8080/",
          "height": 405
        },
        "id": "9TyVujBjMCwC",
        "outputId": "4d5b62f5-f835-4a72-e57c-d22ec8c598e1"
      },
      "source": [
        "summary_df"
      ],
      "execution_count": 83,
      "outputs": [
        {
          "output_type": "execute_result",
          "data": {
            "text/html": [
              "<div>\n",
              "<style scoped>\n",
              "    .dataframe tbody tr th:only-of-type {\n",
              "        vertical-align: middle;\n",
              "    }\n",
              "\n",
              "    .dataframe tbody tr th {\n",
              "        vertical-align: top;\n",
              "    }\n",
              "\n",
              "    .dataframe thead th {\n",
              "        text-align: right;\n",
              "    }\n",
              "</style>\n",
              "<table border=\"1\" class=\"dataframe\">\n",
              "  <thead>\n",
              "    <tr style=\"text-align: right;\">\n",
              "      <th></th>\n",
              "      <th>model</th>\n",
              "      <th>sensitivity</th>\n",
              "      <th>specificity</th>\n",
              "      <th>accuracy</th>\n",
              "      <th>auc_roc_score</th>\n",
              "    </tr>\n",
              "  </thead>\n",
              "  <tbody>\n",
              "    <tr>\n",
              "      <th>0</th>\n",
              "      <td>Logistic Regression</td>\n",
              "      <td>0.994114</td>\n",
              "      <td>0.222660</td>\n",
              "      <td>0.907111</td>\n",
              "      <td>0.915283</td>\n",
              "    </tr>\n",
              "    <tr>\n",
              "      <th>0</th>\n",
              "      <td>Logistic Regression (smote)</td>\n",
              "      <td>0.884909</td>\n",
              "      <td>0.791133</td>\n",
              "      <td>0.874333</td>\n",
              "      <td>0.920912</td>\n",
              "    </tr>\n",
              "    <tr>\n",
              "      <th>0</th>\n",
              "      <td>Logistic Regression (rov)</td>\n",
              "      <td>0.874264</td>\n",
              "      <td>0.814778</td>\n",
              "      <td>0.867556</td>\n",
              "      <td>0.920642</td>\n",
              "    </tr>\n",
              "    <tr>\n",
              "      <th>0</th>\n",
              "      <td>Multinomial Naive Bayes</td>\n",
              "      <td>0.982843</td>\n",
              "      <td>0.124138</td>\n",
              "      <td>0.886000</td>\n",
              "      <td>0.828940</td>\n",
              "    </tr>\n",
              "    <tr>\n",
              "      <th>0</th>\n",
              "      <td>Multinomial Naive Bayes (smote)</td>\n",
              "      <td>0.837070</td>\n",
              "      <td>0.685714</td>\n",
              "      <td>0.820000</td>\n",
              "      <td>0.841720</td>\n",
              "    </tr>\n",
              "    <tr>\n",
              "      <th>0</th>\n",
              "      <td>Multinomial Naive Bayes (rov)</td>\n",
              "      <td>0.819787</td>\n",
              "      <td>0.694581</td>\n",
              "      <td>0.805667</td>\n",
              "      <td>0.840723</td>\n",
              "    </tr>\n",
              "    <tr>\n",
              "      <th>0</th>\n",
              "      <td>Random Forest</td>\n",
              "      <td>1.000000</td>\n",
              "      <td>0.000000</td>\n",
              "      <td>0.887222</td>\n",
              "      <td>0.826942</td>\n",
              "    </tr>\n",
              "    <tr>\n",
              "      <th>0</th>\n",
              "      <td>Random Forest (smote)</td>\n",
              "      <td>0.859987</td>\n",
              "      <td>0.622660</td>\n",
              "      <td>0.833222</td>\n",
              "      <td>0.827177</td>\n",
              "    </tr>\n",
              "    <tr>\n",
              "      <th>0</th>\n",
              "      <td>Random Forest (rov)</td>\n",
              "      <td>0.756293</td>\n",
              "      <td>0.776355</td>\n",
              "      <td>0.758556</td>\n",
              "      <td>0.858364</td>\n",
              "    </tr>\n",
              "    <tr>\n",
              "      <th>0</th>\n",
              "      <td>XGBoost</td>\n",
              "      <td>0.997245</td>\n",
              "      <td>0.094581</td>\n",
              "      <td>0.895444</td>\n",
              "      <td>0.882077</td>\n",
              "    </tr>\n",
              "    <tr>\n",
              "      <th>0</th>\n",
              "      <td>XGBoost (smote)</td>\n",
              "      <td>0.857733</td>\n",
              "      <td>0.633498</td>\n",
              "      <td>0.832444</td>\n",
              "      <td>0.851104</td>\n",
              "    </tr>\n",
              "    <tr>\n",
              "      <th>0</th>\n",
              "      <td>XGBoost (rov)</td>\n",
              "      <td>0.783845</td>\n",
              "      <td>0.838424</td>\n",
              "      <td>0.790000</td>\n",
              "      <td>0.889179</td>\n",
              "    </tr>\n",
              "  </tbody>\n",
              "</table>\n",
              "</div>"
            ],
            "text/plain": [
              "                             model  sensitivity  ...  accuracy  auc_roc_score\n",
              "0              Logistic Regression     0.994114  ...  0.907111       0.915283\n",
              "0      Logistic Regression (smote)     0.884909  ...  0.874333       0.920912\n",
              "0        Logistic Regression (rov)     0.874264  ...  0.867556       0.920642\n",
              "0          Multinomial Naive Bayes     0.982843  ...  0.886000       0.828940\n",
              "0  Multinomial Naive Bayes (smote)     0.837070  ...  0.820000       0.841720\n",
              "0    Multinomial Naive Bayes (rov)     0.819787  ...  0.805667       0.840723\n",
              "0                    Random Forest     1.000000  ...  0.887222       0.826942\n",
              "0            Random Forest (smote)     0.859987  ...  0.833222       0.827177\n",
              "0              Random Forest (rov)     0.756293  ...  0.758556       0.858364\n",
              "0                          XGBoost     0.997245  ...  0.895444       0.882077\n",
              "0                  XGBoost (smote)     0.857733  ...  0.832444       0.851104\n",
              "0                    XGBoost (rov)     0.783845  ...  0.790000       0.889179\n",
              "\n",
              "[12 rows x 5 columns]"
            ]
          },
          "metadata": {
            "tags": []
          },
          "execution_count": 83
        }
      ]
    },
    {
      "cell_type": "markdown",
      "metadata": {
        "id": "yHBboUlRVG0M"
      },
      "source": [
        "#### XGBoost with random oversampling seems like a good model with decent specificity and sensitivity. So, we shall go ahead and tune its hyperparamenters"
      ]
    },
    {
      "cell_type": "code",
      "metadata": {
        "id": "V5YWnEqsVGad"
      },
      "source": [
        "#hyper parameters to tune\n",
        "params = {\n",
        "        'min_child_weight': [1,3,5],\n",
        "        'gamma': [0,1,2],\n",
        "        'subsample': [0.7,0.9,1],\n",
        "        'colsample_bytree': [0.7,0.9,1],\n",
        "        'max_depth': [3,4,5]\n",
        "}\n",
        "scoring = {\n",
        "    'sensitivity': make_scorer(recall_score),\n",
        "    'specificity': make_scorer(recall_score,pos_label=0)\n",
        "}"
      ],
      "execution_count": 86,
      "outputs": []
    },
    {
      "cell_type": "code",
      "metadata": {
        "id": "IqU6tfsEYL05"
      },
      "source": [
        "estimator = xgb.XGBClassifier(random_state=20)"
      ],
      "execution_count": 87,
      "outputs": []
    },
    {
      "cell_type": "code",
      "metadata": {
        "id": "E3HNzSenYTxe",
        "colab": {
          "base_uri": "https://localhost:8080/"
        },
        "outputId": "09e303c9-e136-41b2-8b2b-05593268aa0f"
      },
      "source": [
        "#Hyper paramter tuning using RandomizedSearch\n",
        "rand_search = RandomizedSearchCV(\n",
        "    estimator=estimator,\n",
        "    param_distributions=params,\n",
        "    scoring = scoring,\n",
        "    n_jobs = -1,\n",
        "    cv = 4,\n",
        "    verbose=100,\n",
        "    refit='sensitivity',\n",
        "    n_iter=30\n",
        ")\n",
        "rand_search.fit(X_train_rov,y_train_rov)"
      ],
      "execution_count": 88,
      "outputs": [
        {
          "output_type": "stream",
          "text": [
            "Fitting 4 folds for each of 30 candidates, totalling 120 fits\n",
            "[Parallel(n_jobs=-1)]: Using backend LokyBackend with 2 concurrent workers.\n",
            "[Parallel(n_jobs=-1)]: Done   1 tasks      | elapsed:   14.9s\n",
            "[Parallel(n_jobs=-1)]: Done   2 tasks      | elapsed:   15.1s\n",
            "[Parallel(n_jobs=-1)]: Done   3 tasks      | elapsed:   28.7s\n",
            "[Parallel(n_jobs=-1)]: Done   4 tasks      | elapsed:   29.1s\n",
            "[Parallel(n_jobs=-1)]: Done   5 tasks      | elapsed:   38.9s\n",
            "[Parallel(n_jobs=-1)]: Done   6 tasks      | elapsed:   39.2s\n",
            "[Parallel(n_jobs=-1)]: Done   7 tasks      | elapsed:   49.2s\n",
            "[Parallel(n_jobs=-1)]: Done   8 tasks      | elapsed:   49.5s\n",
            "[Parallel(n_jobs=-1)]: Done   9 tasks      | elapsed:  1.0min\n",
            "[Parallel(n_jobs=-1)]: Done  10 tasks      | elapsed:  1.0min\n",
            "[Parallel(n_jobs=-1)]: Done  11 tasks      | elapsed:  1.2min\n",
            "[Parallel(n_jobs=-1)]: Done  12 tasks      | elapsed:  1.2min\n",
            "[Parallel(n_jobs=-1)]: Done  13 tasks      | elapsed:  1.3min\n",
            "[Parallel(n_jobs=-1)]: Done  14 tasks      | elapsed:  1.3min\n",
            "[Parallel(n_jobs=-1)]: Done  15 tasks      | elapsed:  1.5min\n",
            "[Parallel(n_jobs=-1)]: Done  16 tasks      | elapsed:  1.5min\n",
            "[Parallel(n_jobs=-1)]: Done  17 tasks      | elapsed:  1.8min\n",
            "[Parallel(n_jobs=-1)]: Done  18 tasks      | elapsed:  1.8min\n",
            "[Parallel(n_jobs=-1)]: Done  19 tasks      | elapsed:  2.0min\n",
            "[Parallel(n_jobs=-1)]: Done  20 tasks      | elapsed:  2.0min\n",
            "[Parallel(n_jobs=-1)]: Done  21 tasks      | elapsed:  2.2min\n",
            "[Parallel(n_jobs=-1)]: Done  22 tasks      | elapsed:  2.2min\n",
            "[Parallel(n_jobs=-1)]: Done  23 tasks      | elapsed:  2.4min\n",
            "[Parallel(n_jobs=-1)]: Done  24 tasks      | elapsed:  2.4min\n",
            "[Parallel(n_jobs=-1)]: Done  25 tasks      | elapsed:  2.6min\n",
            "[Parallel(n_jobs=-1)]: Done  26 tasks      | elapsed:  2.6min\n",
            "[Parallel(n_jobs=-1)]: Done  27 tasks      | elapsed:  2.7min\n",
            "[Parallel(n_jobs=-1)]: Done  28 tasks      | elapsed:  2.7min\n",
            "[Parallel(n_jobs=-1)]: Done  29 tasks      | elapsed:  2.9min\n",
            "[Parallel(n_jobs=-1)]: Done  30 tasks      | elapsed:  2.9min\n",
            "[Parallel(n_jobs=-1)]: Done  31 tasks      | elapsed:  3.1min\n",
            "[Parallel(n_jobs=-1)]: Done  32 tasks      | elapsed:  3.1min\n",
            "[Parallel(n_jobs=-1)]: Done  33 tasks      | elapsed:  3.3min\n",
            "[Parallel(n_jobs=-1)]: Done  34 tasks      | elapsed:  3.3min\n",
            "[Parallel(n_jobs=-1)]: Done  35 tasks      | elapsed:  3.4min\n",
            "[Parallel(n_jobs=-1)]: Done  36 tasks      | elapsed:  3.4min\n",
            "[Parallel(n_jobs=-1)]: Done  37 tasks      | elapsed:  3.6min\n",
            "[Parallel(n_jobs=-1)]: Done  38 tasks      | elapsed:  3.6min\n",
            "[Parallel(n_jobs=-1)]: Done  39 tasks      | elapsed:  3.8min\n",
            "[Parallel(n_jobs=-1)]: Done  40 tasks      | elapsed:  3.8min\n",
            "[Parallel(n_jobs=-1)]: Done  41 tasks      | elapsed:  4.0min\n",
            "[Parallel(n_jobs=-1)]: Done  42 tasks      | elapsed:  4.0min\n",
            "[Parallel(n_jobs=-1)]: Done  43 tasks      | elapsed:  4.1min\n",
            "[Parallel(n_jobs=-1)]: Done  44 tasks      | elapsed:  4.1min\n",
            "[Parallel(n_jobs=-1)]: Done  45 tasks      | elapsed:  4.3min\n",
            "[Parallel(n_jobs=-1)]: Done  46 tasks      | elapsed:  4.3min\n",
            "[Parallel(n_jobs=-1)]: Done  47 tasks      | elapsed:  4.5min\n",
            "[Parallel(n_jobs=-1)]: Done  48 tasks      | elapsed:  4.5min\n",
            "[Parallel(n_jobs=-1)]: Done  49 tasks      | elapsed:  4.7min\n",
            "[Parallel(n_jobs=-1)]: Done  50 tasks      | elapsed:  4.7min\n",
            "[Parallel(n_jobs=-1)]: Done  51 tasks      | elapsed:  5.0min\n",
            "[Parallel(n_jobs=-1)]: Done  52 tasks      | elapsed:  5.0min\n",
            "[Parallel(n_jobs=-1)]: Done  53 tasks      | elapsed:  5.2min\n",
            "[Parallel(n_jobs=-1)]: Done  54 tasks      | elapsed:  5.2min\n",
            "[Parallel(n_jobs=-1)]: Done  55 tasks      | elapsed:  5.3min\n",
            "[Parallel(n_jobs=-1)]: Done  56 tasks      | elapsed:  5.3min\n",
            "[Parallel(n_jobs=-1)]: Done  57 tasks      | elapsed:  5.6min\n",
            "[Parallel(n_jobs=-1)]: Done  58 tasks      | elapsed:  5.6min\n",
            "[Parallel(n_jobs=-1)]: Done  59 tasks      | elapsed:  5.9min\n",
            "[Parallel(n_jobs=-1)]: Done  60 tasks      | elapsed:  5.9min\n",
            "[Parallel(n_jobs=-1)]: Done  61 tasks      | elapsed:  6.1min\n",
            "[Parallel(n_jobs=-1)]: Done  62 tasks      | elapsed:  6.1min\n",
            "[Parallel(n_jobs=-1)]: Done  63 tasks      | elapsed:  6.4min\n",
            "[Parallel(n_jobs=-1)]: Done  64 tasks      | elapsed:  6.4min\n",
            "[Parallel(n_jobs=-1)]: Done  65 tasks      | elapsed:  6.6min\n",
            "[Parallel(n_jobs=-1)]: Done  66 tasks      | elapsed:  6.6min\n",
            "[Parallel(n_jobs=-1)]: Done  67 tasks      | elapsed:  6.8min\n",
            "[Parallel(n_jobs=-1)]: Done  68 tasks      | elapsed:  6.9min\n",
            "[Parallel(n_jobs=-1)]: Done  69 tasks      | elapsed:  7.0min\n",
            "[Parallel(n_jobs=-1)]: Done  70 tasks      | elapsed:  7.0min\n",
            "[Parallel(n_jobs=-1)]: Done  71 tasks      | elapsed:  7.2min\n",
            "[Parallel(n_jobs=-1)]: Done  72 tasks      | elapsed:  7.2min\n",
            "[Parallel(n_jobs=-1)]: Done  73 tasks      | elapsed:  7.4min\n",
            "[Parallel(n_jobs=-1)]: Done  74 tasks      | elapsed:  7.5min\n",
            "[Parallel(n_jobs=-1)]: Done  75 tasks      | elapsed:  7.7min\n",
            "[Parallel(n_jobs=-1)]: Done  76 tasks      | elapsed:  7.7min\n",
            "[Parallel(n_jobs=-1)]: Done  77 tasks      | elapsed:  8.0min\n",
            "[Parallel(n_jobs=-1)]: Done  78 tasks      | elapsed:  8.0min\n",
            "[Parallel(n_jobs=-1)]: Done  79 tasks      | elapsed:  8.3min\n",
            "[Parallel(n_jobs=-1)]: Done  80 tasks      | elapsed:  8.3min\n",
            "[Parallel(n_jobs=-1)]: Done  81 tasks      | elapsed:  8.5min\n",
            "[Parallel(n_jobs=-1)]: Done  82 tasks      | elapsed:  8.5min\n",
            "[Parallel(n_jobs=-1)]: Done  83 tasks      | elapsed:  8.6min\n",
            "[Parallel(n_jobs=-1)]: Done  84 tasks      | elapsed:  8.7min\n",
            "[Parallel(n_jobs=-1)]: Done  85 tasks      | elapsed:  8.8min\n",
            "[Parallel(n_jobs=-1)]: Done  86 tasks      | elapsed:  8.8min\n",
            "[Parallel(n_jobs=-1)]: Done  87 tasks      | elapsed:  9.0min\n",
            "[Parallel(n_jobs=-1)]: Done  88 tasks      | elapsed:  9.0min\n",
            "[Parallel(n_jobs=-1)]: Done  89 tasks      | elapsed:  9.2min\n",
            "[Parallel(n_jobs=-1)]: Done  90 tasks      | elapsed:  9.2min\n",
            "[Parallel(n_jobs=-1)]: Done  91 tasks      | elapsed:  9.3min\n",
            "[Parallel(n_jobs=-1)]: Done  92 tasks      | elapsed:  9.4min\n",
            "[Parallel(n_jobs=-1)]: Done  93 tasks      | elapsed:  9.6min\n",
            "[Parallel(n_jobs=-1)]: Done  94 tasks      | elapsed:  9.7min\n",
            "[Parallel(n_jobs=-1)]: Done  95 tasks      | elapsed:  9.9min\n",
            "[Parallel(n_jobs=-1)]: Done  96 tasks      | elapsed: 10.0min\n",
            "[Parallel(n_jobs=-1)]: Done  97 tasks      | elapsed: 10.1min\n",
            "[Parallel(n_jobs=-1)]: Done  98 tasks      | elapsed: 10.1min\n",
            "[Parallel(n_jobs=-1)]: Done  99 tasks      | elapsed: 10.2min\n",
            "[Parallel(n_jobs=-1)]: Done 100 tasks      | elapsed: 10.2min\n",
            "[Parallel(n_jobs=-1)]: Done 101 tasks      | elapsed: 10.4min\n",
            "[Parallel(n_jobs=-1)]: Done 102 tasks      | elapsed: 10.4min\n",
            "[Parallel(n_jobs=-1)]: Done 103 tasks      | elapsed: 10.6min\n",
            "[Parallel(n_jobs=-1)]: Done 104 tasks      | elapsed: 10.7min\n",
            "[Parallel(n_jobs=-1)]: Done 105 tasks      | elapsed: 10.8min\n",
            "[Parallel(n_jobs=-1)]: Done 106 tasks      | elapsed: 10.8min\n",
            "[Parallel(n_jobs=-1)]: Done 107 tasks      | elapsed: 11.0min\n",
            "[Parallel(n_jobs=-1)]: Done 108 tasks      | elapsed: 11.0min\n",
            "[Parallel(n_jobs=-1)]: Done 109 tasks      | elapsed: 11.2min\n",
            "[Parallel(n_jobs=-1)]: Done 110 tasks      | elapsed: 11.2min\n",
            "[Parallel(n_jobs=-1)]: Done 111 tasks      | elapsed: 11.3min\n",
            "[Parallel(n_jobs=-1)]: Done 112 tasks      | elapsed: 11.4min\n",
            "[Parallel(n_jobs=-1)]: Done 113 tasks      | elapsed: 11.5min\n",
            "[Parallel(n_jobs=-1)]: Done 114 tasks      | elapsed: 11.5min\n",
            "[Parallel(n_jobs=-1)]: Done 115 tasks      | elapsed: 11.7min\n",
            "[Parallel(n_jobs=-1)]: Done 116 tasks      | elapsed: 11.7min\n",
            "[Parallel(n_jobs=-1)]: Done 117 tasks      | elapsed: 11.8min\n",
            "[Parallel(n_jobs=-1)]: Done 120 out of 120 | elapsed: 12.0min finished\n"
          ],
          "name": "stdout"
        },
        {
          "output_type": "execute_result",
          "data": {
            "text/plain": [
              "RandomizedSearchCV(cv=4, error_score=nan,\n",
              "                   estimator=XGBClassifier(base_score=0.5, booster='gbtree',\n",
              "                                           colsample_bylevel=1,\n",
              "                                           colsample_bynode=1,\n",
              "                                           colsample_bytree=1, gamma=0,\n",
              "                                           learning_rate=0.1, max_delta_step=0,\n",
              "                                           max_depth=3, min_child_weight=1,\n",
              "                                           missing=None, n_estimators=100,\n",
              "                                           n_jobs=1, nthread=None,\n",
              "                                           objective='binary:logistic',\n",
              "                                           random_state=20, reg_alpha=0,\n",
              "                                           reg_lambda=1, s...\n",
              "                   iid='deprecated', n_iter=30, n_jobs=-1,\n",
              "                   param_distributions={'colsample_bytree': [0.7, 0.9, 1],\n",
              "                                        'gamma': [0, 1, 2],\n",
              "                                        'max_depth': [3, 4, 5],\n",
              "                                        'min_child_weight': [1, 3, 5],\n",
              "                                        'subsample': [0.7, 0.9, 1]},\n",
              "                   pre_dispatch='2*n_jobs', random_state=None,\n",
              "                   refit='sensitivity', return_train_score=False,\n",
              "                   scoring={'sensitivity': make_scorer(recall_score),\n",
              "                            'specificity': make_scorer(recall_score, pos_label=0)},\n",
              "                   verbose=100)"
            ]
          },
          "metadata": {
            "tags": []
          },
          "execution_count": 88
        }
      ]
    },
    {
      "cell_type": "code",
      "metadata": {
        "id": "cEHw9Y3ro4G2"
      },
      "source": [
        "# best model\n",
        "xg_best = rand_search.best_estimator_"
      ],
      "execution_count": 89,
      "outputs": []
    },
    {
      "cell_type": "code",
      "metadata": {
        "colab": {
          "base_uri": "https://localhost:8080/"
        },
        "id": "rgKYUAq8TMWv",
        "outputId": "102af50d-9d2a-4580-b7f5-34e7a8e3a8cd"
      },
      "source": [
        "xg_best"
      ],
      "execution_count": 90,
      "outputs": [
        {
          "output_type": "execute_result",
          "data": {
            "text/plain": [
              "XGBClassifier(base_score=0.5, booster='gbtree', colsample_bylevel=1,\n",
              "              colsample_bynode=1, colsample_bytree=0.9, gamma=2,\n",
              "              learning_rate=0.1, max_delta_step=0, max_depth=5,\n",
              "              min_child_weight=1, missing=None, n_estimators=100, n_jobs=1,\n",
              "              nthread=None, objective='binary:logistic', random_state=20,\n",
              "              reg_alpha=0, reg_lambda=1, scale_pos_weight=1, seed=None,\n",
              "              silent=None, subsample=0.9, verbosity=1)"
            ]
          },
          "metadata": {
            "tags": []
          },
          "execution_count": 90
        }
      ]
    },
    {
      "cell_type": "code",
      "metadata": {
        "id": "HDdDJzByJuje"
      },
      "source": [
        "# save the model\n",
        "xg_best.save_model('/content/drive/MyDrive/Colab Notebooks/xgboost_best.bin')"
      ],
      "execution_count": 91,
      "outputs": []
    },
    {
      "cell_type": "code",
      "metadata": {
        "id": "7ub48TupJuje"
      },
      "source": [
        "# load the model\n",
        "xg_pickle_model= xgb.XGBClassifier()\n",
        "xg_pickle_model.load_model('/content/drive/MyDrive/Colab Notebooks/xgboost_best.bin')"
      ],
      "execution_count": 92,
      "outputs": []
    },
    {
      "cell_type": "code",
      "metadata": {
        "id": "oqnWyPVRp8jj"
      },
      "source": [
        "# prediction on train\n",
        "xg_pickle_model._le = LabelEncoder().fit(y_test)\n",
        "xg_trainpred_prob=xg_pickle_model.predict_proba(X_train_rov)[:,1]"
      ],
      "execution_count": 93,
      "outputs": []
    },
    {
      "cell_type": "code",
      "metadata": {
        "colab": {
          "base_uri": "https://localhost:8080/",
          "height": 404
        },
        "id": "8QMR_3wn_Q9l",
        "outputId": "a21db533-303d-4533-fe1e-9060f3c9fdce"
      },
      "source": [
        "y_train_rov_df = pd.DataFrame(y_train_rov, columns=['ratings'])\n",
        "y_train_rov_df"
      ],
      "execution_count": 94,
      "outputs": [
        {
          "output_type": "execute_result",
          "data": {
            "text/html": [
              "<div>\n",
              "<style scoped>\n",
              "    .dataframe tbody tr th:only-of-type {\n",
              "        vertical-align: middle;\n",
              "    }\n",
              "\n",
              "    .dataframe tbody tr th {\n",
              "        vertical-align: top;\n",
              "    }\n",
              "\n",
              "    .dataframe thead th {\n",
              "        text-align: right;\n",
              "    }\n",
              "</style>\n",
              "<table border=\"1\" class=\"dataframe\">\n",
              "  <thead>\n",
              "    <tr style=\"text-align: right;\">\n",
              "      <th></th>\n",
              "      <th>ratings</th>\n",
              "    </tr>\n",
              "  </thead>\n",
              "  <tbody>\n",
              "    <tr>\n",
              "      <th>0</th>\n",
              "      <td>1</td>\n",
              "    </tr>\n",
              "    <tr>\n",
              "      <th>1</th>\n",
              "      <td>1</td>\n",
              "    </tr>\n",
              "    <tr>\n",
              "      <th>2</th>\n",
              "      <td>1</td>\n",
              "    </tr>\n",
              "    <tr>\n",
              "      <th>3</th>\n",
              "      <td>1</td>\n",
              "    </tr>\n",
              "    <tr>\n",
              "      <th>4</th>\n",
              "      <td>1</td>\n",
              "    </tr>\n",
              "    <tr>\n",
              "      <th>...</th>\n",
              "      <td>...</td>\n",
              "    </tr>\n",
              "    <tr>\n",
              "      <th>37289</th>\n",
              "      <td>0</td>\n",
              "    </tr>\n",
              "    <tr>\n",
              "      <th>37290</th>\n",
              "      <td>0</td>\n",
              "    </tr>\n",
              "    <tr>\n",
              "      <th>37291</th>\n",
              "      <td>0</td>\n",
              "    </tr>\n",
              "    <tr>\n",
              "      <th>37292</th>\n",
              "      <td>0</td>\n",
              "    </tr>\n",
              "    <tr>\n",
              "      <th>37293</th>\n",
              "      <td>0</td>\n",
              "    </tr>\n",
              "  </tbody>\n",
              "</table>\n",
              "<p>37294 rows × 1 columns</p>\n",
              "</div>"
            ],
            "text/plain": [
              "       ratings\n",
              "0            1\n",
              "1            1\n",
              "2            1\n",
              "3            1\n",
              "4            1\n",
              "...        ...\n",
              "37289        0\n",
              "37290        0\n",
              "37291        0\n",
              "37292        0\n",
              "37293        0\n",
              "\n",
              "[37294 rows x 1 columns]"
            ]
          },
          "metadata": {
            "tags": []
          },
          "execution_count": 94
        }
      ]
    },
    {
      "cell_type": "code",
      "metadata": {
        "colab": {
          "base_uri": "https://localhost:8080/",
          "height": 196
        },
        "id": "4HOZvY4s42Xl",
        "outputId": "74f69d68-65eb-473f-fd58-c6630dd172d5"
      },
      "source": [
        "# dataframe with probability of predictions\n",
        "y_train_pred_final = pd.DataFrame({'actual_reviews':y_train_rov, 'predicted_prob':xg_trainpred_prob})\n",
        "y_train_pred_final['ID'] = y_train_rov_df.index\n",
        "y_train_pred_final.head()"
      ],
      "execution_count": 95,
      "outputs": [
        {
          "output_type": "execute_result",
          "data": {
            "text/html": [
              "<div>\n",
              "<style scoped>\n",
              "    .dataframe tbody tr th:only-of-type {\n",
              "        vertical-align: middle;\n",
              "    }\n",
              "\n",
              "    .dataframe tbody tr th {\n",
              "        vertical-align: top;\n",
              "    }\n",
              "\n",
              "    .dataframe thead th {\n",
              "        text-align: right;\n",
              "    }\n",
              "</style>\n",
              "<table border=\"1\" class=\"dataframe\">\n",
              "  <thead>\n",
              "    <tr style=\"text-align: right;\">\n",
              "      <th></th>\n",
              "      <th>actual_reviews</th>\n",
              "      <th>predicted_prob</th>\n",
              "      <th>ID</th>\n",
              "    </tr>\n",
              "  </thead>\n",
              "  <tbody>\n",
              "    <tr>\n",
              "      <th>0</th>\n",
              "      <td>1</td>\n",
              "      <td>0.388968</td>\n",
              "      <td>0</td>\n",
              "    </tr>\n",
              "    <tr>\n",
              "      <th>1</th>\n",
              "      <td>1</td>\n",
              "      <td>0.965007</td>\n",
              "      <td>1</td>\n",
              "    </tr>\n",
              "    <tr>\n",
              "      <th>2</th>\n",
              "      <td>1</td>\n",
              "      <td>0.955935</td>\n",
              "      <td>2</td>\n",
              "    </tr>\n",
              "    <tr>\n",
              "      <th>3</th>\n",
              "      <td>1</td>\n",
              "      <td>0.911340</td>\n",
              "      <td>3</td>\n",
              "    </tr>\n",
              "    <tr>\n",
              "      <th>4</th>\n",
              "      <td>1</td>\n",
              "      <td>0.904010</td>\n",
              "      <td>4</td>\n",
              "    </tr>\n",
              "  </tbody>\n",
              "</table>\n",
              "</div>"
            ],
            "text/plain": [
              "   actual_reviews  predicted_prob  ID\n",
              "0               1        0.388968   0\n",
              "1               1        0.965007   1\n",
              "2               1        0.955935   2\n",
              "3               1        0.911340   3\n",
              "4               1        0.904010   4"
            ]
          },
          "metadata": {
            "tags": []
          },
          "execution_count": 95
        }
      ]
    },
    {
      "cell_type": "code",
      "metadata": {
        "colab": {
          "base_uri": "https://localhost:8080/",
          "height": 196
        },
        "id": "SIkabn1kAkaM",
        "outputId": "c1ff9b1b-59fe-480d-b9ca-518b2e8bbc4a"
      },
      "source": [
        "# choosing probability cutoff\n",
        "numbers = [float(x)/10 for x in range(10)]\n",
        "for i in numbers:\n",
        "    y_train_pred_final[i]= y_train_pred_final.predicted_prob.map(lambda x: 1 if x > i else 0)\n",
        "y_train_pred_final.head()"
      ],
      "execution_count": 96,
      "outputs": [
        {
          "output_type": "execute_result",
          "data": {
            "text/html": [
              "<div>\n",
              "<style scoped>\n",
              "    .dataframe tbody tr th:only-of-type {\n",
              "        vertical-align: middle;\n",
              "    }\n",
              "\n",
              "    .dataframe tbody tr th {\n",
              "        vertical-align: top;\n",
              "    }\n",
              "\n",
              "    .dataframe thead th {\n",
              "        text-align: right;\n",
              "    }\n",
              "</style>\n",
              "<table border=\"1\" class=\"dataframe\">\n",
              "  <thead>\n",
              "    <tr style=\"text-align: right;\">\n",
              "      <th></th>\n",
              "      <th>actual_reviews</th>\n",
              "      <th>predicted_prob</th>\n",
              "      <th>ID</th>\n",
              "      <th>0.0</th>\n",
              "      <th>0.1</th>\n",
              "      <th>0.2</th>\n",
              "      <th>0.3</th>\n",
              "      <th>0.4</th>\n",
              "      <th>0.5</th>\n",
              "      <th>0.6</th>\n",
              "      <th>0.7</th>\n",
              "      <th>0.8</th>\n",
              "      <th>0.9</th>\n",
              "    </tr>\n",
              "  </thead>\n",
              "  <tbody>\n",
              "    <tr>\n",
              "      <th>0</th>\n",
              "      <td>1</td>\n",
              "      <td>0.388968</td>\n",
              "      <td>0</td>\n",
              "      <td>1</td>\n",
              "      <td>1</td>\n",
              "      <td>1</td>\n",
              "      <td>1</td>\n",
              "      <td>0</td>\n",
              "      <td>0</td>\n",
              "      <td>0</td>\n",
              "      <td>0</td>\n",
              "      <td>0</td>\n",
              "      <td>0</td>\n",
              "    </tr>\n",
              "    <tr>\n",
              "      <th>1</th>\n",
              "      <td>1</td>\n",
              "      <td>0.965007</td>\n",
              "      <td>1</td>\n",
              "      <td>1</td>\n",
              "      <td>1</td>\n",
              "      <td>1</td>\n",
              "      <td>1</td>\n",
              "      <td>1</td>\n",
              "      <td>1</td>\n",
              "      <td>1</td>\n",
              "      <td>1</td>\n",
              "      <td>1</td>\n",
              "      <td>1</td>\n",
              "    </tr>\n",
              "    <tr>\n",
              "      <th>2</th>\n",
              "      <td>1</td>\n",
              "      <td>0.955935</td>\n",
              "      <td>2</td>\n",
              "      <td>1</td>\n",
              "      <td>1</td>\n",
              "      <td>1</td>\n",
              "      <td>1</td>\n",
              "      <td>1</td>\n",
              "      <td>1</td>\n",
              "      <td>1</td>\n",
              "      <td>1</td>\n",
              "      <td>1</td>\n",
              "      <td>1</td>\n",
              "    </tr>\n",
              "    <tr>\n",
              "      <th>3</th>\n",
              "      <td>1</td>\n",
              "      <td>0.911340</td>\n",
              "      <td>3</td>\n",
              "      <td>1</td>\n",
              "      <td>1</td>\n",
              "      <td>1</td>\n",
              "      <td>1</td>\n",
              "      <td>1</td>\n",
              "      <td>1</td>\n",
              "      <td>1</td>\n",
              "      <td>1</td>\n",
              "      <td>1</td>\n",
              "      <td>1</td>\n",
              "    </tr>\n",
              "    <tr>\n",
              "      <th>4</th>\n",
              "      <td>1</td>\n",
              "      <td>0.904010</td>\n",
              "      <td>4</td>\n",
              "      <td>1</td>\n",
              "      <td>1</td>\n",
              "      <td>1</td>\n",
              "      <td>1</td>\n",
              "      <td>1</td>\n",
              "      <td>1</td>\n",
              "      <td>1</td>\n",
              "      <td>1</td>\n",
              "      <td>1</td>\n",
              "      <td>1</td>\n",
              "    </tr>\n",
              "  </tbody>\n",
              "</table>\n",
              "</div>"
            ],
            "text/plain": [
              "   actual_reviews  predicted_prob  ID  0.0  0.1  ...  0.5  0.6  0.7  0.8  0.9\n",
              "0               1        0.388968   0    1    1  ...    0    0    0    0    0\n",
              "1               1        0.965007   1    1    1  ...    1    1    1    1    1\n",
              "2               1        0.955935   2    1    1  ...    1    1    1    1    1\n",
              "3               1        0.911340   3    1    1  ...    1    1    1    1    1\n",
              "4               1        0.904010   4    1    1  ...    1    1    1    1    1\n",
              "\n",
              "[5 rows x 13 columns]"
            ]
          },
          "metadata": {
            "tags": []
          },
          "execution_count": 96
        }
      ]
    },
    {
      "cell_type": "code",
      "metadata": {
        "colab": {
          "base_uri": "https://localhost:8080/"
        },
        "id": "uFaUi78uBol8",
        "outputId": "b88f9d95-ab8c-4985-ce51-f58619a6a02e"
      },
      "source": [
        "# Now let's calculate accuracy sensitivity and specificity for various probability cutoffs.\n",
        "cutoff_df = pd.DataFrame( columns = ['prob','accuracy','sensi','speci'])\n",
        "from sklearn.metrics import confusion_matrix\n",
        "\n",
        "num = [0.0,0.1,0.2,0.3,0.4,0.5,0.6,0.7,0.8,0.9]\n",
        "for i in num:\n",
        "    cm1 = confusion_matrix(y_train_pred_final.actual_reviews, y_train_pred_final[i] )\n",
        "    total1=sum(sum(cm1))\n",
        "    accuracy = (cm1[0,0]+cm1[1,1])/total1\n",
        "    \n",
        "    speci = cm1[0,0]/(cm1[0,0]+cm1[0,1])\n",
        "    sensi = cm1[1,1]/(cm1[1,0]+cm1[1,1])\n",
        "    cutoff_df.loc[i] =[ i ,accuracy,sensi,speci]\n",
        "print(cutoff_df)"
      ],
      "execution_count": 97,
      "outputs": [
        {
          "output_type": "stream",
          "text": [
            "     prob  accuracy     sensi     speci\n",
            "0.0   0.0  0.500000  1.000000  0.000000\n",
            "0.1   0.1  0.533115  0.999893  0.066338\n",
            "0.2   0.2  0.728482  0.978656  0.478308\n",
            "0.3   0.3  0.808816  0.956508  0.661125\n",
            "0.4   0.4  0.855365  0.918378  0.792353\n",
            "0.5   0.5  0.886872  0.840618  0.933126\n",
            "0.6   0.6  0.859495  0.740387  0.978602\n",
            "0.7   0.7  0.814742  0.634955  0.994530\n",
            "0.8   0.8  0.737974  0.476860  0.999088\n",
            "0.9   0.9  0.626723  0.253446  1.000000\n"
          ],
          "name": "stdout"
        }
      ]
    },
    {
      "cell_type": "code",
      "metadata": {
        "colab": {
          "base_uri": "https://localhost:8080/",
          "height": 610
        },
        "id": "kvJK5uW7Duv0",
        "outputId": "9be51eaa-f5e7-4371-c4dd-0d9e1a1b0549"
      },
      "source": [
        "# plot to find out the right threshold\n",
        "sns.set_style(\"whitegrid\") \n",
        "sns.set_context(\"paper\") \n",
        "cutoff_df.plot.line(x='prob', y=['accuracy','sensi','speci'], figsize=(10,10))\n",
        "# plot x axis limits\n",
        "plt.xticks(np.arange(0, 1, step=0.05), size = 12, )\n",
        "plt.yticks(size = 12)\n",
        "plt.show()\n"
      ],
      "execution_count": 98,
      "outputs": [
        {
          "output_type": "display_data",
          "data": {
            "image/png": "[encoded data removed]",
            "text/plain": [
              "<Figure size 720x720 with 1 Axes>"
            ]
          },
          "metadata": {
            "tags": []
          }
        }
      ]
    },
    {
      "cell_type": "markdown",
      "metadata": {
        "id": "9aecvi_ebKE2"
      },
      "source": [
        "#### Choosing 0.5 as probability cutoff"
      ]
    },
    {
      "cell_type": "code",
      "metadata": {
        "colab": {
          "base_uri": "https://localhost:8080/",
          "height": 196
        },
        "id": "0gs4xTSkD5L2",
        "outputId": "7add6588-9241-4ec3-f62f-8860b543b9f6"
      },
      "source": [
        "# Creating new column 'final_predicted' with 1 if Converted_prob > 0.5 else 0\n",
        "y_train_pred_final['final_predicted'] = y_train_pred_final.predicted_prob.map( lambda x: 1 if x > 0.5 else 0)\n",
        "\n",
        "y_train_pred_final.head()"
      ],
      "execution_count": 99,
      "outputs": [
        {
          "output_type": "execute_result",
          "data": {
            "text/html": [
              "<div>\n",
              "<style scoped>\n",
              "    .dataframe tbody tr th:only-of-type {\n",
              "        vertical-align: middle;\n",
              "    }\n",
              "\n",
              "    .dataframe tbody tr th {\n",
              "        vertical-align: top;\n",
              "    }\n",
              "\n",
              "    .dataframe thead th {\n",
              "        text-align: right;\n",
              "    }\n",
              "</style>\n",
              "<table border=\"1\" class=\"dataframe\">\n",
              "  <thead>\n",
              "    <tr style=\"text-align: right;\">\n",
              "      <th></th>\n",
              "      <th>actual_reviews</th>\n",
              "      <th>predicted_prob</th>\n",
              "      <th>ID</th>\n",
              "      <th>0.0</th>\n",
              "      <th>0.1</th>\n",
              "      <th>0.2</th>\n",
              "      <th>0.3</th>\n",
              "      <th>0.4</th>\n",
              "      <th>0.5</th>\n",
              "      <th>0.6</th>\n",
              "      <th>0.7</th>\n",
              "      <th>0.8</th>\n",
              "      <th>0.9</th>\n",
              "      <th>final_predicted</th>\n",
              "    </tr>\n",
              "  </thead>\n",
              "  <tbody>\n",
              "    <tr>\n",
              "      <th>0</th>\n",
              "      <td>1</td>\n",
              "      <td>0.388968</td>\n",
              "      <td>0</td>\n",
              "      <td>1</td>\n",
              "      <td>1</td>\n",
              "      <td>1</td>\n",
              "      <td>1</td>\n",
              "      <td>0</td>\n",
              "      <td>0</td>\n",
              "      <td>0</td>\n",
              "      <td>0</td>\n",
              "      <td>0</td>\n",
              "      <td>0</td>\n",
              "      <td>0</td>\n",
              "    </tr>\n",
              "    <tr>\n",
              "      <th>1</th>\n",
              "      <td>1</td>\n",
              "      <td>0.965007</td>\n",
              "      <td>1</td>\n",
              "      <td>1</td>\n",
              "      <td>1</td>\n",
              "      <td>1</td>\n",
              "      <td>1</td>\n",
              "      <td>1</td>\n",
              "      <td>1</td>\n",
              "      <td>1</td>\n",
              "      <td>1</td>\n",
              "      <td>1</td>\n",
              "      <td>1</td>\n",
              "      <td>1</td>\n",
              "    </tr>\n",
              "    <tr>\n",
              "      <th>2</th>\n",
              "      <td>1</td>\n",
              "      <td>0.955935</td>\n",
              "      <td>2</td>\n",
              "      <td>1</td>\n",
              "      <td>1</td>\n",
              "      <td>1</td>\n",
              "      <td>1</td>\n",
              "      <td>1</td>\n",
              "      <td>1</td>\n",
              "      <td>1</td>\n",
              "      <td>1</td>\n",
              "      <td>1</td>\n",
              "      <td>1</td>\n",
              "      <td>1</td>\n",
              "    </tr>\n",
              "    <tr>\n",
              "      <th>3</th>\n",
              "      <td>1</td>\n",
              "      <td>0.911340</td>\n",
              "      <td>3</td>\n",
              "      <td>1</td>\n",
              "      <td>1</td>\n",
              "      <td>1</td>\n",
              "      <td>1</td>\n",
              "      <td>1</td>\n",
              "      <td>1</td>\n",
              "      <td>1</td>\n",
              "      <td>1</td>\n",
              "      <td>1</td>\n",
              "      <td>1</td>\n",
              "      <td>1</td>\n",
              "    </tr>\n",
              "    <tr>\n",
              "      <th>4</th>\n",
              "      <td>1</td>\n",
              "      <td>0.904010</td>\n",
              "      <td>4</td>\n",
              "      <td>1</td>\n",
              "      <td>1</td>\n",
              "      <td>1</td>\n",
              "      <td>1</td>\n",
              "      <td>1</td>\n",
              "      <td>1</td>\n",
              "      <td>1</td>\n",
              "      <td>1</td>\n",
              "      <td>1</td>\n",
              "      <td>1</td>\n",
              "      <td>1</td>\n",
              "    </tr>\n",
              "  </tbody>\n",
              "</table>\n",
              "</div>"
            ],
            "text/plain": [
              "   actual_reviews  predicted_prob  ID  0.0  ...  0.7  0.8  0.9  final_predicted\n",
              "0               1        0.388968   0    1  ...    0    0    0                0\n",
              "1               1        0.965007   1    1  ...    1    1    1                1\n",
              "2               1        0.955935   2    1  ...    1    1    1                1\n",
              "3               1        0.911340   3    1  ...    1    1    1                1\n",
              "4               1        0.904010   4    1  ...    1    1    1                1\n",
              "\n",
              "[5 rows x 14 columns]"
            ]
          },
          "metadata": {
            "tags": []
          },
          "execution_count": 99
        }
      ]
    },
    {
      "cell_type": "code",
      "metadata": {
        "colab": {
          "base_uri": "https://localhost:8080/"
        },
        "id": "hfNfFHNREYKD",
        "outputId": "8fe547d1-96fc-48f2-a0d9-91c101c2fcf7"
      },
      "source": [
        "# confusion matrix for train data\n",
        "confusion1 = confusion_matrix(y_train_pred_final.actual_reviews, y_train_pred_final.final_predicted)\n",
        "confusion1"
      ],
      "execution_count": 100,
      "outputs": [
        {
          "output_type": "execute_result",
          "data": {
            "text/plain": [
              "array([[17400,  1247],\n",
              "       [ 2972, 15675]])"
            ]
          },
          "metadata": {
            "tags": []
          },
          "execution_count": 100
        }
      ]
    },
    {
      "cell_type": "code",
      "metadata": {
        "id": "yx61hTW8Fkt8"
      },
      "source": [
        "TP = confusion1[1,1] # true positive \n",
        "TN = confusion1[0,0] # true negatives\n",
        "FP = confusion1[0,1] # false positives\n",
        "FN = confusion1[1,0] # false negatives"
      ],
      "execution_count": 101,
      "outputs": []
    },
    {
      "cell_type": "code",
      "metadata": {
        "colab": {
          "base_uri": "https://localhost:8080/"
        },
        "id": "gbauUmVAFqO0",
        "outputId": "8f02fe56-1b14-4676-cb95-25b517a94cf4"
      },
      "source": [
        "# Let's see the sensitivity\n",
        "TP / float(TP+FN)"
      ],
      "execution_count": 102,
      "outputs": [
        {
          "output_type": "execute_result",
          "data": {
            "text/plain": [
              "0.8406177937469834"
            ]
          },
          "metadata": {
            "tags": []
          },
          "execution_count": 102
        }
      ]
    },
    {
      "cell_type": "code",
      "metadata": {
        "colab": {
          "base_uri": "https://localhost:8080/"
        },
        "id": "5xP_188KFt3c",
        "outputId": "ecee4184-90b8-4e4b-b973-da7575ff79e8"
      },
      "source": [
        "# Let us calculate specificity\n",
        "TN / float(TN+FP)"
      ],
      "execution_count": 103,
      "outputs": [
        {
          "output_type": "execute_result",
          "data": {
            "text/plain": [
              "0.9331259720062208"
            ]
          },
          "metadata": {
            "tags": []
          },
          "execution_count": 103
        }
      ]
    },
    {
      "cell_type": "code",
      "metadata": {
        "id": "a8bxUetTFwQB"
      },
      "source": [
        "# prediction on test data\n",
        "xg_testpred_prob=xg_pickle_model.predict_proba(tv_test_reviews)[:,1]"
      ],
      "execution_count": 104,
      "outputs": []
    },
    {
      "cell_type": "code",
      "metadata": {
        "colab": {
          "base_uri": "https://localhost:8080/",
          "height": 196
        },
        "id": "Wi6pJeozHnuE",
        "outputId": "23165af8-a474-4724-a124-89c664a31728"
      },
      "source": [
        "# prediction probabilities\n",
        "y_test_pred_final = pd.DataFrame({'actual_reviews':y_test, 'predicted_prob':xg_testpred_prob})\n",
        "y_test_pred_final.head()"
      ],
      "execution_count": 106,
      "outputs": [
        {
          "output_type": "execute_result",
          "data": {
            "text/html": [
              "<div>\n",
              "<style scoped>\n",
              "    .dataframe tbody tr th:only-of-type {\n",
              "        vertical-align: middle;\n",
              "    }\n",
              "\n",
              "    .dataframe tbody tr th {\n",
              "        vertical-align: top;\n",
              "    }\n",
              "\n",
              "    .dataframe thead th {\n",
              "        text-align: right;\n",
              "    }\n",
              "</style>\n",
              "<table border=\"1\" class=\"dataframe\">\n",
              "  <thead>\n",
              "    <tr style=\"text-align: right;\">\n",
              "      <th></th>\n",
              "      <th>actual_reviews</th>\n",
              "      <th>predicted_prob</th>\n",
              "    </tr>\n",
              "  </thead>\n",
              "  <tbody>\n",
              "    <tr>\n",
              "      <th>6102</th>\n",
              "      <td>1</td>\n",
              "      <td>0.819170</td>\n",
              "    </tr>\n",
              "    <tr>\n",
              "      <th>2539</th>\n",
              "      <td>1</td>\n",
              "      <td>0.700634</td>\n",
              "    </tr>\n",
              "    <tr>\n",
              "      <th>21575</th>\n",
              "      <td>1</td>\n",
              "      <td>0.519773</td>\n",
              "    </tr>\n",
              "    <tr>\n",
              "      <th>19574</th>\n",
              "      <td>1</td>\n",
              "      <td>0.551777</td>\n",
              "    </tr>\n",
              "    <tr>\n",
              "      <th>12804</th>\n",
              "      <td>1</td>\n",
              "      <td>0.586170</td>\n",
              "    </tr>\n",
              "  </tbody>\n",
              "</table>\n",
              "</div>"
            ],
            "text/plain": [
              "       actual_reviews  predicted_prob\n",
              "6102                1        0.819170\n",
              "2539                1        0.700634\n",
              "21575               1        0.519773\n",
              "19574               1        0.551777\n",
              "12804               1        0.586170"
            ]
          },
          "metadata": {
            "tags": []
          },
          "execution_count": 106
        }
      ]
    },
    {
      "cell_type": "code",
      "metadata": {
        "colab": {
          "base_uri": "https://localhost:8080/",
          "height": 196
        },
        "id": "zgRE-SvhSZYV",
        "outputId": "4e20a1f4-0cb6-4de8-f5f8-5f5cf8fbd3d1"
      },
      "source": [
        "# predictions with 0.5 cutoff probability\n",
        "y_test_pred_final['final_predicted'] = y_test_pred_final.predicted_prob.map(lambda x: 1 if x > 0.5 else 0)\n",
        "y_test_pred_final.head()"
      ],
      "execution_count": 107,
      "outputs": [
        {
          "output_type": "execute_result",
          "data": {
            "text/html": [
              "<div>\n",
              "<style scoped>\n",
              "    .dataframe tbody tr th:only-of-type {\n",
              "        vertical-align: middle;\n",
              "    }\n",
              "\n",
              "    .dataframe tbody tr th {\n",
              "        vertical-align: top;\n",
              "    }\n",
              "\n",
              "    .dataframe thead th {\n",
              "        text-align: right;\n",
              "    }\n",
              "</style>\n",
              "<table border=\"1\" class=\"dataframe\">\n",
              "  <thead>\n",
              "    <tr style=\"text-align: right;\">\n",
              "      <th></th>\n",
              "      <th>actual_reviews</th>\n",
              "      <th>predicted_prob</th>\n",
              "      <th>final_predicted</th>\n",
              "    </tr>\n",
              "  </thead>\n",
              "  <tbody>\n",
              "    <tr>\n",
              "      <th>6102</th>\n",
              "      <td>1</td>\n",
              "      <td>0.819170</td>\n",
              "      <td>1</td>\n",
              "    </tr>\n",
              "    <tr>\n",
              "      <th>2539</th>\n",
              "      <td>1</td>\n",
              "      <td>0.700634</td>\n",
              "      <td>1</td>\n",
              "    </tr>\n",
              "    <tr>\n",
              "      <th>21575</th>\n",
              "      <td>1</td>\n",
              "      <td>0.519773</td>\n",
              "      <td>1</td>\n",
              "    </tr>\n",
              "    <tr>\n",
              "      <th>19574</th>\n",
              "      <td>1</td>\n",
              "      <td>0.551777</td>\n",
              "      <td>1</td>\n",
              "    </tr>\n",
              "    <tr>\n",
              "      <th>12804</th>\n",
              "      <td>1</td>\n",
              "      <td>0.586170</td>\n",
              "      <td>1</td>\n",
              "    </tr>\n",
              "  </tbody>\n",
              "</table>\n",
              "</div>"
            ],
            "text/plain": [
              "       actual_reviews  predicted_prob  final_predicted\n",
              "6102                1        0.819170                1\n",
              "2539                1        0.700634                1\n",
              "21575               1        0.519773                1\n",
              "19574               1        0.551777                1\n",
              "12804               1        0.586170                1"
            ]
          },
          "metadata": {
            "tags": []
          },
          "execution_count": 107
        }
      ]
    },
    {
      "cell_type": "code",
      "metadata": {
        "colab": {
          "base_uri": "https://localhost:8080/"
        },
        "id": "mSMPSD6iTB9w",
        "outputId": "35ccc343-6c5c-4f59-d468-44a0a8090cc5"
      },
      "source": [
        "# confusion matrix for test data\n",
        "confusion2 = confusion_matrix(y_test_pred_final.actual_reviews, y_test_pred_final.final_predicted )\n",
        "confusion2"
      ],
      "execution_count": 108,
      "outputs": [
        {
          "output_type": "execute_result",
          "data": {
            "text/plain": [
              "array([[ 826,  189],\n",
              "       [1340, 6645]])"
            ]
          },
          "metadata": {
            "tags": []
          },
          "execution_count": 108
        }
      ]
    },
    {
      "cell_type": "code",
      "metadata": {
        "id": "uG6MmARETNIm"
      },
      "source": [
        "TP = confusion2[1,1] # true positive \n",
        "TN = confusion2[0,0] # true negatives\n",
        "FP = confusion2[0,1] # false positives\n",
        "FN = confusion2[1,0] # false negatives"
      ],
      "execution_count": 109,
      "outputs": []
    },
    {
      "cell_type": "code",
      "metadata": {
        "colab": {
          "base_uri": "https://localhost:8080/"
        },
        "id": "A6xGRD8PTQb8",
        "outputId": "3c306755-4c64-436c-df78-ec206732c95d"
      },
      "source": [
        "# Let's see the sensitivity of our test data\n",
        "TP / float(TP+FN)"
      ],
      "execution_count": 110,
      "outputs": [
        {
          "output_type": "execute_result",
          "data": {
            "text/plain": [
              "0.8321853475266124"
            ]
          },
          "metadata": {
            "tags": []
          },
          "execution_count": 110
        }
      ]
    },
    {
      "cell_type": "code",
      "metadata": {
        "colab": {
          "base_uri": "https://localhost:8080/"
        },
        "id": "ao2oU43wTSa7",
        "outputId": "ad795a9a-e16f-4d9b-e7c8-7eaf9c1c07bd"
      },
      "source": [
        "# Let us calculate specificity of our test data\n",
        "TN / float(TN+FP)"
      ],
      "execution_count": 111,
      "outputs": [
        {
          "output_type": "execute_result",
          "data": {
            "text/plain": [
              "0.8137931034482758"
            ]
          },
          "metadata": {
            "tags": []
          },
          "execution_count": 111
        }
      ]
    },
    {
      "cell_type": "code",
      "metadata": {
        "colab": {
          "base_uri": "https://localhost:8080/"
        },
        "id": "vyDDdtPyTYJL",
        "outputId": "a232405f-f396-4c95-81de-87d10f373ad7"
      },
      "source": [
        "# roc of test data\n",
        "roc_auc_score(y_test, xg_pickle_model.predict_proba(tv_test_reviews)[:,1])"
      ],
      "execution_count": 112,
      "outputs": [
        {
          "output_type": "execute_result",
          "data": {
            "text/plain": [
              "0.9059759216017719"
            ]
          },
          "metadata": {
            "tags": []
          },
          "execution_count": 112
        }
      ]
    },
    {
      "cell_type": "markdown",
      "metadata": {
        "id": "qvP9CNP1OmUF"
      },
      "source": [
        "## Recommendation Engine"
      ]
    },
    {
      "cell_type": "code",
      "metadata": {
        "colab": {
          "base_uri": "https://localhost:8080/",
          "height": 294
        },
        "id": "vSzGskKtOgm-",
        "outputId": "7fbbdb09-5b1b-4bf1-fe64-ff0264871ac0"
      },
      "source": [
        "# loading dataset\n",
        "ratings = df.copy()\n",
        "ratings.head(2)"
      ],
      "execution_count": 113,
      "outputs": [
        {
          "output_type": "execute_result",
          "data": {
            "text/html": [
              "<div>\n",
              "<style scoped>\n",
              "    .dataframe tbody tr th:only-of-type {\n",
              "        vertical-align: middle;\n",
              "    }\n",
              "\n",
              "    .dataframe tbody tr th {\n",
              "        vertical-align: top;\n",
              "    }\n",
              "\n",
              "    .dataframe thead th {\n",
              "        text-align: right;\n",
              "    }\n",
              "</style>\n",
              "<table border=\"1\" class=\"dataframe\">\n",
              "  <thead>\n",
              "    <tr style=\"text-align: right;\">\n",
              "      <th></th>\n",
              "      <th>id</th>\n",
              "      <th>brand</th>\n",
              "      <th>categories</th>\n",
              "      <th>manufacturer</th>\n",
              "      <th>name</th>\n",
              "      <th>reviews_date</th>\n",
              "      <th>reviews_didPurchase</th>\n",
              "      <th>reviews_doRecommend</th>\n",
              "      <th>reviews_rating</th>\n",
              "      <th>reviews_text</th>\n",
              "      <th>reviews_title</th>\n",
              "      <th>reviews_userCity</th>\n",
              "      <th>reviews_userProvince</th>\n",
              "      <th>reviews_username</th>\n",
              "      <th>user_sentiment</th>\n",
              "    </tr>\n",
              "  </thead>\n",
              "  <tbody>\n",
              "    <tr>\n",
              "      <th>0</th>\n",
              "      <td>AV13O1A8GV-KLJ3akUyj</td>\n",
              "      <td>Universal Music</td>\n",
              "      <td>Movies, Music &amp; Books,Music,R&amp;b,Movies &amp; TV,Mo...</td>\n",
              "      <td>Universal Music Group / Cash Money</td>\n",
              "      <td>Pink Friday: Roman Reloaded Re-Up (w/dvd)</td>\n",
              "      <td>2012-11-30T06:21:45.000Z</td>\n",
              "      <td>NaN</td>\n",
              "      <td>NaN</td>\n",
              "      <td>5</td>\n",
              "      <td>i love this album. it's very good. more to the...</td>\n",
              "      <td>Just Awesome</td>\n",
              "      <td>Los Angeles</td>\n",
              "      <td>NaN</td>\n",
              "      <td>joshua</td>\n",
              "      <td>Positive</td>\n",
              "    </tr>\n",
              "    <tr>\n",
              "      <th>1</th>\n",
              "      <td>AV14LG0R-jtxr-f38QfS</td>\n",
              "      <td>Lundberg</td>\n",
              "      <td>Food,Packaged Foods,Snacks,Crackers,Snacks, Co...</td>\n",
              "      <td>Lundberg</td>\n",
              "      <td>Lundberg Organic Cinnamon Toast Rice Cakes</td>\n",
              "      <td>2017-07-09T00:00:00.000Z</td>\n",
              "      <td>True</td>\n",
              "      <td>NaN</td>\n",
              "      <td>5</td>\n",
              "      <td>Good flavor. This review was collected as part...</td>\n",
              "      <td>Good</td>\n",
              "      <td>NaN</td>\n",
              "      <td>NaN</td>\n",
              "      <td>dorothy w</td>\n",
              "      <td>Positive</td>\n",
              "    </tr>\n",
              "  </tbody>\n",
              "</table>\n",
              "</div>"
            ],
            "text/plain": [
              "                     id            brand  ... reviews_username user_sentiment\n",
              "0  AV13O1A8GV-KLJ3akUyj  Universal Music  ...           joshua       Positive\n",
              "1  AV14LG0R-jtxr-f38QfS         Lundberg  ...        dorothy w       Positive\n",
              "\n",
              "[2 rows x 15 columns]"
            ]
          },
          "metadata": {
            "tags": []
          },
          "execution_count": 113
        }
      ]
    },
    {
      "cell_type": "code",
      "metadata": {
        "colab": {
          "base_uri": "https://localhost:8080/",
          "height": 226
        },
        "id": "Co-HuMxVOs2s",
        "outputId": "8611bff8-cbf0-412b-cab8-1c910a62b3aa"
      },
      "source": [
        "# filtering columns for recommendation engine\n",
        "ratings=ratings[['reviews_username','name','reviews_rating']]\n",
        "ratings.head(6)"
      ],
      "execution_count": 114,
      "outputs": [
        {
          "output_type": "execute_result",
          "data": {
            "text/html": [
              "<div>\n",
              "<style scoped>\n",
              "    .dataframe tbody tr th:only-of-type {\n",
              "        vertical-align: middle;\n",
              "    }\n",
              "\n",
              "    .dataframe tbody tr th {\n",
              "        vertical-align: top;\n",
              "    }\n",
              "\n",
              "    .dataframe thead th {\n",
              "        text-align: right;\n",
              "    }\n",
              "</style>\n",
              "<table border=\"1\" class=\"dataframe\">\n",
              "  <thead>\n",
              "    <tr style=\"text-align: right;\">\n",
              "      <th></th>\n",
              "      <th>reviews_username</th>\n",
              "      <th>name</th>\n",
              "      <th>reviews_rating</th>\n",
              "    </tr>\n",
              "  </thead>\n",
              "  <tbody>\n",
              "    <tr>\n",
              "      <th>0</th>\n",
              "      <td>joshua</td>\n",
              "      <td>Pink Friday: Roman Reloaded Re-Up (w/dvd)</td>\n",
              "      <td>5</td>\n",
              "    </tr>\n",
              "    <tr>\n",
              "      <th>1</th>\n",
              "      <td>dorothy w</td>\n",
              "      <td>Lundberg Organic Cinnamon Toast Rice Cakes</td>\n",
              "      <td>5</td>\n",
              "    </tr>\n",
              "    <tr>\n",
              "      <th>2</th>\n",
              "      <td>dorothy w</td>\n",
              "      <td>Lundberg Organic Cinnamon Toast Rice Cakes</td>\n",
              "      <td>5</td>\n",
              "    </tr>\n",
              "    <tr>\n",
              "      <th>3</th>\n",
              "      <td>rebecca</td>\n",
              "      <td>K-Y Love Sensuality Pleasure Gel</td>\n",
              "      <td>1</td>\n",
              "    </tr>\n",
              "    <tr>\n",
              "      <th>4</th>\n",
              "      <td>walker557</td>\n",
              "      <td>K-Y Love Sensuality Pleasure Gel</td>\n",
              "      <td>1</td>\n",
              "    </tr>\n",
              "    <tr>\n",
              "      <th>5</th>\n",
              "      <td>samantha</td>\n",
              "      <td>K-Y Love Sensuality Pleasure Gel</td>\n",
              "      <td>1</td>\n",
              "    </tr>\n",
              "  </tbody>\n",
              "</table>\n",
              "</div>"
            ],
            "text/plain": [
              "  reviews_username                                        name  reviews_rating\n",
              "0           joshua   Pink Friday: Roman Reloaded Re-Up (w/dvd)               5\n",
              "1        dorothy w  Lundberg Organic Cinnamon Toast Rice Cakes               5\n",
              "2        dorothy w  Lundberg Organic Cinnamon Toast Rice Cakes               5\n",
              "3          rebecca            K-Y Love Sensuality Pleasure Gel               1\n",
              "4        walker557            K-Y Love Sensuality Pleasure Gel               1\n",
              "5         samantha            K-Y Love Sensuality Pleasure Gel               1"
            ]
          },
          "metadata": {
            "tags": []
          },
          "execution_count": 114
        }
      ]
    },
    {
      "cell_type": "code",
      "metadata": {
        "colab": {
          "base_uri": "https://localhost:8080/"
        },
        "id": "oGz5TYq7Ov5d",
        "outputId": "838f4c52-5c0f-4d79-989a-1cf89eb7c60a"
      },
      "source": [
        "# giving user id and item id\n",
        "ratings['user_id'] = ratings.groupby(ratings['reviews_username'].tolist(), sort=False).ngroup() + 1\n",
        "ratings['item_id'] = ratings.groupby(ratings['name'].tolist(), sort=False).ngroup() + 1\n",
        "ratings.shape"
      ],
      "execution_count": 115,
      "outputs": [
        {
          "output_type": "execute_result",
          "data": {
            "text/plain": [
              "(30000, 5)"
            ]
          },
          "metadata": {
            "tags": []
          },
          "execution_count": 115
        }
      ]
    },
    {
      "cell_type": "code",
      "metadata": {
        "colab": {
          "base_uri": "https://localhost:8080/"
        },
        "id": "GsXc2eWwO4VW",
        "outputId": "0a09664e-5485-4e87-be7b-4bbb91c440bb"
      },
      "source": [
        "# checking for null values\n",
        "ratings.isnull().sum()"
      ],
      "execution_count": 116,
      "outputs": [
        {
          "output_type": "execute_result",
          "data": {
            "text/plain": [
              "reviews_username    63\n",
              "name                 0\n",
              "reviews_rating       0\n",
              "user_id              0\n",
              "item_id              0\n",
              "dtype: int64"
            ]
          },
          "metadata": {
            "tags": []
          },
          "execution_count": 116
        }
      ]
    },
    {
      "cell_type": "code",
      "metadata": {
        "id": "yz_T8lYCO7vh"
      },
      "source": [
        "# dropping rows with null values and dropping duplicates\n",
        "ratings=ratings.dropna()\n",
        "ratings=ratings.drop_duplicates(subset=['reviews_username','name'])"
      ],
      "execution_count": 117,
      "outputs": []
    },
    {
      "cell_type": "code",
      "metadata": {
        "id": "wK6b_tb7O-Y9"
      },
      "source": [
        "# Test and Train split of the dataset.\n",
        "train, test = train_test_split(ratings, test_size=0.30, random_state=31)"
      ],
      "execution_count": 118,
      "outputs": []
    },
    {
      "cell_type": "code",
      "metadata": {
        "colab": {
          "base_uri": "https://localhost:8080/"
        },
        "id": "mczM9nUqPA-p",
        "outputId": "02367868-e5e0-4dd4-99e6-7e0529e84116"
      },
      "source": [
        "print(train.shape)\n",
        "print(test.shape)"
      ],
      "execution_count": 119,
      "outputs": [
        {
          "output_type": "stream",
          "text": [
            "(19311, 5)\n",
            "(8277, 5)\n"
          ],
          "name": "stdout"
        }
      ]
    },
    {
      "cell_type": "markdown",
      "metadata": {
        "id": "uRT0KOdvYQcD"
      },
      "source": [
        "## User User Recommendation Engine"
      ]
    },
    {
      "cell_type": "code",
      "metadata": {
        "id": "N_ACZSc3PDWA"
      },
      "source": [
        "def user_user(train,test,pred,user_name=None):\n",
        "  \n",
        "  # Pivot the train ratings' dataset into matrix format in which columns are item id and the rows are user IDs.\n",
        "  df_pivot = train.pivot(\n",
        "      index='user_id',\n",
        "      columns='item_id',\n",
        "      values='reviews_rating').fillna(0)\n",
        "\n",
        "  '''Creating dummy train & dummy test dataset\n",
        "  These dataset will be used for prediction\n",
        "  Dummy train will be used later for prediction of the items which has not been rated by the user.\n",
        "  To ignore the items rated by the user, we will mark it as 0 during prediction.\n",
        "  The items not rated by user is marked as 1 for prediction in dummy train dataset.\n",
        "  Dummy test will be used for evaluation. To evaluate, we will only make prediction on the itemss rated by the user.\n",
        "  So, this is marked as 1. This is just opposite of dummy_train.'''\n",
        "\n",
        "  # Copy the train dataset into dummy_train\n",
        "  dummy_train = train.copy()\n",
        "\n",
        "  # The items not rated by user is marked as 1 for prediction. \n",
        "  dummy_train['reviews_rating'] = dummy_train['reviews_rating'].apply(lambda x: 0 if x>=1 else 1)\n",
        "\n",
        "  # Convert the dummy train dataset into matrix format.\n",
        "  dummy_train = dummy_train.pivot(\n",
        "      index='user_id',\n",
        "      columns='item_id',\n",
        "      values='reviews_rating').fillna(1)\n",
        "  \n",
        "  # Using adjusted Cosine\n",
        "  # Create a user-item matrix.\n",
        "  df_pivot = train.pivot_table(\n",
        "      index='user_id',\n",
        "      columns='item_id',\n",
        "      values='reviews_rating')\n",
        "\n",
        "  # Normalising the rating of the item for each user around 0 mean\n",
        "  mean = np.nanmean(df_pivot, axis=1)\n",
        "  df_subtracted = (df_pivot.T-mean).T\n",
        "\n",
        "  # Creating the User Similarity Matrix using pairwise_distance function.\n",
        "  user_correlation = 1 - pairwise_distances(df_subtracted.fillna(0), metric='cosine')\n",
        "  user_correlation[np.isnan(user_correlation)] = 0\n",
        "\n",
        "  if pred==True:\n",
        "    # Prediction\n",
        "    '''Doing the prediction for the users which are positively related with other users,\n",
        "    and not the users which are negatively related as we are interested in the users which are more similar to the current users.\n",
        "    So, ignoring the correlation for values less than 0.'''\n",
        "    user_correlation[user_correlation<0]=0\n",
        "    \n",
        "    '''Rating predicted by the user (for items rated as well as not rated) is the weighted sum of\n",
        "    correlation with the item rating (as present in the rating dataset).'''\n",
        "    user_predicted_ratings = np.dot(user_correlation, df_pivot.fillna(0))\n",
        "\n",
        "    # Since we are interested only in the items not rated by the user, we will ignore the items rated by the user by making it zero.\n",
        "    user_final_rating = np.multiply(user_predicted_ratings,dummy_train)\n",
        "    # Saving the model\n",
        "    filepath = \"/content/drive/MyDrive/Colab Notebooks/reco_best.pkl\"\n",
        "    with gzip.open(filepath, \"wb\") as f:\n",
        "      pickled = pickle.dumps(user_final_rating)\n",
        "      optimized_pickle = pickletools.optimize(pickled)\n",
        "      f.write(optimized_pickle)\n",
        "\n",
        "    user_input=ratings.loc[ratings['reviews_username']==user_name]['user_id'].reset_index(drop=True)[0]\n",
        "    d = user_final_rating.loc[user_input].sort_values(ascending=False)[0:20]\n",
        "    d = pd.merge(d,ratings[['item_id','name']],left_on='item_id',right_on='item_id', how = 'left')\n",
        "    d.drop_duplicates(inplace=True)\n",
        "    return d\n",
        "\n",
        "  else:\n",
        "    # Evaluation\n",
        "    # Find out the common users of test and train dataset.\n",
        "    common = test[test.user_id.isin(train.user_id)]\n",
        "\n",
        "    # convert into the user-item matrix.\n",
        "    common_user_based_matrix = common.pivot_table(index='user_id', columns='item_id', values='reviews_rating')\n",
        "\n",
        "    # Convert the user_correlation matrix into dataframe.\n",
        "    user_correlation_df = pd.DataFrame(user_correlation)\n",
        "    user_correlation_df['user_id'] = df_subtracted.index\n",
        "    user_correlation_df.set_index('user_id',inplace=True)\n",
        "    \n",
        "    list_name = common.user_id.tolist()\n",
        "    user_correlation_df.columns = df_subtracted.index.tolist()\n",
        "    user_correlation_df_1 =  user_correlation_df[user_correlation_df.index.isin(list_name)]\n",
        "\n",
        "    user_correlation_df_2 = user_correlation_df_1.T[user_correlation_df_1.T.index.isin(list_name)]\n",
        "    user_correlation_df_3 = user_correlation_df_2.T\n",
        "    user_correlation_df_3[user_correlation_df_3<0]=0\n",
        "    common_user_predicted_ratings = np.dot(user_correlation_df_3, common_user_based_matrix.fillna(0))\n",
        "\n",
        "    dummy_test = common.copy()\n",
        "    dummy_test['reviews_rating'] = dummy_test['reviews_rating'].apply(lambda x: 1 if x>=1 else 0)\n",
        "    dummy_test = dummy_test.pivot_table(index='user_id', columns='item_id', values='reviews_rating').fillna(0)\n",
        "    common_user_predicted_ratings = np.multiply(common_user_predicted_ratings,dummy_test)\n",
        "\n",
        "    #RMSE\n",
        "    X  = common_user_predicted_ratings.copy() \n",
        "    X = X[X>0]\n",
        "    with warnings.catch_warnings():\n",
        "      warnings.simplefilter(\"ignore\", category=RuntimeWarning)\n",
        "      scaler = MinMaxScaler(feature_range=(1, 5))\n",
        "      print(scaler.fit(X))\n",
        "    y = (scaler.transform(X))\n",
        "\n",
        "    common_ = common.pivot_table(index='user_id', columns='item_id', values='reviews_rating')\n",
        "    # Finding total non-NaN value\n",
        "    total_non_nan = np.count_nonzero(~np.isnan(y))\n",
        "    rmse = (sum(sum((common_ - y )**2))/total_non_nan)**0.5\n",
        "    return rmse\n",
        "\n"
      ],
      "execution_count": 120,
      "outputs": []
    },
    {
      "cell_type": "code",
      "metadata": {
        "colab": {
          "base_uri": "https://localhost:8080/",
          "height": 644
        },
        "id": "Exnr4YqxPSj3",
        "outputId": "14d1ea48-d935-4774-a0ee-2f2f9f3044cd"
      },
      "source": [
        "# getting top 20 recommendation\n",
        "top20= user_user(train=train,test=test,pred=True,user_name='joshua')\n",
        "top20"
      ],
      "execution_count": 121,
      "outputs": [
        {
          "output_type": "execute_result",
          "data": {
            "text/html": [
              "<div>\n",
              "<style scoped>\n",
              "    .dataframe tbody tr th:only-of-type {\n",
              "        vertical-align: middle;\n",
              "    }\n",
              "\n",
              "    .dataframe tbody tr th {\n",
              "        vertical-align: top;\n",
              "    }\n",
              "\n",
              "    .dataframe thead th {\n",
              "        text-align: right;\n",
              "    }\n",
              "</style>\n",
              "<table border=\"1\" class=\"dataframe\">\n",
              "  <thead>\n",
              "    <tr style=\"text-align: right;\">\n",
              "      <th></th>\n",
              "      <th>item_id</th>\n",
              "      <th>1</th>\n",
              "      <th>name</th>\n",
              "    </tr>\n",
              "  </thead>\n",
              "  <tbody>\n",
              "    <tr>\n",
              "      <th>0</th>\n",
              "      <td>80</td>\n",
              "      <td>6.560933</td>\n",
              "      <td>The Resident Evil Collection 5 Discs (blu-Ray)</td>\n",
              "    </tr>\n",
              "    <tr>\n",
              "      <th>821</th>\n",
              "      <td>43</td>\n",
              "      <td>5.550296</td>\n",
              "      <td>My Big Fat Greek Wedding 2 (blu-Ray + Dvd + Di...</td>\n",
              "    </tr>\n",
              "    <tr>\n",
              "      <th>1471</th>\n",
              "      <td>229</td>\n",
              "      <td>3.597163</td>\n",
              "      <td>Godzilla 3d Includes Digital Copy Ultraviolet ...</td>\n",
              "    </tr>\n",
              "    <tr>\n",
              "      <th>4619</th>\n",
              "      <td>250</td>\n",
              "      <td>3.136995</td>\n",
              "      <td>Planes: Fire Rescue (2 Discs) (includes Digita...</td>\n",
              "    </tr>\n",
              "    <tr>\n",
              "      <th>5716</th>\n",
              "      <td>138</td>\n",
              "      <td>2.665009</td>\n",
              "      <td>Head &amp; Shoulders Dandruff Shampoo Ocean Lift 2...</td>\n",
              "    </tr>\n",
              "    <tr>\n",
              "      <th>5722</th>\n",
              "      <td>96</td>\n",
              "      <td>2.425008</td>\n",
              "      <td>Chester's Cheese Flavored Puffcorn Snacks</td>\n",
              "    </tr>\n",
              "    <tr>\n",
              "      <th>5895</th>\n",
              "      <td>89</td>\n",
              "      <td>1.884446</td>\n",
              "      <td>Hormel Chili, No Beans</td>\n",
              "    </tr>\n",
              "    <tr>\n",
              "      <th>6089</th>\n",
              "      <td>223</td>\n",
              "      <td>0.690093</td>\n",
              "      <td>Alex Cross (dvdvideo)</td>\n",
              "    </tr>\n",
              "    <tr>\n",
              "      <th>6229</th>\n",
              "      <td>61</td>\n",
              "      <td>0.615457</td>\n",
              "      <td>Arrid Extra Dry Anti-Perspirant Deodorant Spra...</td>\n",
              "    </tr>\n",
              "    <tr>\n",
              "      <th>6247</th>\n",
              "      <td>162</td>\n",
              "      <td>0.615457</td>\n",
              "      <td>Pleasant Hearth Diamond Fireplace Screen - Esp...</td>\n",
              "    </tr>\n",
              "    <tr>\n",
              "      <th>6276</th>\n",
              "      <td>8</td>\n",
              "      <td>0.615457</td>\n",
              "      <td>Windex Original Glass Cleaner Refill 67.6oz (2...</td>\n",
              "    </tr>\n",
              "    <tr>\n",
              "      <th>6603</th>\n",
              "      <td>184</td>\n",
              "      <td>0.540562</td>\n",
              "      <td>Clorox Disinfecting Bathroom Cleaner</td>\n",
              "    </tr>\n",
              "    <tr>\n",
              "      <th>8496</th>\n",
              "      <td>234</td>\n",
              "      <td>0.533002</td>\n",
              "      <td>Stargate (ws) (ultimate Edition) (director's C...</td>\n",
              "    </tr>\n",
              "    <tr>\n",
              "      <th>8679</th>\n",
              "      <td>249</td>\n",
              "      <td>0.533002</td>\n",
              "      <td>Vicks Vaporub, Regular, 3.53oz</td>\n",
              "    </tr>\n",
              "    <tr>\n",
              "      <th>8775</th>\n",
              "      <td>91</td>\n",
              "      <td>0.533002</td>\n",
              "      <td>Clorox Disinfecting Wipes Value Pack Scented 1...</td>\n",
              "    </tr>\n",
              "    <tr>\n",
              "      <th>16561</th>\n",
              "      <td>137</td>\n",
              "      <td>0.533002</td>\n",
              "      <td>There's Something About Mary (dvd)</td>\n",
              "    </tr>\n",
              "    <tr>\n",
              "      <th>16689</th>\n",
              "      <td>69</td>\n",
              "      <td>0.432450</td>\n",
              "      <td>Pendaflex174 Divide It Up File Folder, Multi S...</td>\n",
              "    </tr>\n",
              "    <tr>\n",
              "      <th>16999</th>\n",
              "      <td>115</td>\n",
              "      <td>0.367437</td>\n",
              "      <td>Just For Men Touch Of Gray Gray Hair Treatment...</td>\n",
              "    </tr>\n",
              "    <tr>\n",
              "      <th>17216</th>\n",
              "      <td>37</td>\n",
              "      <td>0.168550</td>\n",
              "      <td>Mike Dave Need Wedding Dates (dvd + Digital)</td>\n",
              "    </tr>\n",
              "    <tr>\n",
              "      <th>17932</th>\n",
              "      <td>204</td>\n",
              "      <td>0.168550</td>\n",
              "      <td>Tostitos Bite Size Tortilla Chips</td>\n",
              "    </tr>\n",
              "  </tbody>\n",
              "</table>\n",
              "</div>"
            ],
            "text/plain": [
              "       item_id         1                                               name\n",
              "0           80  6.560933     The Resident Evil Collection 5 Discs (blu-Ray)\n",
              "821         43  5.550296  My Big Fat Greek Wedding 2 (blu-Ray + Dvd + Di...\n",
              "1471       229  3.597163  Godzilla 3d Includes Digital Copy Ultraviolet ...\n",
              "4619       250  3.136995  Planes: Fire Rescue (2 Discs) (includes Digita...\n",
              "5716       138  2.665009  Head & Shoulders Dandruff Shampoo Ocean Lift 2...\n",
              "5722        96  2.425008          Chester's Cheese Flavored Puffcorn Snacks\n",
              "5895        89  1.884446                             Hormel Chili, No Beans\n",
              "6089       223  0.690093                              Alex Cross (dvdvideo)\n",
              "6229        61  0.615457  Arrid Extra Dry Anti-Perspirant Deodorant Spra...\n",
              "6247       162  0.615457  Pleasant Hearth Diamond Fireplace Screen - Esp...\n",
              "6276         8  0.615457  Windex Original Glass Cleaner Refill 67.6oz (2...\n",
              "6603       184  0.540562               Clorox Disinfecting Bathroom Cleaner\n",
              "8496       234  0.533002  Stargate (ws) (ultimate Edition) (director's C...\n",
              "8679       249  0.533002                     Vicks Vaporub, Regular, 3.53oz\n",
              "8775        91  0.533002  Clorox Disinfecting Wipes Value Pack Scented 1...\n",
              "16561      137  0.533002                 There's Something About Mary (dvd)\n",
              "16689       69  0.432450  Pendaflex174 Divide It Up File Folder, Multi S...\n",
              "16999      115  0.367437  Just For Men Touch Of Gray Gray Hair Treatment...\n",
              "17216       37  0.168550       Mike Dave Need Wedding Dates (dvd + Digital)\n",
              "17932      204  0.168550                  Tostitos Bite Size Tortilla Chips"
            ]
          },
          "metadata": {
            "tags": []
          },
          "execution_count": 121
        }
      ]
    },
    {
      "cell_type": "code",
      "metadata": {
        "colab": {
          "base_uri": "https://localhost:8080/"
        },
        "id": "O2HXgeE-Xkwr",
        "outputId": "9bdac9b6-8f9e-4894-9068-bf340a76ce4f"
      },
      "source": [
        "#getting rmse of user-user\n",
        "rmse= user_user(train=train,test=test,pred=False,user_name=None)\n",
        "rmse"
      ],
      "execution_count": 122,
      "outputs": [
        {
          "output_type": "stream",
          "text": [
            "MinMaxScaler(copy=True, feature_range=(1, 5))\n"
          ],
          "name": "stdout"
        },
        {
          "output_type": "execute_result",
          "data": {
            "text/plain": [
              "2.542261859029648"
            ]
          },
          "metadata": {
            "tags": []
          },
          "execution_count": 122
        }
      ]
    },
    {
      "cell_type": "markdown",
      "metadata": {
        "id": "AWr-lt7oYVY8"
      },
      "source": [
        "## Item Item Recommendation Engine"
      ]
    },
    {
      "cell_type": "code",
      "metadata": {
        "id": "79qWdcRmYCgF"
      },
      "source": [
        "def item_item(train,test,pred,user_name=None):\n",
        "  # Pivot the train ratings' dataset into matrix format in which columns are item id and the rows are user IDs.\n",
        "  df_pivot = train.pivot(\n",
        "      index='user_id',\n",
        "      columns='item_id',\n",
        "      values='reviews_rating').fillna(0)\n",
        "\n",
        "  '''Creating dummy train & dummy test dataset\n",
        "  These dataset will be used for prediction\n",
        "  Dummy train will be used later for prediction of the items which has not been rated by the user.\n",
        "  To ignore the items rated by the user, we will mark it as 0 during prediction.\n",
        "  The items not rated by user is marked as 1 for prediction in dummy train dataset.\n",
        "  Dummy test will be used for evaluation. To evaluate, we will only make prediction on the items rated by the user.\n",
        "  So, this is marked as 1. This is just opposite of dummy_train.'''\n",
        "\n",
        "  # Copy the train dataset into dummy_train\n",
        "  dummy_train = train.copy()\n",
        "\n",
        "  # The items not rated by user is marked as 1 for prediction. \n",
        "  dummy_train['reviews_rating'] = dummy_train['reviews_rating'].apply(lambda x: 0 if x>=1 else 1)\n",
        "\n",
        "  # Convert the dummy train dataset into matrix format.\n",
        "  dummy_train = dummy_train.pivot(\n",
        "      index='user_id',\n",
        "      columns='item_id',\n",
        "      values='reviews_rating').fillna(1)\n",
        "  \n",
        "  # Using adjusted Cosine\n",
        "  '''Taking the transpose of the rating matrix to normalize the rating around the mean for different item ID. In the user based similarity, we    had taken mean for each user instead of each item.'''\n",
        "  df_pivot = train.pivot(\n",
        "      index='user_id',\n",
        "      columns='item_id',\n",
        "      values='reviews_rating').T\n",
        "\n",
        "  # Normalising the rating for each item for using the Adujsted Cosine\n",
        "  mean = np.nanmean(df_pivot, axis=1)\n",
        "  df_subtracted = (df_pivot.T-mean).T\n",
        "\n",
        "  # Finding the cosine similarity using pairwise distances approach\n",
        "  item_correlation = 1 - pairwise_distances(df_subtracted.fillna(0), metric='cosine')\n",
        "  item_correlation[np.isnan(item_correlation)] = 0\n",
        "\n",
        "  if pred==True:\n",
        "    # Prediction\n",
        "    # Filtering the correlation only for which the value is greater than 0. (Positively correlated)\n",
        "    item_correlation[item_correlation<0]=0\n",
        "  \n",
        "    item_predicted_ratings = np.dot((df_pivot.fillna(0).T),item_correlation)\n",
        "\n",
        "    # Filtering the rating only for the items not rated by the user for recommendation\n",
        "    item_final_rating = np.multiply(item_predicted_ratings,dummy_train)\n",
        "\n",
        "    # Finding the top 20 recommendation for the user\n",
        "    user_input=ratings.loc[ratings['reviews_username']==user_name]['user_id'].reset_index(drop=True)[0]\n",
        "    d = item_final_rating.loc[user_input].sort_values(ascending=False)[0:20]\n",
        "    d = pd.merge(d,ratings[['item_id','name']],left_on='item_id',right_on='item_id',how = 'left')\n",
        "    d.drop_duplicates(inplace=True)\n",
        "    return d\n",
        "\n",
        "  else:\n",
        "    # Evaluation\n",
        "    # Find out the common users of test and train dataset.\n",
        "    common =  test[test.item_id.isin(train.item_id)]\n",
        "\n",
        "    # convert into the user-item matrix.\n",
        "    common_item_based_matrix = common.pivot_table(index='user_id', columns='item_id', values='reviews_rating').T\n",
        "\n",
        "    # Convert the user_correlation matrix into dataframe.\n",
        "    item_correlation_df = pd.DataFrame(item_correlation)\n",
        "    item_correlation_df['item_id'] = df_subtracted.index\n",
        "    item_correlation_df.set_index('item_id',inplace=True)\n",
        "\n",
        "    list_name = common.item_id.tolist()\n",
        "    item_correlation_df.columns = df_subtracted.index.tolist()\n",
        "    item_correlation_df_1 =  item_correlation_df[item_correlation_df.index.isin(list_name)]\n",
        "    item_correlation_df_2 = item_correlation_df_1.T[item_correlation_df_1.T.index.isin(list_name)]\n",
        "    item_correlation_df_3 = item_correlation_df_2.T\n",
        "    item_correlation_df_3[item_correlation_df_3<0]=0\n",
        "    common_item_predicted_ratings = np.dot(item_correlation_df_3, common_item_based_matrix.fillna(0))\n",
        "\n",
        "    dummy_test = common.copy()\n",
        "    dummy_test['reviews_rating'] = dummy_test['reviews_rating'].apply(lambda x: 1 if x>=1 else 0)\n",
        "    dummy_test = dummy_test.pivot_table(index='user_id', columns='item_id', values='reviews_rating').T.fillna(0)\n",
        "    common_item_predicted_ratings = np.multiply(common_item_predicted_ratings,dummy_test)\n",
        "\n",
        "    #RMSE\n",
        "    X  = common_item_predicted_ratings.copy() \n",
        "    X = X[X>0]\n",
        "    with warnings.catch_warnings():\n",
        "      warnings.simplefilter(\"ignore\", category=RuntimeWarning)\n",
        "      scaler = MinMaxScaler(feature_range=(1, 5))\n",
        "      print(scaler.fit(X))\n",
        "    y = (scaler.transform(X))\n",
        "\n",
        "    common_ = common.pivot_table(index='user_id', columns='item_id', values='reviews_rating').T\n",
        "    # Finding total non-NaN value\n",
        "    total_non_nan = np.count_nonzero(~np.isnan(y))\n",
        "    rmse = (sum(sum((common_ - y )**2))/total_non_nan)**0.5\n",
        "    return rmse\n"
      ],
      "execution_count": 123,
      "outputs": []
    },
    {
      "cell_type": "code",
      "metadata": {
        "colab": {
          "base_uri": "https://localhost:8080/",
          "height": 644
        },
        "id": "k582R99ikbaO",
        "outputId": "7437270c-58d3-4b83-ada5-e974dc66f14e"
      },
      "source": [
        "#top20 recommendation based on item-item\n",
        "top20= item_item(train=train,test=test,pred=True,user_name='joshua')\n",
        "top20"
      ],
      "execution_count": 124,
      "outputs": [
        {
          "output_type": "execute_result",
          "data": {
            "text/html": [
              "<div>\n",
              "<style scoped>\n",
              "    .dataframe tbody tr th:only-of-type {\n",
              "        vertical-align: middle;\n",
              "    }\n",
              "\n",
              "    .dataframe tbody tr th {\n",
              "        vertical-align: top;\n",
              "    }\n",
              "\n",
              "    .dataframe thead th {\n",
              "        text-align: right;\n",
              "    }\n",
              "</style>\n",
              "<table border=\"1\" class=\"dataframe\">\n",
              "  <thead>\n",
              "    <tr style=\"text-align: right;\">\n",
              "      <th></th>\n",
              "      <th>item_id</th>\n",
              "      <th>1</th>\n",
              "      <th>name</th>\n",
              "    </tr>\n",
              "  </thead>\n",
              "  <tbody>\n",
              "    <tr>\n",
              "      <th>0</th>\n",
              "      <td>241</td>\n",
              "      <td>0.054340</td>\n",
              "      <td>Boraam Sonoma Kitchen Cart With Wire Brush Gra...</td>\n",
              "    </tr>\n",
              "    <tr>\n",
              "      <th>23</th>\n",
              "      <td>83</td>\n",
              "      <td>0.052603</td>\n",
              "      <td>Nearly Natural 5.5' Bamboo W/decorative Planter</td>\n",
              "    </tr>\n",
              "    <tr>\n",
              "      <th>27</th>\n",
              "      <td>43</td>\n",
              "      <td>0.041753</td>\n",
              "      <td>My Big Fat Greek Wedding 2 (blu-Ray + Dvd + Di...</td>\n",
              "    </tr>\n",
              "    <tr>\n",
              "      <th>677</th>\n",
              "      <td>32</td>\n",
              "      <td>0.039012</td>\n",
              "      <td>Bi-O-kleen Spray &amp; Wipe All Purpose Cleaner</td>\n",
              "    </tr>\n",
              "    <tr>\n",
              "      <th>685</th>\n",
              "      <td>84</td>\n",
              "      <td>0.026133</td>\n",
              "      <td>100:Complete First Season (blu-Ray)</td>\n",
              "    </tr>\n",
              "    <tr>\n",
              "      <th>820</th>\n",
              "      <td>250</td>\n",
              "      <td>0.018336</td>\n",
              "      <td>Planes: Fire Rescue (2 Discs) (includes Digita...</td>\n",
              "    </tr>\n",
              "    <tr>\n",
              "      <th>1917</th>\n",
              "      <td>58</td>\n",
              "      <td>0.017292</td>\n",
              "      <td>Tresemme Kertatin Smooth Infusing Conditioning</td>\n",
              "    </tr>\n",
              "    <tr>\n",
              "      <th>1974</th>\n",
              "      <td>119</td>\n",
              "      <td>0.016052</td>\n",
              "      <td>Mill Creek Aloe Vera &amp; Paba Lotion</td>\n",
              "    </tr>\n",
              "    <tr>\n",
              "      <th>1984</th>\n",
              "      <td>205</td>\n",
              "      <td>0.015971</td>\n",
              "      <td>Nexxus Exxtra Gel Style Creation Sculptor</td>\n",
              "    </tr>\n",
              "    <tr>\n",
              "      <th>2443</th>\n",
              "      <td>67</td>\n",
              "      <td>0.013306</td>\n",
              "      <td>Ragu Roasted Garlic Parmesan Pasta Sauce</td>\n",
              "    </tr>\n",
              "    <tr>\n",
              "      <th>2465</th>\n",
              "      <td>208</td>\n",
              "      <td>0.012937</td>\n",
              "      <td>Chips Ahoy! Original Chocolate Chip - Cookies ...</td>\n",
              "    </tr>\n",
              "    <tr>\n",
              "      <th>2534</th>\n",
              "      <td>37</td>\n",
              "      <td>0.012897</td>\n",
              "      <td>Mike Dave Need Wedding Dates (dvd + Digital)</td>\n",
              "    </tr>\n",
              "    <tr>\n",
              "      <th>3250</th>\n",
              "      <td>145</td>\n",
              "      <td>0.011779</td>\n",
              "      <td>Doc Mcstuffins: Friendship Is The Best Medicine</td>\n",
              "    </tr>\n",
              "    <tr>\n",
              "      <th>3272</th>\n",
              "      <td>69</td>\n",
              "      <td>0.008835</td>\n",
              "      <td>Pendaflex174 Divide It Up File Folder, Multi S...</td>\n",
              "    </tr>\n",
              "    <tr>\n",
              "      <th>3582</th>\n",
              "      <td>80</td>\n",
              "      <td>0.007972</td>\n",
              "      <td>The Resident Evil Collection 5 Discs (blu-Ray)</td>\n",
              "    </tr>\n",
              "    <tr>\n",
              "      <th>4403</th>\n",
              "      <td>226</td>\n",
              "      <td>0.006692</td>\n",
              "      <td>Cheetos Crunchy Flamin' Hot Cheese Flavored Sn...</td>\n",
              "    </tr>\n",
              "    <tr>\n",
              "      <th>4463</th>\n",
              "      <td>242</td>\n",
              "      <td>0.006576</td>\n",
              "      <td>Jason Aldean - They Don't Know</td>\n",
              "    </tr>\n",
              "    <tr>\n",
              "      <th>4659</th>\n",
              "      <td>91</td>\n",
              "      <td>0.005967</td>\n",
              "      <td>Clorox Disinfecting Wipes Value Pack Scented 1...</td>\n",
              "    </tr>\n",
              "    <tr>\n",
              "      <th>12445</th>\n",
              "      <td>204</td>\n",
              "      <td>0.005627</td>\n",
              "      <td>Tostitos Bite Size Tortilla Chips</td>\n",
              "    </tr>\n",
              "    <tr>\n",
              "      <th>12696</th>\n",
              "      <td>123</td>\n",
              "      <td>0.005299</td>\n",
              "      <td>Coty Airspun Face Powder, Translucent Extra Co...</td>\n",
              "    </tr>\n",
              "  </tbody>\n",
              "</table>\n",
              "</div>"
            ],
            "text/plain": [
              "       item_id         1                                               name\n",
              "0          241  0.054340  Boraam Sonoma Kitchen Cart With Wire Brush Gra...\n",
              "23          83  0.052603    Nearly Natural 5.5' Bamboo W/decorative Planter\n",
              "27          43  0.041753  My Big Fat Greek Wedding 2 (blu-Ray + Dvd + Di...\n",
              "677         32  0.039012        Bi-O-kleen Spray & Wipe All Purpose Cleaner\n",
              "685         84  0.026133                100:Complete First Season (blu-Ray)\n",
              "820        250  0.018336  Planes: Fire Rescue (2 Discs) (includes Digita...\n",
              "1917        58  0.017292     Tresemme Kertatin Smooth Infusing Conditioning\n",
              "1974       119  0.016052                 Mill Creek Aloe Vera & Paba Lotion\n",
              "1984       205  0.015971          Nexxus Exxtra Gel Style Creation Sculptor\n",
              "2443        67  0.013306           Ragu Roasted Garlic Parmesan Pasta Sauce\n",
              "2465       208  0.012937  Chips Ahoy! Original Chocolate Chip - Cookies ...\n",
              "2534        37  0.012897       Mike Dave Need Wedding Dates (dvd + Digital)\n",
              "3250       145  0.011779    Doc Mcstuffins: Friendship Is The Best Medicine\n",
              "3272        69  0.008835  Pendaflex174 Divide It Up File Folder, Multi S...\n",
              "3582        80  0.007972     The Resident Evil Collection 5 Discs (blu-Ray)\n",
              "4403       226  0.006692  Cheetos Crunchy Flamin' Hot Cheese Flavored Sn...\n",
              "4463       242  0.006576                     Jason Aldean - They Don't Know\n",
              "4659        91  0.005967  Clorox Disinfecting Wipes Value Pack Scented 1...\n",
              "12445      204  0.005627                  Tostitos Bite Size Tortilla Chips\n",
              "12696      123  0.005299  Coty Airspun Face Powder, Translucent Extra Co..."
            ]
          },
          "metadata": {
            "tags": []
          },
          "execution_count": 124
        }
      ]
    },
    {
      "cell_type": "code",
      "metadata": {
        "colab": {
          "base_uri": "https://localhost:8080/"
        },
        "id": "Za36muE7khLa",
        "outputId": "a8db983b-a5f9-4823-8d23-6043de70e10d"
      },
      "source": [
        "# rmse of item-item based recommendation\n",
        "rmse= item_item(train=train,test=test,pred=False,user_name=None)\n",
        "rmse"
      ],
      "execution_count": 125,
      "outputs": [
        {
          "output_type": "stream",
          "text": [
            "MinMaxScaler(copy=True, feature_range=(1, 5))\n"
          ],
          "name": "stdout"
        },
        {
          "output_type": "execute_result",
          "data": {
            "text/plain": [
              "3.5668224036461007"
            ]
          },
          "metadata": {
            "tags": []
          },
          "execution_count": 125
        }
      ]
    },
    {
      "cell_type": "markdown",
      "metadata": {
        "id": "xfZKlfoWnp5f"
      },
      "source": [
        "## User-User has better rmse than Item-Item. So we shall use user-user based recommendation system\n",
        "## Top 5 recommendation"
      ]
    },
    {
      "cell_type": "code",
      "metadata": {
        "id": "M2hxtmECnoHv"
      },
      "source": [
        "# loading the user-user model\n",
        "with gzip.open('/content/drive/MyDrive/Colab Notebooks/reco_best.pkl', 'rb') as f:\n",
        "    p = pickle.Unpickler(f)\n",
        "    reco_pickle_model = p.load()"
      ],
      "execution_count": 127,
      "outputs": []
    },
    {
      "cell_type": "code",
      "metadata": {
        "colab": {
          "base_uri": "https://localhost:8080/",
          "height": 275
        },
        "id": "RB1weQhXp2rA",
        "outputId": "8b92cab2-fe02-48a3-910d-9c7475ed9118"
      },
      "source": [
        "reco_pickle_model.head()"
      ],
      "execution_count": 128,
      "outputs": [
        {
          "output_type": "execute_result",
          "data": {
            "text/html": [
              "<div>\n",
              "<style scoped>\n",
              "    .dataframe tbody tr th:only-of-type {\n",
              "        vertical-align: middle;\n",
              "    }\n",
              "\n",
              "    .dataframe tbody tr th {\n",
              "        vertical-align: top;\n",
              "    }\n",
              "\n",
              "    .dataframe thead th {\n",
              "        text-align: right;\n",
              "    }\n",
              "</style>\n",
              "<table border=\"1\" class=\"dataframe\">\n",
              "  <thead>\n",
              "    <tr style=\"text-align: right;\">\n",
              "      <th>item_id</th>\n",
              "      <th>1</th>\n",
              "      <th>2</th>\n",
              "      <th>3</th>\n",
              "      <th>4</th>\n",
              "      <th>5</th>\n",
              "      <th>6</th>\n",
              "      <th>7</th>\n",
              "      <th>8</th>\n",
              "      <th>9</th>\n",
              "      <th>10</th>\n",
              "      <th>11</th>\n",
              "      <th>12</th>\n",
              "      <th>13</th>\n",
              "      <th>14</th>\n",
              "      <th>15</th>\n",
              "      <th>16</th>\n",
              "      <th>17</th>\n",
              "      <th>18</th>\n",
              "      <th>20</th>\n",
              "      <th>21</th>\n",
              "      <th>22</th>\n",
              "      <th>23</th>\n",
              "      <th>24</th>\n",
              "      <th>25</th>\n",
              "      <th>26</th>\n",
              "      <th>27</th>\n",
              "      <th>28</th>\n",
              "      <th>30</th>\n",
              "      <th>31</th>\n",
              "      <th>32</th>\n",
              "      <th>33</th>\n",
              "      <th>34</th>\n",
              "      <th>35</th>\n",
              "      <th>36</th>\n",
              "      <th>37</th>\n",
              "      <th>38</th>\n",
              "      <th>39</th>\n",
              "      <th>40</th>\n",
              "      <th>41</th>\n",
              "      <th>42</th>\n",
              "      <th>...</th>\n",
              "      <th>229</th>\n",
              "      <th>230</th>\n",
              "      <th>231</th>\n",
              "      <th>232</th>\n",
              "      <th>233</th>\n",
              "      <th>234</th>\n",
              "      <th>235</th>\n",
              "      <th>236</th>\n",
              "      <th>237</th>\n",
              "      <th>238</th>\n",
              "      <th>239</th>\n",
              "      <th>240</th>\n",
              "      <th>241</th>\n",
              "      <th>242</th>\n",
              "      <th>243</th>\n",
              "      <th>244</th>\n",
              "      <th>245</th>\n",
              "      <th>246</th>\n",
              "      <th>247</th>\n",
              "      <th>248</th>\n",
              "      <th>249</th>\n",
              "      <th>250</th>\n",
              "      <th>251</th>\n",
              "      <th>253</th>\n",
              "      <th>254</th>\n",
              "      <th>255</th>\n",
              "      <th>257</th>\n",
              "      <th>258</th>\n",
              "      <th>259</th>\n",
              "      <th>260</th>\n",
              "      <th>261</th>\n",
              "      <th>262</th>\n",
              "      <th>263</th>\n",
              "      <th>264</th>\n",
              "      <th>265</th>\n",
              "      <th>266</th>\n",
              "      <th>267</th>\n",
              "      <th>268</th>\n",
              "      <th>270</th>\n",
              "      <th>271</th>\n",
              "    </tr>\n",
              "    <tr>\n",
              "      <th>user_id</th>\n",
              "      <th></th>\n",
              "      <th></th>\n",
              "      <th></th>\n",
              "      <th></th>\n",
              "      <th></th>\n",
              "      <th></th>\n",
              "      <th></th>\n",
              "      <th></th>\n",
              "      <th></th>\n",
              "      <th></th>\n",
              "      <th></th>\n",
              "      <th></th>\n",
              "      <th></th>\n",
              "      <th></th>\n",
              "      <th></th>\n",
              "      <th></th>\n",
              "      <th></th>\n",
              "      <th></th>\n",
              "      <th></th>\n",
              "      <th></th>\n",
              "      <th></th>\n",
              "      <th></th>\n",
              "      <th></th>\n",
              "      <th></th>\n",
              "      <th></th>\n",
              "      <th></th>\n",
              "      <th></th>\n",
              "      <th></th>\n",
              "      <th></th>\n",
              "      <th></th>\n",
              "      <th></th>\n",
              "      <th></th>\n",
              "      <th></th>\n",
              "      <th></th>\n",
              "      <th></th>\n",
              "      <th></th>\n",
              "      <th></th>\n",
              "      <th></th>\n",
              "      <th></th>\n",
              "      <th></th>\n",
              "      <th></th>\n",
              "      <th></th>\n",
              "      <th></th>\n",
              "      <th></th>\n",
              "      <th></th>\n",
              "      <th></th>\n",
              "      <th></th>\n",
              "      <th></th>\n",
              "      <th></th>\n",
              "      <th></th>\n",
              "      <th></th>\n",
              "      <th></th>\n",
              "      <th></th>\n",
              "      <th></th>\n",
              "      <th></th>\n",
              "      <th></th>\n",
              "      <th></th>\n",
              "      <th></th>\n",
              "      <th></th>\n",
              "      <th></th>\n",
              "      <th></th>\n",
              "      <th></th>\n",
              "      <th></th>\n",
              "      <th></th>\n",
              "      <th></th>\n",
              "      <th></th>\n",
              "      <th></th>\n",
              "      <th></th>\n",
              "      <th></th>\n",
              "      <th></th>\n",
              "      <th></th>\n",
              "      <th></th>\n",
              "      <th></th>\n",
              "      <th></th>\n",
              "      <th></th>\n",
              "      <th></th>\n",
              "      <th></th>\n",
              "      <th></th>\n",
              "      <th></th>\n",
              "      <th></th>\n",
              "      <th></th>\n",
              "    </tr>\n",
              "  </thead>\n",
              "  <tbody>\n",
              "    <tr>\n",
              "      <th>1</th>\n",
              "      <td>0.0</td>\n",
              "      <td>0.0</td>\n",
              "      <td>0.0</td>\n",
              "      <td>0.0</td>\n",
              "      <td>0.0</td>\n",
              "      <td>0.0</td>\n",
              "      <td>0.000000</td>\n",
              "      <td>0.615457</td>\n",
              "      <td>0.0</td>\n",
              "      <td>0.0</td>\n",
              "      <td>0.0</td>\n",
              "      <td>0.0</td>\n",
              "      <td>0.000000</td>\n",
              "      <td>0.000000</td>\n",
              "      <td>0.0</td>\n",
              "      <td>0.0</td>\n",
              "      <td>0.0</td>\n",
              "      <td>0.0</td>\n",
              "      <td>0.000000</td>\n",
              "      <td>0.0</td>\n",
              "      <td>0.0</td>\n",
              "      <td>0.0</td>\n",
              "      <td>0.0</td>\n",
              "      <td>0.0</td>\n",
              "      <td>0.0</td>\n",
              "      <td>0.0</td>\n",
              "      <td>0.0</td>\n",
              "      <td>0.000000</td>\n",
              "      <td>0.0</td>\n",
              "      <td>0.0</td>\n",
              "      <td>0.000000</td>\n",
              "      <td>0.0</td>\n",
              "      <td>0.000000</td>\n",
              "      <td>0.0</td>\n",
              "      <td>0.168550</td>\n",
              "      <td>0.0</td>\n",
              "      <td>0.0</td>\n",
              "      <td>0.0</td>\n",
              "      <td>0.000000</td>\n",
              "      <td>0.0</td>\n",
              "      <td>...</td>\n",
              "      <td>3.597163</td>\n",
              "      <td>0.0</td>\n",
              "      <td>0.000000</td>\n",
              "      <td>0.0</td>\n",
              "      <td>0.000000</td>\n",
              "      <td>0.533002</td>\n",
              "      <td>0.0</td>\n",
              "      <td>0.000000</td>\n",
              "      <td>0.0</td>\n",
              "      <td>0.0</td>\n",
              "      <td>0.000000</td>\n",
              "      <td>0.0</td>\n",
              "      <td>0.101130</td>\n",
              "      <td>0.000000</td>\n",
              "      <td>0.0</td>\n",
              "      <td>0.000000</td>\n",
              "      <td>0.0</td>\n",
              "      <td>0.0</td>\n",
              "      <td>0.0</td>\n",
              "      <td>0.000000</td>\n",
              "      <td>0.533002</td>\n",
              "      <td>3.136995</td>\n",
              "      <td>0.0</td>\n",
              "      <td>0.0</td>\n",
              "      <td>0.0</td>\n",
              "      <td>0.0</td>\n",
              "      <td>0.0</td>\n",
              "      <td>0.0</td>\n",
              "      <td>0.000000</td>\n",
              "      <td>0.0</td>\n",
              "      <td>0.0</td>\n",
              "      <td>0.0</td>\n",
              "      <td>0.0</td>\n",
              "      <td>0.000000</td>\n",
              "      <td>0.0</td>\n",
              "      <td>0.0</td>\n",
              "      <td>0.0</td>\n",
              "      <td>0.0</td>\n",
              "      <td>0.000000</td>\n",
              "      <td>0.0</td>\n",
              "    </tr>\n",
              "    <tr>\n",
              "      <th>2</th>\n",
              "      <td>0.0</td>\n",
              "      <td>0.0</td>\n",
              "      <td>0.0</td>\n",
              "      <td>0.0</td>\n",
              "      <td>0.0</td>\n",
              "      <td>0.0</td>\n",
              "      <td>0.000000</td>\n",
              "      <td>0.000000</td>\n",
              "      <td>0.0</td>\n",
              "      <td>0.0</td>\n",
              "      <td>0.0</td>\n",
              "      <td>0.0</td>\n",
              "      <td>0.000000</td>\n",
              "      <td>0.000000</td>\n",
              "      <td>0.0</td>\n",
              "      <td>0.0</td>\n",
              "      <td>0.0</td>\n",
              "      <td>0.0</td>\n",
              "      <td>0.000000</td>\n",
              "      <td>0.0</td>\n",
              "      <td>0.0</td>\n",
              "      <td>0.0</td>\n",
              "      <td>0.0</td>\n",
              "      <td>0.0</td>\n",
              "      <td>0.0</td>\n",
              "      <td>0.0</td>\n",
              "      <td>0.0</td>\n",
              "      <td>0.000000</td>\n",
              "      <td>0.0</td>\n",
              "      <td>0.0</td>\n",
              "      <td>0.000000</td>\n",
              "      <td>0.0</td>\n",
              "      <td>0.000000</td>\n",
              "      <td>0.0</td>\n",
              "      <td>0.000000</td>\n",
              "      <td>0.0</td>\n",
              "      <td>0.0</td>\n",
              "      <td>0.0</td>\n",
              "      <td>0.000000</td>\n",
              "      <td>0.0</td>\n",
              "      <td>...</td>\n",
              "      <td>0.000000</td>\n",
              "      <td>0.0</td>\n",
              "      <td>0.000000</td>\n",
              "      <td>0.0</td>\n",
              "      <td>0.000000</td>\n",
              "      <td>0.000000</td>\n",
              "      <td>0.0</td>\n",
              "      <td>0.000000</td>\n",
              "      <td>0.0</td>\n",
              "      <td>0.0</td>\n",
              "      <td>0.000000</td>\n",
              "      <td>0.0</td>\n",
              "      <td>0.000000</td>\n",
              "      <td>0.000000</td>\n",
              "      <td>0.0</td>\n",
              "      <td>0.000000</td>\n",
              "      <td>0.0</td>\n",
              "      <td>0.0</td>\n",
              "      <td>0.0</td>\n",
              "      <td>0.000000</td>\n",
              "      <td>0.000000</td>\n",
              "      <td>0.000000</td>\n",
              "      <td>0.0</td>\n",
              "      <td>0.0</td>\n",
              "      <td>0.0</td>\n",
              "      <td>0.0</td>\n",
              "      <td>0.0</td>\n",
              "      <td>0.0</td>\n",
              "      <td>0.000000</td>\n",
              "      <td>0.0</td>\n",
              "      <td>0.0</td>\n",
              "      <td>0.0</td>\n",
              "      <td>0.0</td>\n",
              "      <td>0.000000</td>\n",
              "      <td>0.0</td>\n",
              "      <td>0.0</td>\n",
              "      <td>0.0</td>\n",
              "      <td>0.0</td>\n",
              "      <td>0.000000</td>\n",
              "      <td>0.0</td>\n",
              "    </tr>\n",
              "    <tr>\n",
              "      <th>3</th>\n",
              "      <td>0.0</td>\n",
              "      <td>0.0</td>\n",
              "      <td>0.0</td>\n",
              "      <td>0.0</td>\n",
              "      <td>0.0</td>\n",
              "      <td>0.0</td>\n",
              "      <td>0.000000</td>\n",
              "      <td>0.000000</td>\n",
              "      <td>0.0</td>\n",
              "      <td>0.0</td>\n",
              "      <td>0.0</td>\n",
              "      <td>0.0</td>\n",
              "      <td>0.101305</td>\n",
              "      <td>1.424082</td>\n",
              "      <td>0.0</td>\n",
              "      <td>0.0</td>\n",
              "      <td>0.0</td>\n",
              "      <td>0.0</td>\n",
              "      <td>0.308607</td>\n",
              "      <td>0.0</td>\n",
              "      <td>0.0</td>\n",
              "      <td>0.0</td>\n",
              "      <td>0.0</td>\n",
              "      <td>0.0</td>\n",
              "      <td>0.0</td>\n",
              "      <td>0.0</td>\n",
              "      <td>0.0</td>\n",
              "      <td>0.000000</td>\n",
              "      <td>0.0</td>\n",
              "      <td>0.0</td>\n",
              "      <td>3.177445</td>\n",
              "      <td>0.0</td>\n",
              "      <td>0.436436</td>\n",
              "      <td>0.0</td>\n",
              "      <td>8.050022</td>\n",
              "      <td>0.0</td>\n",
              "      <td>0.0</td>\n",
              "      <td>0.0</td>\n",
              "      <td>0.206197</td>\n",
              "      <td>0.0</td>\n",
              "      <td>...</td>\n",
              "      <td>16.673029</td>\n",
              "      <td>0.0</td>\n",
              "      <td>0.566947</td>\n",
              "      <td>0.0</td>\n",
              "      <td>0.000000</td>\n",
              "      <td>0.922720</td>\n",
              "      <td>0.0</td>\n",
              "      <td>0.572019</td>\n",
              "      <td>0.0</td>\n",
              "      <td>0.0</td>\n",
              "      <td>1.414388</td>\n",
              "      <td>0.0</td>\n",
              "      <td>3.740752</td>\n",
              "      <td>3.950623</td>\n",
              "      <td>0.0</td>\n",
              "      <td>0.460763</td>\n",
              "      <td>0.0</td>\n",
              "      <td>0.0</td>\n",
              "      <td>0.0</td>\n",
              "      <td>0.206197</td>\n",
              "      <td>0.254567</td>\n",
              "      <td>0.000000</td>\n",
              "      <td>0.0</td>\n",
              "      <td>0.0</td>\n",
              "      <td>0.0</td>\n",
              "      <td>0.0</td>\n",
              "      <td>0.0</td>\n",
              "      <td>0.0</td>\n",
              "      <td>0.000000</td>\n",
              "      <td>0.0</td>\n",
              "      <td>0.0</td>\n",
              "      <td>0.0</td>\n",
              "      <td>0.0</td>\n",
              "      <td>1.099618</td>\n",
              "      <td>0.0</td>\n",
              "      <td>0.0</td>\n",
              "      <td>0.0</td>\n",
              "      <td>0.0</td>\n",
              "      <td>0.308607</td>\n",
              "      <td>0.0</td>\n",
              "    </tr>\n",
              "    <tr>\n",
              "      <th>4</th>\n",
              "      <td>0.0</td>\n",
              "      <td>0.0</td>\n",
              "      <td>0.0</td>\n",
              "      <td>0.0</td>\n",
              "      <td>0.0</td>\n",
              "      <td>0.0</td>\n",
              "      <td>0.000000</td>\n",
              "      <td>0.000000</td>\n",
              "      <td>0.0</td>\n",
              "      <td>0.0</td>\n",
              "      <td>0.0</td>\n",
              "      <td>0.0</td>\n",
              "      <td>0.000000</td>\n",
              "      <td>0.000000</td>\n",
              "      <td>0.0</td>\n",
              "      <td>0.0</td>\n",
              "      <td>0.0</td>\n",
              "      <td>0.0</td>\n",
              "      <td>0.000000</td>\n",
              "      <td>0.0</td>\n",
              "      <td>0.0</td>\n",
              "      <td>0.0</td>\n",
              "      <td>0.0</td>\n",
              "      <td>0.0</td>\n",
              "      <td>0.0</td>\n",
              "      <td>0.0</td>\n",
              "      <td>0.0</td>\n",
              "      <td>0.000000</td>\n",
              "      <td>0.0</td>\n",
              "      <td>0.0</td>\n",
              "      <td>0.000000</td>\n",
              "      <td>0.0</td>\n",
              "      <td>0.000000</td>\n",
              "      <td>0.0</td>\n",
              "      <td>0.000000</td>\n",
              "      <td>0.0</td>\n",
              "      <td>0.0</td>\n",
              "      <td>0.0</td>\n",
              "      <td>0.000000</td>\n",
              "      <td>0.0</td>\n",
              "      <td>...</td>\n",
              "      <td>0.000000</td>\n",
              "      <td>0.0</td>\n",
              "      <td>0.000000</td>\n",
              "      <td>0.0</td>\n",
              "      <td>0.000000</td>\n",
              "      <td>0.000000</td>\n",
              "      <td>0.0</td>\n",
              "      <td>0.000000</td>\n",
              "      <td>0.0</td>\n",
              "      <td>0.0</td>\n",
              "      <td>0.000000</td>\n",
              "      <td>0.0</td>\n",
              "      <td>0.000000</td>\n",
              "      <td>0.000000</td>\n",
              "      <td>0.0</td>\n",
              "      <td>0.000000</td>\n",
              "      <td>0.0</td>\n",
              "      <td>0.0</td>\n",
              "      <td>0.0</td>\n",
              "      <td>0.000000</td>\n",
              "      <td>0.000000</td>\n",
              "      <td>0.000000</td>\n",
              "      <td>0.0</td>\n",
              "      <td>0.0</td>\n",
              "      <td>0.0</td>\n",
              "      <td>0.0</td>\n",
              "      <td>0.0</td>\n",
              "      <td>0.0</td>\n",
              "      <td>0.000000</td>\n",
              "      <td>0.0</td>\n",
              "      <td>0.0</td>\n",
              "      <td>0.0</td>\n",
              "      <td>0.0</td>\n",
              "      <td>0.000000</td>\n",
              "      <td>0.0</td>\n",
              "      <td>0.0</td>\n",
              "      <td>0.0</td>\n",
              "      <td>0.0</td>\n",
              "      <td>0.000000</td>\n",
              "      <td>0.0</td>\n",
              "    </tr>\n",
              "    <tr>\n",
              "      <th>5</th>\n",
              "      <td>0.0</td>\n",
              "      <td>0.0</td>\n",
              "      <td>0.0</td>\n",
              "      <td>0.0</td>\n",
              "      <td>0.0</td>\n",
              "      <td>0.0</td>\n",
              "      <td>2.834734</td>\n",
              "      <td>0.372678</td>\n",
              "      <td>0.0</td>\n",
              "      <td>0.0</td>\n",
              "      <td>0.0</td>\n",
              "      <td>0.0</td>\n",
              "      <td>0.000000</td>\n",
              "      <td>0.000000</td>\n",
              "      <td>0.0</td>\n",
              "      <td>0.0</td>\n",
              "      <td>0.0</td>\n",
              "      <td>0.0</td>\n",
              "      <td>0.000000</td>\n",
              "      <td>0.0</td>\n",
              "      <td>0.0</td>\n",
              "      <td>0.0</td>\n",
              "      <td>0.0</td>\n",
              "      <td>0.0</td>\n",
              "      <td>0.0</td>\n",
              "      <td>0.0</td>\n",
              "      <td>0.0</td>\n",
              "      <td>0.340844</td>\n",
              "      <td>0.0</td>\n",
              "      <td>0.0</td>\n",
              "      <td>2.802243</td>\n",
              "      <td>0.0</td>\n",
              "      <td>0.790569</td>\n",
              "      <td>0.0</td>\n",
              "      <td>0.000000</td>\n",
              "      <td>0.0</td>\n",
              "      <td>0.0</td>\n",
              "      <td>0.0</td>\n",
              "      <td>0.000000</td>\n",
              "      <td>0.0</td>\n",
              "      <td>...</td>\n",
              "      <td>15.719079</td>\n",
              "      <td>0.0</td>\n",
              "      <td>0.000000</td>\n",
              "      <td>0.0</td>\n",
              "      <td>0.454459</td>\n",
              "      <td>2.389575</td>\n",
              "      <td>0.0</td>\n",
              "      <td>0.000000</td>\n",
              "      <td>0.0</td>\n",
              "      <td>0.0</td>\n",
              "      <td>0.000000</td>\n",
              "      <td>0.0</td>\n",
              "      <td>3.773375</td>\n",
              "      <td>3.064234</td>\n",
              "      <td>0.0</td>\n",
              "      <td>0.000000</td>\n",
              "      <td>0.0</td>\n",
              "      <td>0.0</td>\n",
              "      <td>0.0</td>\n",
              "      <td>0.000000</td>\n",
              "      <td>0.000000</td>\n",
              "      <td>7.339867</td>\n",
              "      <td>0.0</td>\n",
              "      <td>0.0</td>\n",
              "      <td>0.0</td>\n",
              "      <td>0.0</td>\n",
              "      <td>0.0</td>\n",
              "      <td>0.0</td>\n",
              "      <td>1.020621</td>\n",
              "      <td>0.0</td>\n",
              "      <td>0.0</td>\n",
              "      <td>0.0</td>\n",
              "      <td>0.0</td>\n",
              "      <td>0.000000</td>\n",
              "      <td>0.0</td>\n",
              "      <td>0.0</td>\n",
              "      <td>0.0</td>\n",
              "      <td>0.0</td>\n",
              "      <td>0.000000</td>\n",
              "      <td>2.0</td>\n",
              "    </tr>\n",
              "  </tbody>\n",
              "</table>\n",
              "<p>5 rows × 255 columns</p>\n",
              "</div>"
            ],
            "text/plain": [
              "item_id  1    2    3    4    5    6    ...  265  266  267  268       270  271\n",
              "user_id                                ...                                   \n",
              "1        0.0  0.0  0.0  0.0  0.0  0.0  ...  0.0  0.0  0.0  0.0  0.000000  0.0\n",
              "2        0.0  0.0  0.0  0.0  0.0  0.0  ...  0.0  0.0  0.0  0.0  0.000000  0.0\n",
              "3        0.0  0.0  0.0  0.0  0.0  0.0  ...  0.0  0.0  0.0  0.0  0.308607  0.0\n",
              "4        0.0  0.0  0.0  0.0  0.0  0.0  ...  0.0  0.0  0.0  0.0  0.000000  0.0\n",
              "5        0.0  0.0  0.0  0.0  0.0  0.0  ...  0.0  0.0  0.0  0.0  0.000000  2.0\n",
              "\n",
              "[5 rows x 255 columns]"
            ]
          },
          "metadata": {
            "tags": []
          },
          "execution_count": 128
        }
      ]
    },
    {
      "cell_type": "code",
      "metadata": {
        "id": "QP05sX207uVo"
      },
      "source": [
        "# top20\n",
        "user_input=5\n",
        "d = reco_pickle_model.loc[user_input].sort_values(ascending=False)[0:20]\n",
        "d = pd.merge(d,ratings[['item_id','name']],left_on='item_id',right_on='item_id', how = 'left')\n",
        "d.drop_duplicates(inplace=True)"
      ],
      "execution_count": 129,
      "outputs": []
    },
    {
      "cell_type": "code",
      "metadata": {
        "id": "N5xfkXjZ8YP1"
      },
      "source": [
        "#merging with main dataframe\n",
        "d1 = pd.merge(d,df,left_on=['name'],right_on=['name'],how = 'inner')"
      ],
      "execution_count": 130,
      "outputs": []
    },
    {
      "cell_type": "code",
      "metadata": {
        "id": "-_RmghiH8jpV",
        "colab": {
          "base_uri": "https://localhost:8080/",
          "height": 718
        },
        "outputId": "c4e8b7dc-8444-4669-cd73-387768ba7838"
      },
      "source": [
        "d1.head()"
      ],
      "execution_count": 131,
      "outputs": [
        {
          "output_type": "execute_result",
          "data": {
            "text/html": [
              "<div>\n",
              "<style scoped>\n",
              "    .dataframe tbody tr th:only-of-type {\n",
              "        vertical-align: middle;\n",
              "    }\n",
              "\n",
              "    .dataframe tbody tr th {\n",
              "        vertical-align: top;\n",
              "    }\n",
              "\n",
              "    .dataframe thead th {\n",
              "        text-align: right;\n",
              "    }\n",
              "</style>\n",
              "<table border=\"1\" class=\"dataframe\">\n",
              "  <thead>\n",
              "    <tr style=\"text-align: right;\">\n",
              "      <th></th>\n",
              "      <th>item_id</th>\n",
              "      <th>5</th>\n",
              "      <th>name</th>\n",
              "      <th>id</th>\n",
              "      <th>brand</th>\n",
              "      <th>categories</th>\n",
              "      <th>manufacturer</th>\n",
              "      <th>reviews_date</th>\n",
              "      <th>reviews_didPurchase</th>\n",
              "      <th>reviews_doRecommend</th>\n",
              "      <th>reviews_rating</th>\n",
              "      <th>reviews_text</th>\n",
              "      <th>reviews_title</th>\n",
              "      <th>reviews_userCity</th>\n",
              "      <th>reviews_userProvince</th>\n",
              "      <th>reviews_username</th>\n",
              "      <th>user_sentiment</th>\n",
              "    </tr>\n",
              "  </thead>\n",
              "  <tbody>\n",
              "    <tr>\n",
              "      <th>0</th>\n",
              "      <td>229</td>\n",
              "      <td>15.719079</td>\n",
              "      <td>Godzilla 3d Includes Digital Copy Ultraviolet ...</td>\n",
              "      <td>AVpfPaoqLJeJML435Xk9</td>\n",
              "      <td>Warner Home Video</td>\n",
              "      <td>Movies, Music &amp; Books,Movies,Action &amp; Adventur...</td>\n",
              "      <td>Test</td>\n",
              "      <td>2015-08-05T00:00:00.000Z</td>\n",
              "      <td>NaN</td>\n",
              "      <td>False</td>\n",
              "      <td>1</td>\n",
              "      <td>could have left this one on the shelf but it h...</td>\n",
              "      <td>awful</td>\n",
              "      <td>NaN</td>\n",
              "      <td>NaN</td>\n",
              "      <td>primoconcept</td>\n",
              "      <td>Positive</td>\n",
              "    </tr>\n",
              "    <tr>\n",
              "      <th>1</th>\n",
              "      <td>229</td>\n",
              "      <td>15.719079</td>\n",
              "      <td>Godzilla 3d Includes Digital Copy Ultraviolet ...</td>\n",
              "      <td>AVpfPaoqLJeJML435Xk9</td>\n",
              "      <td>Warner Home Video</td>\n",
              "      <td>Movies, Music &amp; Books,Movies,Action &amp; Adventur...</td>\n",
              "      <td>Test</td>\n",
              "      <td>2015-07-13T00:00:00.000Z</td>\n",
              "      <td>NaN</td>\n",
              "      <td>False</td>\n",
              "      <td>1</td>\n",
              "      <td>This movie is much worse that expected. The 19...</td>\n",
              "      <td>Much worse than expected</td>\n",
              "      <td>NaN</td>\n",
              "      <td>NaN</td>\n",
              "      <td>terrym</td>\n",
              "      <td>Positive</td>\n",
              "    </tr>\n",
              "    <tr>\n",
              "      <th>2</th>\n",
              "      <td>229</td>\n",
              "      <td>15.719079</td>\n",
              "      <td>Godzilla 3d Includes Digital Copy Ultraviolet ...</td>\n",
              "      <td>AVpfPaoqLJeJML435Xk9</td>\n",
              "      <td>Warner Home Video</td>\n",
              "      <td>Movies, Music &amp; Books,Movies,Action &amp; Adventur...</td>\n",
              "      <td>Test</td>\n",
              "      <td>2016-01-29T00:00:00.000Z</td>\n",
              "      <td>NaN</td>\n",
              "      <td>False</td>\n",
              "      <td>1</td>\n",
              "      <td>Just don't get the hype about Godzilla. Frankl...</td>\n",
              "      <td>Just dont get the hype</td>\n",
              "      <td>NaN</td>\n",
              "      <td>NaN</td>\n",
              "      <td>mrme</td>\n",
              "      <td>Negative</td>\n",
              "    </tr>\n",
              "    <tr>\n",
              "      <th>3</th>\n",
              "      <td>229</td>\n",
              "      <td>15.719079</td>\n",
              "      <td>Godzilla 3d Includes Digital Copy Ultraviolet ...</td>\n",
              "      <td>AVpfPaoqLJeJML435Xk9</td>\n",
              "      <td>Warner Home Video</td>\n",
              "      <td>Movies, Music &amp; Books,Movies,Action &amp; Adventur...</td>\n",
              "      <td>Test</td>\n",
              "      <td>2016-07-07T00:00:00.000Z</td>\n",
              "      <td>NaN</td>\n",
              "      <td>False</td>\n",
              "      <td>1</td>\n",
              "      <td>A little disappointed its not like the Godzill...</td>\n",
              "      <td>Not the best item</td>\n",
              "      <td>NaN</td>\n",
              "      <td>NaN</td>\n",
              "      <td>3dknights</td>\n",
              "      <td>Negative</td>\n",
              "    </tr>\n",
              "    <tr>\n",
              "      <th>4</th>\n",
              "      <td>229</td>\n",
              "      <td>15.719079</td>\n",
              "      <td>Godzilla 3d Includes Digital Copy Ultraviolet ...</td>\n",
              "      <td>AVpfPaoqLJeJML435Xk9</td>\n",
              "      <td>Warner Home Video</td>\n",
              "      <td>Movies, Music &amp; Books,Movies,Action &amp; Adventur...</td>\n",
              "      <td>Test</td>\n",
              "      <td>2016-12-02T00:00:00.000Z</td>\n",
              "      <td>NaN</td>\n",
              "      <td>True</td>\n",
              "      <td>1</td>\n",
              "      <td>It was on sale, so I bought it. After I got it...</td>\n",
              "      <td>Good movie, bad packaging.</td>\n",
              "      <td>NaN</td>\n",
              "      <td>NaN</td>\n",
              "      <td>master</td>\n",
              "      <td>Negative</td>\n",
              "    </tr>\n",
              "  </tbody>\n",
              "</table>\n",
              "</div>"
            ],
            "text/plain": [
              "   item_id          5  ... reviews_username user_sentiment\n",
              "0      229  15.719079  ...     primoconcept       Positive\n",
              "1      229  15.719079  ...           terrym       Positive\n",
              "2      229  15.719079  ...             mrme       Negative\n",
              "3      229  15.719079  ...        3dknights       Negative\n",
              "4      229  15.719079  ...           master       Negative\n",
              "\n",
              "[5 rows x 17 columns]"
            ]
          },
          "metadata": {
            "tags": []
          },
          "execution_count": 131
        }
      ]
    },
    {
      "cell_type": "code",
      "metadata": {
        "id": "Cos90o06uzxG"
      },
      "source": [
        "# cleaning the data\n",
        "d1_clean= clean(d1, keep_name=True)"
      ],
      "execution_count": 132,
      "outputs": []
    },
    {
      "cell_type": "code",
      "metadata": {
        "id": "KkNi1Brav5ES"
      },
      "source": [
        "# dropping duplicates\n",
        "d1_clean.drop_duplicates(inplace=True)"
      ],
      "execution_count": 133,
      "outputs": []
    },
    {
      "cell_type": "code",
      "metadata": {
        "colab": {
          "base_uri": "https://localhost:8080/"
        },
        "id": "oX6d6ABDv7Sq",
        "outputId": "2738611b-5dcd-4f62-a7ee-c54d7d6a2ca0"
      },
      "source": [
        "d1_clean.shape"
      ],
      "execution_count": 134,
      "outputs": [
        {
          "output_type": "execute_result",
          "data": {
            "text/plain": [
              "(20167, 3)"
            ]
          },
          "metadata": {
            "tags": []
          },
          "execution_count": 134
        }
      ]
    },
    {
      "cell_type": "code",
      "metadata": {
        "colab": {
          "base_uri": "https://localhost:8080/"
        },
        "id": "x9pJQcpAzWqJ",
        "outputId": "a2b5d300-b399-4a0e-cc39-59abb22cc899"
      },
      "source": [
        "# applying tfidf\n",
        "tv_reviews=tfidf_model.transform(d1_clean['reviews_text_title'].to_list())\n",
        "print('Tfidf:',tv_reviews.shape)"
      ],
      "execution_count": 135,
      "outputs": [
        {
          "output_type": "stream",
          "text": [
            "Tfidf: (20167, 3572)\n"
          ],
          "name": "stdout"
        }
      ]
    },
    {
      "cell_type": "code",
      "metadata": {
        "id": "GaSADIJX3Zqj"
      },
      "source": [
        "# prediction using XGBoost\n",
        "d1_clean['final_pred']=xg_pickle_model.predict(tv_reviews)"
      ],
      "execution_count": 136,
      "outputs": []
    },
    {
      "cell_type": "code",
      "metadata": {
        "id": "mSKu1GYi38vp"
      },
      "source": [
        "# getting number of predicted positives and total count of reviews of each item\n",
        "final_df=d1_clean[['name','final_pred']].groupby(by='name').agg(['sum','count'])"
      ],
      "execution_count": 137,
      "outputs": []
    },
    {
      "cell_type": "code",
      "metadata": {
        "colab": {
          "base_uri": "https://localhost:8080/",
          "height": 703
        },
        "id": "1kEOnyWv4P12",
        "outputId": "fd91aefb-9212-452c-e71f-97e178fd1c01"
      },
      "source": [
        "final_df"
      ],
      "execution_count": 138,
      "outputs": [
        {
          "output_type": "execute_result",
          "data": {
            "text/html": [
              "<div>\n",
              "<style scoped>\n",
              "    .dataframe tbody tr th:only-of-type {\n",
              "        vertical-align: middle;\n",
              "    }\n",
              "\n",
              "    .dataframe tbody tr th {\n",
              "        vertical-align: top;\n",
              "    }\n",
              "\n",
              "    .dataframe thead tr th {\n",
              "        text-align: left;\n",
              "    }\n",
              "\n",
              "    .dataframe thead tr:last-of-type th {\n",
              "        text-align: right;\n",
              "    }\n",
              "</style>\n",
              "<table border=\"1\" class=\"dataframe\">\n",
              "  <thead>\n",
              "    <tr>\n",
              "      <th></th>\n",
              "      <th colspan=\"2\" halign=\"left\">final_pred</th>\n",
              "    </tr>\n",
              "    <tr>\n",
              "      <th></th>\n",
              "      <th>sum</th>\n",
              "      <th>count</th>\n",
              "    </tr>\n",
              "    <tr>\n",
              "      <th>name</th>\n",
              "      <th></th>\n",
              "      <th></th>\n",
              "    </tr>\n",
              "  </thead>\n",
              "  <tbody>\n",
              "    <tr>\n",
              "      <th>Boraam Sonoma Kitchen Cart With Wire Brush Gray - Maaya Home</th>\n",
              "      <td>19</td>\n",
              "      <td>23</td>\n",
              "    </tr>\n",
              "    <tr>\n",
              "      <th>Burt's Bees Lip Shimmer, Raisin</th>\n",
              "      <td>607</td>\n",
              "      <td>873</td>\n",
              "    </tr>\n",
              "    <tr>\n",
              "      <th>Chester's Cheese Flavored Puffcorn Snacks</th>\n",
              "      <td>109</td>\n",
              "      <td>177</td>\n",
              "    </tr>\n",
              "    <tr>\n",
              "      <th>Clorox Disinfecting Bathroom Cleaner</th>\n",
              "      <td>1611</td>\n",
              "      <td>1908</td>\n",
              "    </tr>\n",
              "    <tr>\n",
              "      <th>Clorox Disinfecting Wipes Value Pack Scented 150 Ct Total</th>\n",
              "      <td>6383</td>\n",
              "      <td>7841</td>\n",
              "    </tr>\n",
              "    <tr>\n",
              "      <th>Godzilla 3d Includes Digital Copy Ultraviolet 3d/2d Blu-Ray/dvd</th>\n",
              "      <td>2552</td>\n",
              "      <td>3322</td>\n",
              "    </tr>\n",
              "    <tr>\n",
              "      <th>Hoover174 Platinum Collection153 Lightweight Bagged Upright Vacuum With Canister - Uh30010com</th>\n",
              "      <td>285</td>\n",
              "      <td>347</td>\n",
              "    </tr>\n",
              "    <tr>\n",
              "      <th>Hormel Chili, No Beans</th>\n",
              "      <td>118</td>\n",
              "      <td>196</td>\n",
              "    </tr>\n",
              "    <tr>\n",
              "      <th>Jason Aldean - They Don't Know</th>\n",
              "      <td>143</td>\n",
              "      <td>204</td>\n",
              "    </tr>\n",
              "    <tr>\n",
              "      <th>L'or233al Paris Elvive Extraordinary Clay Rebalancing Conditioner - 12.6 Fl Oz</th>\n",
              "      <td>726</td>\n",
              "      <td>790</td>\n",
              "    </tr>\n",
              "    <tr>\n",
              "      <th>My Big Fat Greek Wedding 2 (blu-Ray + Dvd + Digital)</th>\n",
              "      <td>586</td>\n",
              "      <td>667</td>\n",
              "    </tr>\n",
              "    <tr>\n",
              "      <th>Olay Regenerist Deep Hydration Regenerating Cream</th>\n",
              "      <td>469</td>\n",
              "      <td>627</td>\n",
              "    </tr>\n",
              "    <tr>\n",
              "      <th>Planes: Fire Rescue (2 Discs) (includes Digital Copy) (blu-Ray/dvd)</th>\n",
              "      <td>971</td>\n",
              "      <td>1138</td>\n",
              "    </tr>\n",
              "    <tr>\n",
              "      <th>Red (special Edition) (dvdvideo)</th>\n",
              "      <td>558</td>\n",
              "      <td>671</td>\n",
              "    </tr>\n",
              "    <tr>\n",
              "      <th>Soothing Touch Lemon Cardamom Vegan Lip Balm .25 Oz</th>\n",
              "      <td>3</td>\n",
              "      <td>6</td>\n",
              "    </tr>\n",
              "    <tr>\n",
              "      <th>Stargate (ws) (ultimate Edition) (director's Cut) (dvdvideo)</th>\n",
              "      <td>155</td>\n",
              "      <td>186</td>\n",
              "    </tr>\n",
              "    <tr>\n",
              "      <th>The Honest Company Laundry Detergent</th>\n",
              "      <td>15</td>\n",
              "      <td>19</td>\n",
              "    </tr>\n",
              "    <tr>\n",
              "      <th>The Resident Evil Collection 5 Discs (blu-Ray)</th>\n",
              "      <td>565</td>\n",
              "      <td>844</td>\n",
              "    </tr>\n",
              "    <tr>\n",
              "      <th>Tostitos Bite Size Tortilla Chips</th>\n",
              "      <td>156</td>\n",
              "      <td>263</td>\n",
              "    </tr>\n",
              "    <tr>\n",
              "      <th>Yes To Carrots Nourishing Body Wash</th>\n",
              "      <td>58</td>\n",
              "      <td>65</td>\n",
              "    </tr>\n",
              "  </tbody>\n",
              "</table>\n",
              "</div>"
            ],
            "text/plain": [
              "                                                   final_pred      \n",
              "                                                          sum count\n",
              "name                                                               \n",
              "Boraam Sonoma Kitchen Cart With Wire Brush Gray...         19    23\n",
              "Burt's Bees Lip Shimmer, Raisin                           607   873\n",
              "Chester's Cheese Flavored Puffcorn Snacks                 109   177\n",
              "Clorox Disinfecting Bathroom Cleaner                     1611  1908\n",
              "Clorox Disinfecting Wipes Value Pack Scented 15...       6383  7841\n",
              "Godzilla 3d Includes Digital Copy Ultraviolet 3...       2552  3322\n",
              "Hoover174 Platinum Collection153 Lightweight Ba...        285   347\n",
              "Hormel Chili, No Beans                                    118   196\n",
              "Jason Aldean - They Don't Know                            143   204\n",
              "L'or233al Paris Elvive Extraordinary Clay Rebal...        726   790\n",
              "My Big Fat Greek Wedding 2 (blu-Ray + Dvd + Dig...        586   667\n",
              "Olay Regenerist Deep Hydration Regenerating Cream         469   627\n",
              "Planes: Fire Rescue (2 Discs) (includes Digital...        971  1138\n",
              "Red (special Edition) (dvdvideo)                          558   671\n",
              "Soothing Touch Lemon Cardamom Vegan Lip Balm .2...          3     6\n",
              "Stargate (ws) (ultimate Edition) (director's Cu...        155   186\n",
              "The Honest Company Laundry Detergent                       15    19\n",
              "The Resident Evil Collection 5 Discs (blu-Ray)            565   844\n",
              "Tostitos Bite Size Tortilla Chips                         156   263\n",
              "Yes To Carrots Nourishing Body Wash                        58    65"
            ]
          },
          "metadata": {
            "tags": []
          },
          "execution_count": 138
        }
      ]
    },
    {
      "cell_type": "code",
      "metadata": {
        "id": "kcxqV1g456T7"
      },
      "source": [
        "# getting %of positive predicted reviews\n",
        "final_df['%']=final_df['final_pred']['sum']/final_df['final_pred']['count']"
      ],
      "execution_count": 139,
      "outputs": []
    },
    {
      "cell_type": "code",
      "metadata": {
        "id": "-hEEAk2A9sfz"
      },
      "source": [
        "# sorting based on highest %\n",
        "final_df=final_df.sort_values(by='%',ascending=False)"
      ],
      "execution_count": 140,
      "outputs": []
    },
    {
      "cell_type": "code",
      "metadata": {
        "colab": {
          "base_uri": "https://localhost:8080/"
        },
        "id": "q-jtM7Xe-OGt",
        "outputId": "f5cb1ec4-cd1a-402c-e2a2-72e7593205b8"
      },
      "source": [
        "# top 5 recommendation\n",
        "final_df.index[:5]"
      ],
      "execution_count": 141,
      "outputs": [
        {
          "output_type": "execute_result",
          "data": {
            "text/plain": [
              "Index(['L'or233al Paris Elvive Extraordinary Clay Rebalancing Conditioner - 12.6 Fl Oz',\n",
              "       'Yes To Carrots Nourishing Body Wash',\n",
              "       'My Big Fat Greek Wedding 2 (blu-Ray + Dvd + Digital)',\n",
              "       'Planes: Fire Rescue (2 Discs) (includes Digital Copy) (blu-Ray/dvd)',\n",
              "       'Clorox Disinfecting Bathroom Cleaner'],\n",
              "      dtype='object', name='name')"
            ]
          },
          "metadata": {
            "tags": []
          },
          "execution_count": 141
        }
      ]
    }
  ]
}